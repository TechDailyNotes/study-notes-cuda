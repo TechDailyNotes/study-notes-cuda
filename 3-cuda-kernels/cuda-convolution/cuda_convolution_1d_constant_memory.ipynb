{
  "nbformat": 4,
  "nbformat_minor": 0,
  "metadata": {
    "colab": {
      "provenance": [],
      "gpuType": "L4",
      "authorship_tag": "ABX9TyNg/3fT4UvV7dbRhKBfQyGu",
      "include_colab_link": true
    },
    "kernelspec": {
      "name": "python3",
      "display_name": "Python 3"
    },
    "language_info": {
      "name": "python"
    },
    "accelerator": "GPU"
  },
  "cells": [
    {
      "cell_type": "markdown",
      "metadata": {
        "id": "view-in-github",
        "colab_type": "text"
      },
      "source": [
        "<a href=\"https://colab.research.google.com/github/TechDailyNotes/study-notes-cuda/blob/main/cuda_convolution_1d_constant_memory.ipynb\" target=\"_parent\"><img src=\"https://colab.research.google.com/assets/colab-badge.svg\" alt=\"Open In Colab\"/></a>"
      ]
    },
    {
      "cell_type": "code",
      "execution_count": 3,
      "metadata": {
        "colab": {
          "base_uri": "https://localhost:8080/"
        },
        "id": "IkukEDEteaT5",
        "outputId": "1feb30bf-1025-4e8f-ead1-4aee729e067b"
      },
      "outputs": [
        {
          "output_type": "stream",
          "name": "stdout",
          "text": [
            "nvcc: NVIDIA (R) Cuda compiler driver\n",
            "Copyright (c) 2005-2023 NVIDIA Corporation\n",
            "Built on Tue_Aug_15_22:02:13_PDT_2023\n",
            "Cuda compilation tools, release 12.2, V12.2.140\n",
            "Build cuda_12.2.r12.2/compiler.33191640_0\n",
            "Requirement already satisfied: nvcc4jupyter in /usr/local/lib/python3.10/dist-packages (1.2.1)\n",
            "Detected platform \"Colab\". Running its setup...\n",
            "Source files will be saved in \"/tmp/tmpdemm6xht\".\n"
          ]
        }
      ],
      "source": [
        "!nvcc --version\n",
        "!python3 -m pip install nvcc4jupyter\n",
        "%load_ext nvcc4jupyter"
      ]
    },
    {
      "cell_type": "code",
      "source": [
        "%%cuda\n",
        "\n",
        "#include <cuda_runtime.h>\n",
        "#include <cmath>\n",
        "#include <iostream>\n",
        "\n",
        "#define M 7\n",
        "\n",
        "using namespace std;\n",
        "\n",
        "__constant__ int d_msk[M];\n",
        "\n",
        "__global__ void convolve_1d(int *d_vec, int *d_res, int n) {\n",
        "    int tid = threadIdx.x + blockIdx.x * blockDim.x;\n",
        "    if (tid >= n) return;\n",
        "\n",
        "    int tmp = 0;\n",
        "    int lo = tid - M / 2;\n",
        "    int hi = tid + M / 2;\n",
        "\n",
        "    for (int i = lo; i <= hi; i++) {\n",
        "        if (i < 0 || i >= n) continue;\n",
        "        tmp += d_vec[i] * d_msk[i-lo];\n",
        "    }\n",
        "\n",
        "    d_res[tid] = tmp;\n",
        "}\n",
        "\n",
        "void verify_result(int *h_vec, int *h_msk, int *h_res, int n) {\n",
        "    for (int i = 0; i < n; i++) {\n",
        "        int tmp = 0;\n",
        "        int lo = i - M / 2;\n",
        "        int hi = i + M / 2;\n",
        "\n",
        "        for (int j = lo; j <= hi; j++) {\n",
        "            if (j < 0 || j > n) continue;\n",
        "            tmp += h_vec[j] * h_msk[j-lo];\n",
        "        }\n",
        "\n",
        "        if (tmp != h_res[i] && i == 0) {\n",
        "            cout << \"Incorrect: (tmp) \" << tmp << \" != \" << h_res[i] << endl;\n",
        "        }\n",
        "    }\n",
        "}\n",
        "\n",
        "int main() {\n",
        "    int n = 1 << 20;\n",
        "    int n_bytes = sizeof(int) * n;\n",
        "    int m_bytes = sizeof(int) * M;\n",
        "\n",
        "    int *h_vec = new int[n];\n",
        "    int *h_msk = new int[M];\n",
        "    int *h_res = new int[n];\n",
        "\n",
        "    for (int i = 0; i < n; i++) {\n",
        "        h_vec[i] = rand() % 100;\n",
        "        h_res[i] = 0;\n",
        "    }\n",
        "    for (int i = 0; i < M; i++) {\n",
        "        h_msk[i] = rand() % 10;\n",
        "    }\n",
        "\n",
        "    int *d_vec, *d_res;\n",
        "    cudaMalloc(&d_vec, n_bytes);\n",
        "    cudaMalloc(&d_res, n_bytes);\n",
        "\n",
        "    cudaMemcpy(d_vec, h_vec, n_bytes, cudaMemcpyHostToDevice);\n",
        "    cudaMemcpyToSymbol(d_msk, h_msk, m_bytes);\n",
        "\n",
        "    int num_threads = 1 << 8;\n",
        "    dim3 size_blck(num_threads);\n",
        "    dim3 size_grid((n + num_threads - 1) / num_threads);\n",
        "\n",
        "    convolve_1d<<<size_grid, size_blck>>>(d_vec, d_res, n);\n",
        "    cudaMemcpy(h_res, d_res, n_bytes, cudaMemcpyDeviceToHost);\n",
        "    verify_result(h_vec, h_msk, h_res, n);\n",
        "\n",
        "    cudaFree(d_vec);\n",
        "    cudaFree(d_res);\n",
        "\n",
        "    delete[] h_vec;\n",
        "    delete[] h_msk;\n",
        "    delete[] h_res;\n",
        "\n",
        "    cout << \"Success!\" << endl;\n",
        "    return 0;\n",
        "}"
      ],
      "metadata": {
        "colab": {
          "base_uri": "https://localhost:8080/"
        },
        "id": "As7i0XT4fuab",
        "outputId": "2979e66d-02c1-4967-a2a4-79d52aba5077"
      },
      "execution_count": 15,
      "outputs": [
        {
          "output_type": "stream",
          "name": "stdout",
          "text": [
            "Success!\n",
            "\n"
          ]
        }
      ]
    }
  ]
}