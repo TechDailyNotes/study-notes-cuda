{
  "nbformat": 4,
  "nbformat_minor": 0,
  "metadata": {
    "colab": {
      "provenance": [],
      "gpuType": "T4",
      "authorship_tag": "ABX9TyNr1R1jlMTw7ZYoU+IsL66N",
      "include_colab_link": true
    },
    "kernelspec": {
      "name": "python3",
      "display_name": "Python 3"
    },
    "language_info": {
      "name": "python"
    },
    "accelerator": "GPU"
  },
  "cells": [
    {
      "cell_type": "markdown",
      "metadata": {
        "id": "view-in-github",
        "colab_type": "text"
      },
      "source": [
        "<a href=\"https://colab.research.google.com/github/TechDailyNotes/study-notes-cuda/blob/main/cuda_histogram_global_memory.ipynb\" target=\"_parent\"><img src=\"https://colab.research.google.com/assets/colab-badge.svg\" alt=\"Open In Colab\"/></a>"
      ]
    },
    {
      "cell_type": "code",
      "execution_count": 21,
      "metadata": {
        "id": "lwsmPW3DnJoU",
        "colab": {
          "base_uri": "https://localhost:8080/"
        },
        "outputId": "d7af4f22-0eb3-41a2-e5d0-7b91d5f40e00"
      },
      "outputs": [
        {
          "output_type": "stream",
          "name": "stdout",
          "text": [
            "nvcc: NVIDIA (R) Cuda compiler driver\n",
            "Copyright (c) 2005-2023 NVIDIA Corporation\n",
            "Built on Tue_Aug_15_22:02:13_PDT_2023\n",
            "Cuda compilation tools, release 12.2, V12.2.140\n",
            "Build cuda_12.2.r12.2/compiler.33191640_0\n",
            "Requirement already satisfied: nvcc4jupyter in /usr/local/lib/python3.10/dist-packages (1.2.1)\n"
          ]
        }
      ],
      "source": [
        "%%sh\n",
        "nvcc --version\n",
        "python3 -m pip install nvcc4jupyter"
      ]
    },
    {
      "cell_type": "code",
      "source": [
        "%load_ext nvcc4jupyter"
      ],
      "metadata": {
        "colab": {
          "base_uri": "https://localhost:8080/"
        },
        "id": "15MIQbPVUEsS",
        "outputId": "ac011ba2-095a-482b-cd39-6d2b50a01540"
      },
      "execution_count": 22,
      "outputs": [
        {
          "output_type": "stream",
          "name": "stdout",
          "text": [
            "The nvcc4jupyter extension is already loaded. To reload it, use:\n",
            "  %reload_ext nvcc4jupyter\n"
          ]
        }
      ]
    },
    {
      "cell_type": "code",
      "source": [
        "%%cuda\n",
        "\n",
        "#include <cuda_runtime.h>\n",
        "#include <algorithm>\n",
        "#include <cassert>\n",
        "#include <cstdlib>\n",
        "#include <fstream>\n",
        "#include <iostream>\n",
        "#include <numeric>\n",
        "#include <vector>\n",
        "\n",
        "using namespace std;\n",
        "\n",
        "ostream& operator<< (ostream& os, vector<char>& vec) {\n",
        "    for (char c: vec) os << c << endl;\n",
        "    return os;\n",
        "}\n",
        "\n",
        "__global__ void histogram(char *d_input, int *d_output, int num_elements, int num_bins) {\n",
        "    int tid = threadIdx.x + blockIdx.x * blockDim.x;\n",
        "\n",
        "    for (int i = tid; i < num_elements; i += gridDim.x * blockDim.x) {\n",
        "        int idx_char = d_input[i] - 'a';\n",
        "        int idx_bin = idx_char % num_bins;\n",
        "        atomicAdd(&d_output[idx_bin], 1);\n",
        "    }\n",
        "}\n",
        "\n",
        "int main() {\n",
        "    int num_elements = 1 << 20;\n",
        "    int num_bins = 7;\n",
        "\n",
        "    size_t byte_elements = num_elements * sizeof(char);\n",
        "    size_t byte_bins = num_bins * sizeof(int);\n",
        "\n",
        "    vector<char> h_input(num_elements);\n",
        "    vector<int> h_output(num_bins);\n",
        "\n",
        "    srand(1);\n",
        "    generate(begin(h_input), end(h_input), [](){return 'a' + rand() % 26;});\n",
        "    // cout << h_input;\n",
        "\n",
        "    char *d_input;\n",
        "    int *d_output;\n",
        "\n",
        "    cudaMalloc(&d_input, byte_elements);\n",
        "    cudaMalloc(&d_output, byte_bins);\n",
        "    cudaMemcpy(d_input, h_input.data(), byte_elements, cudaMemcpyHostToDevice);\n",
        "\n",
        "    int num_threads = 1 << 8;\n",
        "    dim3 size_block(num_threads);\n",
        "    dim3 size_grid((num_elements + num_threads - 1) / num_threads);\n",
        "    histogram<<<size_grid, size_block>>>(d_input, d_output, num_elements, num_bins);\n",
        "\n",
        "    cudaMemcpy(h_output.data(), d_output, byte_bins, cudaMemcpyDeviceToHost);\n",
        "    assert(num_elements == accumulate(begin(h_output), end(h_output), 0));\n",
        "\n",
        "    ofstream output_file;\n",
        "    output_file.open(\"histogram.dat\", ios::out | ios::trunc);\n",
        "    for (int i = 0; i < num_bins; i++) {\n",
        "        output_file << \"h_output[\" << i << \"] = \" << h_output[i] << \"\\n\";\n",
        "    }\n",
        "    output_file.close();\n",
        "\n",
        "    cudaFree(d_input);\n",
        "    cudaFree(d_output);\n",
        "\n",
        "    cout << \"Success!\" << endl;\n",
        "    return 0;\n",
        "}"
      ],
      "metadata": {
        "colab": {
          "base_uri": "https://localhost:8080/"
        },
        "id": "Dm0obKVdUM2C",
        "outputId": "d4c15163-5610-4795-8f4e-36a8615091f0"
      },
      "execution_count": 23,
      "outputs": [
        {
          "output_type": "stream",
          "name": "stdout",
          "text": [
            "Success!\n",
            "\n"
          ]
        }
      ]
    },
    {
      "cell_type": "markdown",
      "source": [
        "# Practice"
      ],
      "metadata": {
        "id": "zlAuO37-cKiV"
      }
    },
    {
      "cell_type": "code",
      "source": [
        "%%cuda\n",
        "\n",
        "#include <cuda_runtime.h>\n",
        "#include <algorithm>\n",
        "#include <cassert>\n",
        "#include <cstdlib>\n",
        "#include <fstream>\n",
        "#include <iostream>\n",
        "#include <numeric>\n",
        "#include <vector>\n",
        "\n",
        "using namespace std;\n",
        "\n",
        "constexpr int NUM_CHARS = 26;\n",
        "\n",
        "ostream& operator<< (ostream& os, vector<char>& vec) {\n",
        "    for (char c: vec) os << c << endl;\n",
        "    return os;\n",
        "}\n",
        "\n",
        "__global__ void histogram(char *d_elements, int *d_bins, int num_elements, int num_bins) {\n",
        "    int tid = threadIdx.x + blockIdx.x * blockDim.x;\n",
        "    for (int i = tid; i < num_elements; i += gridDim.x * blockDim.x) {\n",
        "        int idx_bin = (d_elements[i] - 'a') % num_bins;\n",
        "        atomicAdd(&d_bins[idx_bin], 1);\n",
        "    }\n",
        "}\n",
        "\n",
        "int main() {\n",
        "    int num_elements = 1 << 20;\n",
        "    int num_bins = 7;\n",
        "\n",
        "    size_t byte_elements = sizeof(char) * num_elements;\n",
        "    size_t byte_bins = sizeof(int) * num_bins;\n",
        "\n",
        "    vector<char> h_elements(num_elements);\n",
        "    vector<int> h_bins(num_bins);\n",
        "\n",
        "    srand(1);\n",
        "    generate(\n",
        "        begin(h_elements), end(h_elements),\n",
        "        [](){return 'a' + rand() % NUM_CHARS;}\n",
        "    );\n",
        "    // cout << h_elements;\n",
        "\n",
        "    char *d_elements;\n",
        "    int *d_bins;\n",
        "\n",
        "    cudaMalloc(&d_elements, byte_elements);\n",
        "    cudaMalloc(&d_bins, byte_bins);\n",
        "    cudaMemcpy(d_elements, h_elements.data(), byte_elements, cudaMemcpyHostToDevice);\n",
        "\n",
        "    int num_threads = 1 << 8;\n",
        "    dim3 size_block(num_threads);\n",
        "    dim3 size_grid((num_elements + num_threads - 1) / num_threads);\n",
        "    histogram<<<size_grid, size_block>>>(d_elements, d_bins, num_elements, num_bins);\n",
        "\n",
        "    cudaMemcpy(h_bins.data(), d_bins, byte_bins, cudaMemcpyDeviceToHost);\n",
        "    assert(num_elements == accumulate(begin(h_bins), end(h_bins), 0));\n",
        "\n",
        "    ofstream f_output;\n",
        "    f_output.open(\"histogram.dat\", ios::out | ios::trunc);\n",
        "    for (int i = 0; i < num_bins; i++) {\n",
        "        f_output << \"h_output[\" << i << \"] = \" << h_bins[i] << endl;\n",
        "    }\n",
        "    f_output.close();\n",
        "\n",
        "    cudaFree(d_elements);\n",
        "    cudaFree(d_bins);\n",
        "\n",
        "    cout << \"Success!\" << endl;\n",
        "\n",
        "    return 0;\n",
        "}"
      ],
      "metadata": {
        "colab": {
          "base_uri": "https://localhost:8080/"
        },
        "id": "XCjiyPCectPv",
        "outputId": "8857e67c-ad75-4df0-a1b0-8d6e7c4bd951"
      },
      "execution_count": 37,
      "outputs": [
        {
          "output_type": "stream",
          "name": "stdout",
          "text": [
            "Success!\n",
            "\n"
          ]
        }
      ]
    },
    {
      "cell_type": "markdown",
      "source": [
        "# Profiler"
      ],
      "metadata": {
        "id": "ShYt0A-DcL85"
      }
    },
    {
      "cell_type": "code",
      "source": [
        "# Mount google drive to use a persistent directory structure\n",
        "from google.colab import drive\n",
        "drive.mount('/content/gdrive')\n",
        "\n",
        "FOLDER = \"cuda\"\n",
        "ORG = \"TechDailyNotes\"\n",
        "REPO = \"study-notes-cuda\""
      ],
      "metadata": {
        "id": "yB40n5O4cNIV",
        "colab": {
          "base_uri": "https://localhost:8080/"
        },
        "outputId": "9038a716-d7fb-408e-cb7f-aed835c34b48"
      },
      "execution_count": 38,
      "outputs": [
        {
          "output_type": "stream",
          "name": "stdout",
          "text": [
            "Mounted at /content/gdrive\n"
          ]
        }
      ]
    },
    {
      "cell_type": "code",
      "source": [
        "# %mkdir /content/gdrive/MyDrive/{FOLDER}\n",
        "# %cd /content/gdrive/MyDrive/{FOLDER}\n",
        "# !echo 'YOUR_TOKEN' > /content/gdrive/MyDrive/{FOLDER}/token.txt\n",
        "# !echo 'YOUR_HANDLE' > /content/gdrive/MyDrive/{FOLDER}/git_username.txt"
      ],
      "metadata": {
        "id": "XLruoao5icMi"
      },
      "execution_count": 40,
      "outputs": []
    },
    {
      "cell_type": "code",
      "source": [
        "%cd /content/gdrive/MyDrive/{FOLDER}\n",
        "with open(f'/content/gdrive/MyDrive/{FOLDER}/token.txt') as f:\n",
        "    token = f.readline().strip()\n",
        "with open(f'/content/gdrive/MyDrive/{FOLDER}/git_username.txt') as f:\n",
        "    handle = f.readline().strip()\n",
        "\n",
        "YOUR_TOKEN = token\n",
        "YOUR_HANDLE = handle\n",
        "\n",
        "!git clone https://{YOUR_TOKEN}@github.com/{ORG}/{REPO}.git\n",
        "%cd /content/gdrive/MyDrive/{FOLDER}/{REPO}\n",
        "!git pull\n",
        "!ls"
      ],
      "metadata": {
        "colab": {
          "base_uri": "https://localhost:8080/"
        },
        "id": "XByyb8Bjifvp",
        "outputId": "3c1bac29-386b-4bd1-923c-0b78ab8d10e9"
      },
      "execution_count": 47,
      "outputs": [
        {
          "output_type": "stream",
          "name": "stdout",
          "text": [
            "/content/gdrive/MyDrive/cuda\n",
            "fatal: destination path 'study-notes-cuda' already exists and is not an empty directory.\n",
            "/content/gdrive/MyDrive/cuda/study-notes-cuda\n",
            "remote: Enumerating objects: 5, done.\u001b[K\n",
            "remote: Counting objects: 100% (5/5), done.\u001b[K\n",
            "remote: Compressing objects: 100% (3/3), done.\u001b[K\n",
            "remote: Total 3 (delta 2), reused 0 (delta 0), pack-reused 0 (from 0)\u001b[K\n",
            "Unpacking objects: 100% (3/3), 1010 bytes | 22.00 KiB/s, done.\n",
            "From https://github.com/TechDailyNotes/study-notes-cuda\n",
            "   d9662d1..27664ee  main       -> origin/main\n",
            "Updating d9662d1..27664ee\n",
            "Fast-forward\n",
            " cuda_histogram.cu | 10 \u001b[32m+++++\u001b[m\u001b[31m-----\u001b[m\n",
            " 1 file changed, 5 insertions(+), 5 deletions(-)\n",
            "basics\t\t\t\t\t   cuda_convolution_1d_tiled.ipynb\n",
            "cuda_basics.ipynb\t\t\t   cuda_convolution_2d_constant_memory\n",
            "cuda_convolution_1d_cache\t\t   cuda_convolution_2d_constant_memory.cu\n",
            "cuda_convolution_1d_cache.cu\t\t   cuda_convolution_2d_constant_memory.ipynb\n",
            "cuda_convolution_1d_cache.ipynb\t\t   cuda_convolution_2d_tiled\n",
            "cuda_convolution_1d_constant_memory\t   cuda_convolution_2d_tiled.cu\n",
            "cuda_convolution_1d_constant_memory.cu\t   cuda_convolution_2d_tiled.ipynb\n",
            "cuda_convolution_1d_constant_memory.ipynb  cuda_cublas.ipynb\n",
            "cuda_convolution_1d_naive\t\t   cuda_histogram.cu\n",
            "cuda_convolution_1d_naive.cu\t\t   cuda_histogram.ipynb\n",
            "cuda_convolution_1d_naive.ipynb\t\t   cuda.ipynb\n",
            "cuda_convolution_1d_tiled\t\t   cuda_parallel_reduction.ipynb\n",
            "cuda_convolution_1d_tiled.cu\t\t   README.md\n"
          ]
        }
      ]
    },
    {
      "cell_type": "code",
      "source": [
        "%%sh\n",
        "nvcc -o cuda_histogram cuda_histogram.cu"
      ],
      "metadata": {
        "id": "0v3f3I0EijB6"
      },
      "execution_count": 48,
      "outputs": []
    },
    {
      "cell_type": "code",
      "source": [
        "!nvprof ./cuda_histogram"
      ],
      "metadata": {
        "colab": {
          "base_uri": "https://localhost:8080/"
        },
        "id": "OZX5xjZujJ8e",
        "outputId": "3438c7b9-44bc-4c4e-995c-fe27cba09d5f"
      },
      "execution_count": 54,
      "outputs": [
        {
          "output_type": "stream",
          "name": "stdout",
          "text": [
            "==19866== NVPROF is profiling process 19866, command: ./cuda_histogram\n",
            "Success!\n",
            "==19866== Profiling application: ./cuda_histogram\n",
            "==19866== Profiling result:\n",
            "            Type  Time(%)      Time     Calls       Avg       Min       Max  Name\n",
            " GPU activities:   85.65%  539.54us         1  539.54us  539.54us  539.54us  histogram(char*, int*, int, int)\n",
            "                   14.02%  88.350us         1  88.350us  88.350us  88.350us  [CUDA memcpy HtoD]\n",
            "                    0.33%  2.0800us         1  2.0800us  2.0800us  2.0800us  [CUDA memcpy DtoH]\n",
            "      API calls:   98.02%  68.976ms         2  34.488ms  7.5160us  68.969ms  cudaMalloc\n",
            "                    1.17%  823.67us         2  411.83us  273.61us  550.05us  cudaMemcpy\n",
            "                    0.32%  226.77us         2  113.39us  18.660us  208.11us  cudaFree\n",
            "                    0.26%  186.10us         1  186.10us  186.10us  186.10us  cudaLaunchKernel\n",
            "                    0.18%  128.48us       114  1.1260us     150ns  50.529us  cuDeviceGetAttribute\n",
            "                    0.02%  12.067us         1  12.067us  12.067us  12.067us  cuDeviceGetName\n",
            "                    0.01%  5.0710us         1  5.0710us  5.0710us  5.0710us  cuDeviceGetPCIBusId\n",
            "                    0.01%  4.5040us         1  4.5040us  4.5040us  4.5040us  cuDeviceTotalMem\n",
            "                    0.00%  2.0800us         3     693ns     277ns  1.5250us  cuDeviceGetCount\n",
            "                    0.00%     779ns         2     389ns     198ns     581ns  cuDeviceGet\n",
            "                    0.00%     482ns         1     482ns     482ns     482ns  cuModuleGetLoadingMode\n",
            "                    0.00%     235ns         1     235ns     235ns     235ns  cuDeviceGetUuid\n"
          ]
        }
      ]
    },
    {
      "cell_type": "code",
      "source": [],
      "metadata": {
        "id": "2bo8lihCjs9D"
      },
      "execution_count": 51,
      "outputs": []
    }
  ]
}