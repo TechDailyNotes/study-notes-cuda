{
  "nbformat": 4,
  "nbformat_minor": 0,
  "metadata": {
    "colab": {
      "provenance": [],
      "machine_shape": "hm",
      "gpuType": "A100",
      "authorship_tag": "ABX9TyO0Um8VWriJS+QAR1zAA9sX",
      "include_colab_link": true
    },
    "kernelspec": {
      "name": "python3",
      "display_name": "Python 3"
    },
    "language_info": {
      "name": "python"
    },
    "accelerator": "GPU"
  },
  "cells": [
    {
      "cell_type": "markdown",
      "metadata": {
        "id": "view-in-github",
        "colab_type": "text"
      },
      "source": [
        "<a href=\"https://colab.research.google.com/github/TechDailyNotes/study-notes-cuda/blob/main/cuda_cublas.ipynb\" target=\"_parent\"><img src=\"https://colab.research.google.com/assets/colab-badge.svg\" alt=\"Open In Colab\"/></a>"
      ]
    },
    {
      "cell_type": "code",
      "execution_count": 1,
      "metadata": {
        "colab": {
          "base_uri": "https://localhost:8080/"
        },
        "id": "o3DrBDIUkgxs",
        "outputId": "ae4db488-8ca2-4ec3-ca33-4fc214cb5701"
      },
      "outputs": [
        {
          "output_type": "stream",
          "name": "stdout",
          "text": [
            "nvcc: NVIDIA (R) Cuda compiler driver\n",
            "Copyright (c) 2005-2023 NVIDIA Corporation\n",
            "Built on Tue_Aug_15_22:02:13_PDT_2023\n",
            "Cuda compilation tools, release 12.2, V12.2.140\n",
            "Build cuda_12.2.r12.2/compiler.33191640_0\n",
            "Collecting nvcc4jupyter\n",
            "  Downloading nvcc4jupyter-1.2.1-py3-none-any.whl (10 kB)\n",
            "Installing collected packages: nvcc4jupyter\n",
            "Successfully installed nvcc4jupyter-1.2.1\n",
            "Detected platform \"Colab\". Running its setup...\n",
            "Source files will be saved in \"/tmp/tmpwnq7_b_c\".\n"
          ]
        }
      ],
      "source": [
        "!nvcc --version\n",
        "!pip install nvcc4jupyter\n",
        "%load_ext nvcc4jupyter"
      ]
    },
    {
      "cell_type": "markdown",
      "source": [
        "# Chapter 1: cuBLAS Vector Addition"
      ],
      "metadata": {
        "id": "tojYIL4yk5HD"
      }
    },
    {
      "cell_type": "code",
      "source": [
        "%%cuda\n",
        "\n",
        "#include <assert.h>\n",
        "#include <cublas_v2.h>\n",
        "#include <cuda_runtime.h>\n",
        "#include <stdio.h>\n",
        "\n",
        "void arrayInit(float *a, int n) {\n",
        "    for (int i = 0; i < n; i++) {\n",
        "        a[i] = (float) (rand() % 100);\n",
        "    }\n",
        "}\n",
        "\n",
        "void arrayVerify(float *a, float *b, float *c, float scale, int n) {\n",
        "    for (int i = 0; i < n; i++) {\n",
        "        assert(c[i] == scale * a[i] + b[i]);\n",
        "    }\n",
        "}\n",
        "\n",
        "int main() {\n",
        "    int n = 1 << 4;\n",
        "    size_t bytes = sizeof(float) * n;\n",
        "\n",
        "    float *h_a = (float*) malloc(bytes);\n",
        "    float *h_b = (float*) malloc(bytes);\n",
        "    float *h_c = (float*) malloc(bytes);\n",
        "\n",
        "    arrayInit(h_a, n);\n",
        "    arrayInit(h_b, n);\n",
        "    arrayInit(h_c, n);\n",
        "\n",
        "    float *d_a, *d_b;\n",
        "    cudaMalloc(&d_a, bytes);\n",
        "    cudaMalloc(&d_b, bytes);\n",
        "\n",
        "    cublasHandle_t handle;\n",
        "    cublasCreate_v2(&handle);\n",
        "\n",
        "    cublasSetVector(n, sizeof(float), h_a, 1, d_a, 1);\n",
        "    cublasSetVector(n, sizeof(float), h_b, 1, d_b, 1);\n",
        "\n",
        "    const float scale = 1.0f;\n",
        "    cublasSaxpy(handle, n, &scale, d_a, 1, d_b, 1);\n",
        "\n",
        "    cublasGetVector(n, sizeof(float), d_b, 1, h_c, 1);\n",
        "\n",
        "    arrayVerify(h_a, h_b, h_c, scale, n);\n",
        "\n",
        "    cublasDestroy(handle);\n",
        "\n",
        "    cudaFree(d_a);\n",
        "    cudaFree(d_b);\n",
        "\n",
        "    free(h_a);\n",
        "    free(h_b);\n",
        "    free(h_c);\n",
        "\n",
        "    printf(\"Success!\");\n",
        "    return 0;\n",
        "}"
      ],
      "metadata": {
        "id": "ZUhMp0Jnk3Ui",
        "colab": {
          "base_uri": "https://localhost:8080/"
        },
        "outputId": "e4acc312-7c5c-4a27-e75c-045b29457d20"
      },
      "execution_count": 25,
      "outputs": [
        {
          "output_type": "stream",
          "name": "stdout",
          "text": [
            "/usr/bin/ld: /tmp/tmpxft_00005832_00000000-11_single_file.o: in function `main':\n",
            "tmpxft_00005832_00000000-6_single_file.cudafe1.cpp:(.text+0x210): undefined reference to `cublasCreate_v2'\n",
            "/usr/bin/ld: tmpxft_00005832_00000000-6_single_file.cudafe1.cpp:(.text+0x235): undefined reference to `cublasSetVector'\n",
            "/usr/bin/ld: tmpxft_00005832_00000000-6_single_file.cudafe1.cpp:(.text+0x25a): undefined reference to `cublasSetVector'\n",
            "/usr/bin/ld: tmpxft_00005832_00000000-6_single_file.cudafe1.cpp:(.text+0x291): undefined reference to `cublasSaxpy_v2'\n",
            "/usr/bin/ld: tmpxft_00005832_00000000-6_single_file.cudafe1.cpp:(.text+0x2ba): undefined reference to `cublasGetVector'\n",
            "/usr/bin/ld: tmpxft_00005832_00000000-6_single_file.cudafe1.cpp:(.text+0x2e7): undefined reference to `cublasDestroy_v2'\n",
            "collect2: error: ld returned 1 exit status\n",
            "\n"
          ]
        }
      ]
    },
    {
      "cell_type": "markdown",
      "source": [
        "## Practice"
      ],
      "metadata": {
        "id": "aOhS6ywuQs32"
      }
    },
    {
      "cell_type": "code",
      "source": [
        "%%cuda\n",
        "\n",
        "#include <assert.h>\n",
        "#include <cublas_v2.h>\n",
        "#include <cuda_runtime.h>\n",
        "#include <stdio.h>\n",
        "\n",
        "void arrayInit(float * const a, const int n) {\n",
        "    for (int i = 0; i < n; i++) {\n",
        "        a[i] = (float) (rand() % 100);\n",
        "    }\n",
        "}\n",
        "\n",
        "void arrayVerify(\n",
        "    const float * const a,\n",
        "    const float * const b,\n",
        "    const float * const c,\n",
        "    const float scale,\n",
        "    const int n\n",
        ") {\n",
        "    for (int i = 0; i < n; i++) {\n",
        "        assert(c[i] == scale * a[i] + b[i]);\n",
        "    }\n",
        "}\n",
        "\n",
        "int main() {\n",
        "    int n = 1 << 2;\n",
        "    size_t bytes = sizeof(float) * n;\n",
        "\n",
        "    float *h_a = (float*) malloc(bytes);\n",
        "    float *h_b = (float*) malloc(bytes);\n",
        "    float *h_c = (float*) malloc(bytes);\n",
        "    arrayInit(h_a, n);\n",
        "    arrayInit(h_b, n);\n",
        "\n",
        "    float *d_a, *d_b;\n",
        "    cudaMalloc(&d_a, bytes);\n",
        "    cudaMalloc(&d_b, bytes);\n",
        "\n",
        "    const float scale = 1.0f;\n",
        "    cublasHandle_t handle;\n",
        "    cublasCreate_v2(&handle);\n",
        "\n",
        "    cublasSetVector(n, sizeof(float), h_a, 1, d_a, 1);\n",
        "    cublasSetVector(n, sizeof(float), h_b, 1, d_b, 1);\n",
        "    cublasSaxpy(handle, n, &scale, d_a, 1, d_b, 1);\n",
        "    cublasGetVector(n, sizeof(float), d_b, 1, h_c, 1);\n",
        "    arrayVerify(h_a, h_b, h_c, scale, n);\n",
        "\n",
        "    cublasDestroy(handle);\n",
        "    cudaFree(d_a);\n",
        "    cudaFree(d_b);\n",
        "    free(h_a);\n",
        "    free(h_b);\n",
        "    free(h_c);\n",
        "\n",
        "    printf(\"Success!\");\n",
        "    return 0;\n",
        "}"
      ],
      "metadata": {
        "colab": {
          "base_uri": "https://localhost:8080/"
        },
        "id": "Z_shP-3mQt4h",
        "outputId": "32650c1e-b7c6-4104-cca7-4677dc9c1220"
      },
      "execution_count": 26,
      "outputs": [
        {
          "output_type": "stream",
          "name": "stdout",
          "text": [
            "/usr/bin/ld: /tmp/tmpxft_00005869_00000000-11_single_file.o: in function `main':\n",
            "tmpxft_00005869_00000000-6_single_file.cudafe1.cpp:(.text+0x20c): undefined reference to `cublasCreate_v2'\n",
            "/usr/bin/ld: tmpxft_00005869_00000000-6_single_file.cudafe1.cpp:(.text+0x231): undefined reference to `cublasSetVector'\n",
            "/usr/bin/ld: tmpxft_00005869_00000000-6_single_file.cudafe1.cpp:(.text+0x256): undefined reference to `cublasSetVector'\n",
            "/usr/bin/ld: tmpxft_00005869_00000000-6_single_file.cudafe1.cpp:(.text+0x280): undefined reference to `cublasSaxpy_v2'\n",
            "/usr/bin/ld: tmpxft_00005869_00000000-6_single_file.cudafe1.cpp:(.text+0x2a9): undefined reference to `cublasGetVector'\n",
            "/usr/bin/ld: tmpxft_00005869_00000000-6_single_file.cudafe1.cpp:(.text+0x2d6): undefined reference to `cublasDestroy_v2'\n",
            "collect2: error: ld returned 1 exit status\n",
            "\n"
          ]
        }
      ]
    },
    {
      "cell_type": "markdown",
      "source": [
        "# Chapter 2: cuBLAS Matrix Multiplication"
      ],
      "metadata": {
        "id": "_Y7PvNtRTb_L"
      }
    },
    {
      "cell_type": "code",
      "source": [
        "%%cuda\n",
        "\n",
        "#include <assert.h>\n",
        "#include <cublas_v2.h>\n",
        "#include <cuda_runtime.h>\n",
        "#include <curand.h>\n",
        "#include <math.h>\n",
        "#include <stdio.h>\n",
        "#include <time.h>\n",
        "\n",
        "void arrayVerify(\n",
        "    const float* const a,\n",
        "    const float* const b,\n",
        "    const float* const c,\n",
        "    const int n\n",
        ") {\n",
        "    const float epsilon = 0.01f;\n",
        "\n",
        "    for (int i = 0; i < n; i++) {\n",
        "        for (int j = 0; j < n; j++) {\n",
        "            float tmp;\n",
        "            for (int k = 0; k < n; k++) {\n",
        "                tmp += a[k * n + i] * b[j * n + k];\n",
        "            }\n",
        "            assert(c[j * n + i] - tmp < epsilon);\n",
        "        }\n",
        "    }\n",
        "}\n",
        "\n",
        "int main() {\n",
        "    int n = 1 << 4;\n",
        "    size_t bytes = sizeof(float) * n * n;\n",
        "\n",
        "    float *h_a = (float*) malloc(bytes);\n",
        "    float *h_b = (float*) malloc(bytes);\n",
        "    float *h_c = (float*) malloc(bytes);\n",
        "    float *d_a, *d_b, *d_c;\n",
        "    cudaMalloc(&d_a, bytes);\n",
        "    cudaMalloc(&d_b, bytes);\n",
        "    cudaMalloc(&d_c, bytes);\n",
        "\n",
        "    curandGenerator_t prng;\n",
        "    curandCreateGenerator(&prng, CURAND_RNG_PSEUDO_DEFAULT);\n",
        "    curandSetPseudoRandomGeneratorSeed(prng, (unsigned long long) clock());\n",
        "    curandGenerateUniform(prng, d_a, n * n);\n",
        "    curandGenerateUniform(prng, d_b, n * n);\n",
        "\n",
        "    const float alpha = 1.0f;\n",
        "    const float beta = 0.0f;\n",
        "    cublasHandle_t handle;\n",
        "    cublasCreate_v2(&handle);\n",
        "    cublasSgemm(\n",
        "        handle, CUBLAS_OP_N, CUBLAS_OP_N,\n",
        "        n, n, n, &alpha, d_a, n, d_b, n,\n",
        "        &beta, d_c, n\n",
        "    );\n",
        "\n",
        "    // cudaMemcpy(h_a, d_a, bytes, cudaMemcpyDeviceToHost);\n",
        "    // cudaMemcpy(h_b, d_b, bytes, cudaMemcpyDeviceToHost);\n",
        "    // cudaMemcpy(h_c, d_c, bytes, cudaMemcpyDeviceToHost);\n",
        "    cublasGetVector(n * n, sizeof(float), d_a, 1, h_a, 1);\n",
        "    cublasGetVector(n * n, sizeof(float), d_b, 1, h_b, 1);\n",
        "    cublasGetVector(n * n, sizeof(float), d_c, 1, h_c, 1);\n",
        "\n",
        "    free(h_a);\n",
        "    free(h_b);\n",
        "    free(h_c);\n",
        "    cudaFree(d_a);\n",
        "    cudaFree(d_b);\n",
        "    cudaFree(d_c);\n",
        "    cublasDestroy(handle);\n",
        "\n",
        "    printf(\"Success!\");\n",
        "}"
      ],
      "metadata": {
        "colab": {
          "base_uri": "https://localhost:8080/"
        },
        "id": "-GgdCHGZTfzp",
        "outputId": "86cdd77d-7718-4e00-c3af-2b4aa4d45c92"
      },
      "execution_count": 29,
      "outputs": [
        {
          "output_type": "stream",
          "name": "stdout",
          "text": [
            "/usr/bin/ld: /tmp/tmpxft_0000666c_00000000-11_single_file.o: in function `main':\n",
            "tmpxft_0000666c_00000000-6_single_file.cudafe1.cpp:(.text+0x1fa): undefined reference to `curandCreateGenerator'\n",
            "/usr/bin/ld: tmpxft_0000666c_00000000-6_single_file.cudafe1.cpp:(.text+0x211): undefined reference to `curandSetPseudoRandomGeneratorSeed'\n",
            "/usr/bin/ld: tmpxft_0000666c_00000000-6_single_file.cudafe1.cpp:(.text+0x22d): undefined reference to `curandGenerateUniform'\n",
            "/usr/bin/ld: tmpxft_0000666c_00000000-6_single_file.cudafe1.cpp:(.text+0x249): undefined reference to `curandGenerateUniform'\n",
            "/usr/bin/ld: tmpxft_0000666c_00000000-6_single_file.cudafe1.cpp:(.text+0x26b): undefined reference to `cublasCreate_v2'\n",
            "/usr/bin/ld: tmpxft_0000666c_00000000-6_single_file.cudafe1.cpp:(.text+0x2b8): undefined reference to `cublasSgemm_v2'\n",
            "/usr/bin/ld: tmpxft_0000666c_00000000-6_single_file.cudafe1.cpp:(.text+0x2e4): undefined reference to `cublasGetVector'\n",
            "/usr/bin/ld: tmpxft_0000666c_00000000-6_single_file.cudafe1.cpp:(.text+0x30c): undefined reference to `cublasGetVector'\n",
            "/usr/bin/ld: tmpxft_0000666c_00000000-6_single_file.cudafe1.cpp:(.text+0x334): undefined reference to `cublasGetVector'\n",
            "/usr/bin/ld: tmpxft_0000666c_00000000-6_single_file.cudafe1.cpp:(.text+0x388): undefined reference to `cublasDestroy_v2'\n",
            "collect2: error: ld returned 1 exit status\n",
            "\n"
          ]
        }
      ]
    },
    {
      "cell_type": "markdown",
      "source": [
        "## Practice"
      ],
      "metadata": {
        "id": "ZN6ntgB_d1-N"
      }
    },
    {
      "cell_type": "code",
      "source": [
        "%%cuda\n",
        "\n",
        "#include <cublas_v2.h>\n",
        "#include <cuda_runtime.h>\n",
        "#include <curand.h>\n",
        "#include <stdio.h>\n",
        "#include <time.h>\n",
        "\n",
        "int main() {\n",
        "    int n = 1 << 4;\n",
        "    size_t bytes = sizeof(float) * n * n;\n",
        "\n",
        "    float *h_a = (float*) malloc(bytes);\n",
        "    float *h_b = (float*) malloc(bytes);\n",
        "    float *h_c = (float*) malloc(bytes);\n",
        "    float *d_a, *d_b, *d_c;\n",
        "    cudaMalloc(&d_a, bytes);\n",
        "    cudaMalloc(&d_b, bytes);\n",
        "    cudaMalloc(&d_c, bytes);\n",
        "\n",
        "    curandGenerator_t prng;\n",
        "    curandCreateGenerator(&prng, CURAND_RNG_PSEUDO_DEFAULT);\n",
        "    curandSetPseudoRandomGeneratorSeed(prng, (unsigned long long) clock());\n",
        "    curandGenerateUniform(prng, d_a, n * n);\n",
        "    curandGenerateUniform(prng, d_b, n * n);\n",
        "\n",
        "    const float alpha = 1.0f;\n",
        "    const float beta = 0.0f;\n",
        "    cublasHandle_t handle;\n",
        "    cublasCreate_v2(&handle);\n",
        "    cublasSgemm(\n",
        "        handle, CUBLAS_OP_N, CUBLAS_OP_N,\n",
        "        n, n, n, &alpha, d_a, n, d_b, n,\n",
        "        &beta, d_c, n\n",
        "    );\n",
        "    cublasGetVector(n * n, sizeof(float), d_a, 1, h_a, 1);\n",
        "    cublasGetVector(n * n, sizeof(float), d_b, 1, h_b, 1);\n",
        "    cublasGetVector(n * n, sizeof(float), d_c, 1, h_c, 1);\n",
        "\n",
        "    free(h_a);\n",
        "    free(h_b);\n",
        "    free(h_c);\n",
        "    cudaFree(d_a);\n",
        "    cudaFree(d_b);\n",
        "    cudaFree(d_c);\n",
        "    cublasDestroy(handle);\n",
        "\n",
        "    printf(\"Success!\");\n",
        "    return 0;\n",
        "}"
      ],
      "metadata": {
        "colab": {
          "base_uri": "https://localhost:8080/"
        },
        "id": "VU1O6PNud28h",
        "outputId": "168dbc3d-db4d-4fa1-c25c-36045624087b"
      },
      "execution_count": 42,
      "outputs": [
        {
          "output_type": "stream",
          "name": "stdout",
          "text": [
            "/usr/bin/ld: /tmp/tmpxft_0000795e_00000000-11_single_file.o: in function `main':\n",
            "tmpxft_0000795e_00000000-6_single_file.cudafe1.cpp:(.text+0xc9): undefined reference to `curandCreateGenerator'\n",
            "/usr/bin/ld: tmpxft_0000795e_00000000-6_single_file.cudafe1.cpp:(.text+0xe0): undefined reference to `curandSetPseudoRandomGeneratorSeed'\n",
            "/usr/bin/ld: tmpxft_0000795e_00000000-6_single_file.cudafe1.cpp:(.text+0xfc): undefined reference to `curandGenerateUniform'\n",
            "/usr/bin/ld: tmpxft_0000795e_00000000-6_single_file.cudafe1.cpp:(.text+0x118): undefined reference to `curandGenerateUniform'\n",
            "/usr/bin/ld: tmpxft_0000795e_00000000-6_single_file.cudafe1.cpp:(.text+0x13a): undefined reference to `cublasCreate_v2'\n",
            "/usr/bin/ld: tmpxft_0000795e_00000000-6_single_file.cudafe1.cpp:(.text+0x187): undefined reference to `cublasSgemm_v2'\n",
            "/usr/bin/ld: tmpxft_0000795e_00000000-6_single_file.cudafe1.cpp:(.text+0x1b3): undefined reference to `cublasGetVector'\n",
            "/usr/bin/ld: tmpxft_0000795e_00000000-6_single_file.cudafe1.cpp:(.text+0x1db): undefined reference to `cublasGetVector'\n",
            "/usr/bin/ld: tmpxft_0000795e_00000000-6_single_file.cudafe1.cpp:(.text+0x203): undefined reference to `cublasGetVector'\n",
            "/usr/bin/ld: tmpxft_0000795e_00000000-6_single_file.cudafe1.cpp:(.text+0x257): undefined reference to `cublasDestroy_v2'\n",
            "collect2: error: ld returned 1 exit status\n",
            "\n"
          ]
        }
      ]
    }
  ]
}