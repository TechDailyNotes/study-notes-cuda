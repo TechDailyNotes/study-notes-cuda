{
  "nbformat": 4,
  "nbformat_minor": 0,
  "metadata": {
    "colab": {
      "provenance": [],
      "gpuType": "T4",
      "authorship_tag": "ABX9TyMUxfCP0bssI/MK9zbV7oMO",
      "include_colab_link": true
    },
    "kernelspec": {
      "name": "python3",
      "display_name": "Python 3"
    },
    "language_info": {
      "name": "python"
    },
    "accelerator": "GPU"
  },
  "cells": [
    {
      "cell_type": "markdown",
      "metadata": {
        "id": "view-in-github",
        "colab_type": "text"
      },
      "source": [
        "<a href=\"https://colab.research.google.com/github/TechDailyNotes/study-notes-cuda/blob/main/cuda_device_property.ipynb\" target=\"_parent\"><img src=\"https://colab.research.google.com/assets/colab-badge.svg\" alt=\"Open In Colab\"/></a>"
      ]
    },
    {
      "cell_type": "code",
      "execution_count": 1,
      "metadata": {
        "colab": {
          "base_uri": "https://localhost:8080/"
        },
        "id": "adHrQn4jX5eD",
        "outputId": "33171944-ed75-404e-c8ee-6d51c6e518d8"
      },
      "outputs": [
        {
          "output_type": "stream",
          "name": "stdout",
          "text": [
            "nvcc: NVIDIA (R) Cuda compiler driver\n",
            "Copyright (c) 2005-2023 NVIDIA Corporation\n",
            "Built on Tue_Aug_15_22:02:13_PDT_2023\n",
            "Cuda compilation tools, release 12.2, V12.2.140\n",
            "Build cuda_12.2.r12.2/compiler.33191640_0\n",
            "Collecting nvcc4jupyter\n",
            "  Downloading nvcc4jupyter-1.2.1-py3-none-any.whl.metadata (5.1 kB)\n",
            "Downloading nvcc4jupyter-1.2.1-py3-none-any.whl (10 kB)\n",
            "Installing collected packages: nvcc4jupyter\n",
            "Successfully installed nvcc4jupyter-1.2.1\n"
          ]
        }
      ],
      "source": [
        "%%sh\n",
        "nvcc --version\n",
        "python3 -m pip install nvcc4jupyter"
      ]
    },
    {
      "cell_type": "code",
      "source": [
        "%load_ext nvcc4jupyter"
      ],
      "metadata": {
        "colab": {
          "base_uri": "https://localhost:8080/"
        },
        "id": "MaM0CsMuZQ2l",
        "outputId": "699282ee-addd-46d7-8775-50886648d273"
      },
      "execution_count": 2,
      "outputs": [
        {
          "output_type": "stream",
          "name": "stdout",
          "text": [
            "Detected platform \"Colab\". Running its setup...\n",
            "Source files will be saved in \"/tmp/tmpijufy_d2\".\n"
          ]
        }
      ]
    },
    {
      "cell_type": "code",
      "source": [
        "%%cuda\n",
        "\n",
        "#include <cuda_runtime.h>\n",
        "#include <iostream>\n",
        "\n",
        "using namespace std;\n",
        "\n",
        "int main() {\n",
        "    int device_count;\n",
        "    cudaGetDeviceCount(&device_count);\n",
        "    cout << \"device_count = \" << device_count << endl;\n",
        "\n",
        "    for (int i = 0; i < device_count; i++) {\n",
        "        cudaSetDevice(i);\n",
        "\n",
        "        cudaDeviceProp device_prop;\n",
        "        cudaGetDeviceProperties(&device_prop, i);\n",
        "        cout << \"device_prop.name = \" << device_prop.name << endl;\n",
        "        cout << \"device_prop.multiProcessorCount = \" << device_prop.multiProcessorCount << endl;\n",
        "\n",
        "        int driver, runtime;\n",
        "        cudaDriverGetVersion(&driver);\n",
        "        cudaRuntimeGetVersion(&runtime);\n",
        "        cout << \"driver = \" << driver << endl;\n",
        "        cout << \"runtime = \" << runtime << endl;\n",
        "\n",
        "        cout << \"cuda capability = \" << device_prop.major << \".\" << device_prop.minor << endl;\n",
        "        cout << \"cuda global memory = \" << device_prop.totalGlobalMem / (1 << 30) << \"GB\" <<  endl;\n",
        "        cout << \"cuda l2 cache = \" << device_prop.l2CacheSize / (1 << 20) << \"MB\" << endl;\n",
        "        cout << \"cuda shared memory per block = \" << device_prop.sharedMemPerBlock / (1 << 10) << \"KB\" << endl;\n",
        "    }\n",
        "\n",
        "    cout << \"<int main()> pass!\" << endl;\n",
        "    return 0;\n",
        "}"
      ],
      "metadata": {
        "colab": {
          "base_uri": "https://localhost:8080/"
        },
        "id": "791KGAlRZTXg",
        "outputId": "e11649c5-506d-4c4d-8722-3018f494847a"
      },
      "execution_count": 15,
      "outputs": [
        {
          "output_type": "stream",
          "name": "stdout",
          "text": [
            "device_count = 1\n",
            "device_prop.name = Tesla T4\n",
            "device_prop.multiProcessorCount = 40\n",
            "driver = 12020\n",
            "runtime = 12020\n",
            "cuda capability = 7.5\n",
            "cuda global memory = 14GB\n",
            "cuda l2 cache = 4MB\n",
            "cuda shared memory per block = 48KB\n",
            "<int main()> pass!\n",
            "\n"
          ]
        }
      ]
    },
    {
      "cell_type": "code",
      "source": [
        "%%sh\n",
        "\n",
        "# Compiler commands\n",
        "nvcc -o cuda_device_property cuda_device_property.cu\n",
        "# or\n",
        "g++ -o cuda_device_property cuda_device_property.cpp -lcudart"
      ],
      "metadata": {
        "id": "P_lsXPZ5Zcio"
      },
      "execution_count": null,
      "outputs": []
    },
    {
      "cell_type": "code",
      "source": [],
      "metadata": {
        "id": "CtBU7KZzb2Ln"
      },
      "execution_count": null,
      "outputs": []
    }
  ]
}