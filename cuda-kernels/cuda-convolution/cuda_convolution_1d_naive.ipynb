{
  "cells": [
    {
      "cell_type": "markdown",
      "metadata": {
        "id": "view-in-github",
        "colab_type": "text"
      },
      "source": [
        "<a href=\"https://colab.research.google.com/github/TechDailyNotes/study-notes-cuda/blob/main/cuda_convolution_1d_naive.ipynb\" target=\"_parent\"><img src=\"https://colab.research.google.com/assets/colab-badge.svg\" alt=\"Open In Colab\"/></a>"
      ]
    },
    {
      "cell_type": "code",
      "execution_count": 1,
      "metadata": {
        "colab": {
          "base_uri": "https://localhost:8080/"
        },
        "id": "2-lJszycPfPa",
        "outputId": "154e3adf-629a-4748-91a0-c3e252abfb93"
      },
      "outputs": [
        {
          "output_type": "stream",
          "name": "stdout",
          "text": [
            "nvcc: NVIDIA (R) Cuda compiler driver\n",
            "Copyright (c) 2005-2023 NVIDIA Corporation\n",
            "Built on Tue_Aug_15_22:02:13_PDT_2023\n",
            "Cuda compilation tools, release 12.2, V12.2.140\n",
            "Build cuda_12.2.r12.2/compiler.33191640_0\n",
            "Collecting nvcc4jupyter\n",
            "  Downloading nvcc4jupyter-1.2.1-py3-none-any.whl.metadata (5.1 kB)\n",
            "Downloading nvcc4jupyter-1.2.1-py3-none-any.whl (10 kB)\n",
            "Installing collected packages: nvcc4jupyter\n",
            "Successfully installed nvcc4jupyter-1.2.1\n",
            "Detected platform \"Colab\". Running its setup...\n",
            "Source files will be saved in \"/tmp/tmpiyig94bm\".\n"
          ]
        }
      ],
      "source": [
        "!nvcc --version\n",
        "!pip install nvcc4jupyter\n",
        "%load_ext nvcc4jupyter"
      ]
    },
    {
      "cell_type": "markdown",
      "metadata": {
        "id": "9Cf5as6BOWxd"
      },
      "source": [
        "# Chapter 1: Naive 1-D Convolution\n"
      ]
    },
    {
      "cell_type": "markdown",
      "metadata": {
        "id": "uXc0HzSQVWHw"
      },
      "source": [
        "## Attempt 1"
      ]
    },
    {
      "cell_type": "code",
      "execution_count": null,
      "metadata": {
        "colab": {
          "base_uri": "https://localhost:8080/"
        },
        "id": "lwzYBB-2TWyb",
        "outputId": "2785132b-f059-4e4b-8790-bbb8fb3cfc22"
      },
      "outputs": [
        {
          "name": "stdout",
          "output_type": "stream",
          "text": [
            "cuda_exec.out: /tmp/tmpdd2962sg/34018522-89d7-47b9-bbf7-641209b6eae9/single_file.cu:51: void verify(int*, int*, int*, int, int): Assertion `sum == h_res[ri]' failed.\n",
            "\n"
          ]
        }
      ],
      "source": [
        "%%cuda\n",
        "\n",
        "#include <assert.h>\n",
        "#include <cuda_runtime.h>\n",
        "#include <math.h>\n",
        "#include <stdio.h>\n",
        "#include <stdlib.h>\n",
        "\n",
        "__global__ void convolve(\n",
        "    int *d_vec, int *d_msk, int *d_res,\n",
        "    int m_numElementsVec, int m_numElementsMsk\n",
        ") {\n",
        "    // Step 0: Get the thread index.\n",
        "    int g_ti = blockIdx.x * blockDim.x + threadIdx.x;\n",
        "    // if (g_ti >= m_numElementsVec) return;\n",
        "\n",
        "    // Step 1: Compute the convolved result of the current grid.\n",
        "    int sum = 0;\n",
        "    int radius = m_numElementsMsk / 2;\n",
        "\n",
        "    for (int mi = 0; mi < m_numElementsMsk; mi++) {\n",
        "        int vi = g_ti - radius + mi;\n",
        "        if (vi >= 0 && vi < m_numElementsVec) {\n",
        "            sum += d_vec[vi] * d_msk[mi];\n",
        "        }\n",
        "    }\n",
        "\n",
        "    // Step 2: Register the result back to the vector.\n",
        "    d_res[g_ti] = sum;\n",
        "}\n",
        "\n",
        "void m_init(int *m_array, int m_size) {\n",
        "    for (int i = 0; i < m_size; i++) {\n",
        "        m_array[i] = rand() % 100;\n",
        "    }\n",
        "}\n",
        "\n",
        "void verify(\n",
        "    int *h_vec, int *h_msk, int *h_res,\n",
        "    int m_numElementsVec, int m_numElementsMsk\n",
        ") {\n",
        "    int radius = m_numElementsMsk / 2;\n",
        "\n",
        "    for (int ri = 0; ri < m_numElementsVec; ri++) {\n",
        "        int sum = 0;\n",
        "        for (int mi = 0; mi < m_numElementsMsk; mi++) {\n",
        "            int vi = ri - radius + mi;\n",
        "            if (vi >= 0 && vi < m_numElementsVec) {\n",
        "                sum += h_vec[vi] * h_msk[mi];\n",
        "            }\n",
        "        }\n",
        "        assert(sum == h_res[ri]);\n",
        "    }\n",
        "}\n",
        "\n",
        "int main() {\n",
        "    // Step 0: Set up parameters.\n",
        "    int m_numElementsVec = 1 << 20;\n",
        "    int m_numElementsMsk = 7;\n",
        "    size_t m_numBytesVec = sizeof(int) * m_numElementsVec;\n",
        "    size_t m_numBytesMsk = sizeof(int) * m_numElementsMsk;\n",
        "\n",
        "    int d_blockDimX = 1 << 8;\n",
        "    int d_gridDimX = (int) ceil(1.0 * m_numElementsVec / d_blockDimX);\n",
        "\n",
        "    // Step 1: Init memories on both cpu and gpu.\n",
        "    int *h_vec = new int[m_numElementsVec];\n",
        "    int *h_msk = new int[m_numElementsMsk];\n",
        "    int *h_res = new int[m_numElementsVec];\n",
        "    m_init(h_vec, m_numElementsVec);\n",
        "    m_init(h_msk, m_numElementsMsk);\n",
        "\n",
        "    int *d_vec, *d_msk, *d_res;\n",
        "    cudaMalloc(&d_vec, m_numBytesVec);\n",
        "    cudaMalloc(&d_msk, m_numBytesMsk);\n",
        "    cudaMalloc(&d_res, m_numBytesVec);\n",
        "\n",
        "    // Step 2: Launch the kernel function to convolve the vector with the mask.\n",
        "    cudaMemcpy(d_vec, h_vec, m_numElementsVec, cudaMemcpyHostToDevice);\n",
        "    cudaMemcpy(d_msk, h_msk, m_numElementsMsk, cudaMemcpyHostToDevice);\n",
        "    convolve<<<d_gridDimX, d_blockDimX>>>(\n",
        "        d_vec, d_msk, d_res,\n",
        "        m_numElementsVec, m_numElementsMsk\n",
        "    );\n",
        "    cudaMemcpy(h_res, d_res, m_numElementsVec, cudaMemcpyDeviceToHost);\n",
        "\n",
        "    verify(h_vec, h_msk, h_res, m_numElementsVec, m_numElementsMsk);\n",
        "\n",
        "    // Step 3: Clear memories.\n",
        "    delete[] h_vec;\n",
        "    delete[] h_msk;\n",
        "    delete[] h_res;\n",
        "    cudaFree(d_vec);\n",
        "    cudaFree(d_msk);\n",
        "    cudaFree(d_res);\n",
        "\n",
        "    printf(\"Success!\");\n",
        "    return 0;\n",
        "}"
      ]
    },
    {
      "cell_type": "markdown",
      "metadata": {
        "id": "zKjykFM9Vfw1"
      },
      "source": [
        "## Attempt 2"
      ]
    },
    {
      "cell_type": "code",
      "execution_count": null,
      "metadata": {
        "colab": {
          "base_uri": "https://localhost:8080/"
        },
        "id": "bBt5c94-Okyt",
        "outputId": "36371e5a-1a3f-4d8e-e319-7c984fd1c75a"
      },
      "outputs": [
        {
          "name": "stdout",
          "output_type": "stream",
          "text": [
            "\n"
          ]
        }
      ],
      "source": [
        "%%cuda\n",
        "\n",
        "#include <assert.h>\n",
        "#include <cuda_runtime.h>\n",
        "#include <math.h>\n",
        "#include <stdio.h>\n",
        "#include <iostream>\n",
        "\n",
        "__global__ void convolve_1d(int *d_vec, int *d_msk, int *d_res, int n, int m) {\n",
        "    int tid = threadIdx.x + blockIdx.x * blockDim.x;\n",
        "    if (tid >= n) return;\n",
        "\n",
        "    int tmp = 0;\n",
        "\n",
        "    int lo = tid - m / 2;\n",
        "    int hi = tid + m / 2;\n",
        "\n",
        "    for (int i = lo; i <= hi; i++) {\n",
        "        if (i >= 0 && i < n) {\n",
        "            tmp += d_vec[i] * d_msk[i-lo];\n",
        "        }\n",
        "    }\n",
        "\n",
        "    d_res[tid] = tmp;\n",
        "}\n",
        "\n",
        "void verify_result(int *h_vec, int *h_msk, int *h_res, int n, int m) {\n",
        "    for (int i = 0; i < n; i++) {\n",
        "        int tmp = 0;\n",
        "\n",
        "        int lo = i - m / 2;\n",
        "        int hi = i + m / 2;\n",
        "\n",
        "        for (int j = lo; j <= hi; j++) {\n",
        "            if (j >= 0 && j < n) {\n",
        "                tmp += h_vec[j] * h_msk[j-lo];\n",
        "            }\n",
        "        }\n",
        "\n",
        "        assert(tmp == h_res[i]);\n",
        "    }\n",
        "}\n",
        "\n",
        "int main() {\n",
        "    int n = 1 << 20;\n",
        "    int m = 7;\n",
        "    int bytes_n = sizeof(int) * n;\n",
        "    int bytes_m = sizeof(int) * m;\n",
        "\n",
        "    int *h_vec = new int[n];\n",
        "    int *h_msk = new int[m];\n",
        "    int *h_res = new int[n];\n",
        "\n",
        "    for (int i = 0; i < n; i++) {\n",
        "        h_vec[i] = rand() % 100;\n",
        "        h_msk[i] = 0;\n",
        "    }\n",
        "    for (int i = 0; i < m; i++) {\n",
        "        h_msk[i] = rand() % 10;\n",
        "    }\n",
        "\n",
        "    int *d_vec, *d_msk, *d_res;\n",
        "    cudaMalloc(&d_vec, bytes_n);\n",
        "    cudaMalloc(&d_msk, bytes_m);\n",
        "    cudaMalloc(&d_res, bytes_n);\n",
        "\n",
        "    cudaMemcpy(d_vec, h_vec, bytes_n, cudaMemcpyHostToDevice);\n",
        "    cudaMemcpy(d_msk, h_msk, bytes_m, cudaMemcpyHostToDevice);\n",
        "\n",
        "    int size_blck = 256;\n",
        "    int size_grid = (n + size_blck - 1) / size_blck;\n",
        "\n",
        "    // convolve_1d<<<size_grid, size_blck>>>(d_vec, d_msk, d_res, n, m);\n",
        "\n",
        "    cudaMemcpy(h_res, d_res, bytes_n, cudaMemcpyDeviceToHost);\n",
        "\n",
        "    // verify_result(h_vec, h_msk, h_res, n, m);\n",
        "\n",
        "    cudaFree(d_vec);\n",
        "    cudaFree(d_msk);\n",
        "    cudaFree(d_res);\n",
        "\n",
        "    delete h_vec;\n",
        "    delete h_msk;\n",
        "    delete h_res;\n",
        "\n",
        "    printf(\"Success!\");\n",
        "    std::cout << \"Success!\" << std::endl;\n",
        "    return 0;\n",
        "}"
      ]
    },
    {
      "cell_type": "markdown",
      "metadata": {
        "id": "rhcN3MbWViCW"
      },
      "source": [
        "## Attempt 3"
      ]
    },
    {
      "cell_type": "code",
      "execution_count": 2,
      "metadata": {
        "colab": {
          "base_uri": "https://localhost:8080/"
        },
        "id": "Zhcx9rqKVjf2",
        "outputId": "db7ea851-28a3-403f-ee41-8dbc622b411c"
      },
      "outputs": [
        {
          "output_type": "stream",
          "name": "stdout",
          "text": [
            "All pass!\n",
            "Success!\n"
          ]
        }
      ],
      "source": [
        "%%cuda\n",
        "\n",
        "#include <assert.h>\n",
        "#include <cuda_runtime.h>\n",
        "#include <math.h>\n",
        "#include <stdio.h>\n",
        "#include <stdlib.h>\n",
        "\n",
        "__global__ void convolve_1d(int *d_vec, int *d_msk, int *d_res, int n, int m) {\n",
        "    int tid = threadIdx.x + blockIdx.x * blockDim.x;\n",
        "    if (tid >= n) return;\n",
        "\n",
        "    int tmp = 0;\n",
        "    int lo = tid - m / 2;\n",
        "    int hi = tid + m / 2;\n",
        "\n",
        "    for (int i = lo; i <= hi; i++) {\n",
        "        if (i < 0 || i >= n) continue;\n",
        "        tmp += d_vec[i] * d_msk[i-lo];\n",
        "    }\n",
        "\n",
        "    d_res[tid] = tmp;\n",
        "}\n",
        "\n",
        "void verify_result(int *h_vec, int *h_msk, int *h_res, int n, int m) {\n",
        "    for (int i = 0; i < n; i++) {\n",
        "        int tmp = 0;\n",
        "        int lo = i - m / 2;\n",
        "        int hi = i + m / 2;\n",
        "\n",
        "        for (int j = lo; j <= hi; j++) {\n",
        "            if (j < 0 || j >= n) continue;\n",
        "            tmp += h_vec[j] * h_msk[j-lo];\n",
        "        }\n",
        "\n",
        "        if (tmp != h_res[i]) {\n",
        "            // printf(\"Incorrect: (tmp) %d != %d\\n\", tmp, h_res[i]);\n",
        "        }\n",
        "        assert(tmp == h_res[i]);\n",
        "    }\n",
        "\n",
        "    printf(\"All pass!\\n\");\n",
        "}\n",
        "\n",
        "int main() {\n",
        "    int n = 1 << 20;\n",
        "    int m = 7;\n",
        "    int n_bytes = sizeof(int) * n;\n",
        "    int m_bytes = sizeof(int) * m;\n",
        "\n",
        "    int *h_vec = (int*) malloc(n_bytes);\n",
        "    int *h_msk = (int*) malloc(m_bytes);\n",
        "    int *h_res = (int*) malloc(n_bytes);\n",
        "\n",
        "    int *d_vec, *d_msk, *d_res;\n",
        "    cudaMalloc(&d_vec, n_bytes);\n",
        "    cudaMalloc(&d_msk, m_bytes);\n",
        "    cudaMalloc(&d_res, n_bytes);\n",
        "\n",
        "    for (int i = 0; i < n; i++) {\n",
        "        h_vec[i] = rand() % 100;\n",
        "        h_res[i] = 0;\n",
        "    }\n",
        "    for (int i = 0; i < m; i++) {\n",
        "        h_msk[i] = rand() % 10;\n",
        "    }\n",
        "\n",
        "    cudaMemcpy(d_vec, h_vec, n_bytes, cudaMemcpyHostToDevice);\n",
        "    cudaMemcpy(d_msk, h_msk, m_bytes, cudaMemcpyHostToDevice);\n",
        "\n",
        "    int num_threads = 1 << 8;\n",
        "    dim3 blck_size(num_threads);\n",
        "    dim3 grid_size((n + num_threads - 1) / num_threads);\n",
        "\n",
        "    convolve_1d<<<grid_size, blck_size>>>(d_vec, d_msk, d_res, n, m);\n",
        "    cudaMemcpy(h_res, d_res, n_bytes, cudaMemcpyDeviceToHost);\n",
        "    verify_result(h_vec, h_msk, h_res, n, m);\n",
        "\n",
        "    cudaFree(d_vec);\n",
        "    cudaFree(d_msk);\n",
        "    cudaFree(d_res);\n",
        "\n",
        "    free(h_vec);\n",
        "    free(h_msk);\n",
        "    free(h_res);\n",
        "\n",
        "    printf(\"Success!\");\n",
        "    return 0;\n",
        "}"
      ]
    },
    {
      "cell_type": "markdown",
      "source": [
        "# Chapter 2: 1D-Convolution with Constant Memory"
      ],
      "metadata": {
        "id": "rLwAhrkScugK"
      }
    },
    {
      "cell_type": "markdown",
      "source": [
        "## Attempt 1"
      ],
      "metadata": {
        "id": "ikokfytKcyYy"
      }
    },
    {
      "cell_type": "code",
      "source": [],
      "metadata": {
        "id": "diHKP-Kpc0D4"
      },
      "execution_count": null,
      "outputs": []
    }
  ],
  "metadata": {
    "accelerator": "GPU",
    "colab": {
      "gpuType": "L4",
      "provenance": [],
      "authorship_tag": "ABX9TyPNiqEEwIxTVbeH1UGUNcEu",
      "include_colab_link": true
    },
    "kernelspec": {
      "display_name": "Python 3",
      "name": "python3"
    },
    "language_info": {
      "name": "python"
    }
  },
  "nbformat": 4,
  "nbformat_minor": 0
}