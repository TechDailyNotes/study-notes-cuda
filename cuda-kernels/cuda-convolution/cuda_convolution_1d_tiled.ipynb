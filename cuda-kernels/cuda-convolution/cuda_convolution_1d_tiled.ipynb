{
  "nbformat": 4,
  "nbformat_minor": 0,
  "metadata": {
    "colab": {
      "provenance": [],
      "gpuType": "T4",
      "authorship_tag": "ABX9TyNzpmt/Q7F2fzDmY0C3KlKj",
      "include_colab_link": true
    },
    "kernelspec": {
      "name": "python3",
      "display_name": "Python 3"
    },
    "language_info": {
      "name": "python"
    },
    "accelerator": "GPU"
  },
  "cells": [
    {
      "cell_type": "markdown",
      "metadata": {
        "id": "view-in-github",
        "colab_type": "text"
      },
      "source": [
        "<a href=\"https://colab.research.google.com/github/TechDailyNotes/study-notes-cuda/blob/main/cuda_convolution_1d_tiled.ipynb\" target=\"_parent\"><img src=\"https://colab.research.google.com/assets/colab-badge.svg\" alt=\"Open In Colab\"/></a>"
      ]
    },
    {
      "cell_type": "code",
      "execution_count": 1,
      "metadata": {
        "colab": {
          "base_uri": "https://localhost:8080/"
        },
        "id": "hgAB02dAMki6",
        "outputId": "c0562ead-056d-45b6-e735-451827ddabc1"
      },
      "outputs": [
        {
          "output_type": "stream",
          "name": "stdout",
          "text": [
            "nvcc: NVIDIA (R) Cuda compiler driver\n",
            "Copyright (c) 2005-2023 NVIDIA Corporation\n",
            "Built on Tue_Aug_15_22:02:13_PDT_2023\n",
            "Cuda compilation tools, release 12.2, V12.2.140\n",
            "Build cuda_12.2.r12.2/compiler.33191640_0\n",
            "Collecting nvcc4jupyter\n",
            "  Downloading nvcc4jupyter-1.2.1-py3-none-any.whl.metadata (5.1 kB)\n",
            "Downloading nvcc4jupyter-1.2.1-py3-none-any.whl (10 kB)\n",
            "Installing collected packages: nvcc4jupyter\n",
            "Successfully installed nvcc4jupyter-1.2.1\n",
            "Detected platform \"Colab\". Running its setup...\n",
            "Source files will be saved in \"/tmp/tmp85qaatc3\".\n"
          ]
        }
      ],
      "source": [
        "!nvcc --version\n",
        "!python3 -m pip install nvcc4jupyter\n",
        "%load_ext nvcc4jupyter"
      ]
    },
    {
      "cell_type": "code",
      "source": [
        "%%cuda\n",
        "\n",
        "#include <assert.h>\n",
        "#include <cuda_runtime.h>\n",
        "#include <math.h>\n",
        "#include <stdio.h>\n",
        "#include <stdlib.h>\n",
        "\n",
        "#define M 7\n",
        "\n",
        "__constant__ int d_msk[M];\n",
        "\n",
        "__global__ void convolve_1d(int *d_vec, int *d_res, int n) {\n",
        "    extern __shared__ int s_vec[];\n",
        "    int g_tid = threadIdx.x + blockIdx.x * blockDim.x;\n",
        "    int l_tid = threadIdx.x;\n",
        "    if (g_tid >= n) return;\n",
        "\n",
        "    int r = M / 2;\n",
        "    s_vec[l_tid] = d_vec[g_tid - r];\n",
        "    if (l_tid < 2 * r) {\n",
        "        s_vec[l_tid + blockDim.x] = d_vec[g_tid - r + blockDim.x];\n",
        "    }\n",
        "\n",
        "    __syncthreads();\n",
        "\n",
        "    int tmp = 0;\n",
        "    for (int i = g_tid; i <= g_tid + 2 * r; i++) {\n",
        "        tmp += d_vec[i] * d_msk[i - g_tid];\n",
        "    }\n",
        "    d_res[g_tid] = tmp;\n",
        "}\n",
        "\n",
        "void verify_result(int *h_vec, int *h_msk, int *h_res, int n) {\n",
        "    for (int i = 0; i < n; i++) {\n",
        "        int tmp = 0;\n",
        "        int r = M / 2;\n",
        "\n",
        "        for (int j = i; j <= i + 2 * r; j++) {\n",
        "            tmp += h_vec[j] * h_msk[j - i];\n",
        "        }\n",
        "\n",
        "        assert(tmp == h_res[i]);\n",
        "    }\n",
        "}\n",
        "\n",
        "int main() {\n",
        "    int n = 1 << 20;\n",
        "    int r = M / 2;\n",
        "    int p = n + r * 2;\n",
        "\n",
        "    int n_bytes = sizeof(int) * n;\n",
        "    int m_bytes = sizeof(int) * M;\n",
        "    int p_bytes = sizeof(int) * p;\n",
        "\n",
        "    int *h_vec = (int*) malloc(p_bytes);\n",
        "    int *h_msk = (int*) malloc(m_bytes);\n",
        "    int *h_res = (int*) malloc(n_bytes);\n",
        "\n",
        "    int *d_vec, *d_res;\n",
        "    cudaMalloc(&d_vec, p_bytes);\n",
        "    cudaMalloc(&d_res, n_bytes);\n",
        "\n",
        "    for (int i = 0; i < p; i++) {\n",
        "        if (i < r || i >= n + r) {\n",
        "            h_vec[i] = 0;\n",
        "        } else {\n",
        "            h_vec[i] = rand() % 100;\n",
        "        }\n",
        "    }\n",
        "    for (int i = 0; i < M; i++) {\n",
        "        h_msk[i] = rand() % 10;\n",
        "    }\n",
        "    for (int i = 0; i < n; i++) {\n",
        "        h_res[i] = 0;\n",
        "    }\n",
        "\n",
        "    cudaMemcpy(d_vec, h_vec, p_bytes, cudaMemcpyHostToDevice);\n",
        "    cudaMemcpyToSymbol(d_msk, h_msk, m_bytes);\n",
        "\n",
        "    int num_threads = 1 << 8;\n",
        "    dim3 blck_size(num_threads);\n",
        "    dim3 grid_size((n + num_threads - 1) / num_threads);\n",
        "    size_t smem_size = (num_threads + r * 2) * sizeof(int);\n",
        "\n",
        "    convolve_1d<<<grid_size, blck_size, smem_size>>>(d_vec, d_res, n);\n",
        "    cudaMemcpy(h_res, d_res, n_bytes, cudaMemcpyDeviceToHost);\n",
        "\n",
        "    verify_result(h_vec, h_msk, h_res, n);\n",
        "\n",
        "    cudaFree(d_vec);\n",
        "    cudaFree(d_res);\n",
        "\n",
        "    free(h_vec);\n",
        "    free(h_msk);\n",
        "    free(h_res);\n",
        "\n",
        "    printf(\"Succees!\");\n",
        "    return 0;\n",
        "}"
      ],
      "metadata": {
        "colab": {
          "base_uri": "https://localhost:8080/"
        },
        "id": "K0GbJgfuM4oY",
        "outputId": "4dc39975-7e9a-48a6-b5c5-3734840b921b"
      },
      "execution_count": 2,
      "outputs": [
        {
          "output_type": "stream",
          "name": "stdout",
          "text": [
            "Succees!\n"
          ]
        }
      ]
    },
    {
      "cell_type": "markdown",
      "source": [
        "# Profiler"
      ],
      "metadata": {
        "id": "4rA5et4RcGpn"
      }
    },
    {
      "cell_type": "code",
      "source": [
        "# Mount google drive to use a persistent directory structure\n",
        "from google.colab import drive\n",
        "drive.mount('/content/gdrive')"
      ],
      "metadata": {
        "colab": {
          "base_uri": "https://localhost:8080/"
        },
        "id": "wn2nzWc_cI8F",
        "outputId": "f1b0201b-ab2f-4d15-f91e-7b78b57e5c2b"
      },
      "execution_count": 3,
      "outputs": [
        {
          "output_type": "stream",
          "name": "stdout",
          "text": [
            "Mounted at /content/gdrive\n"
          ]
        }
      ]
    },
    {
      "cell_type": "code",
      "source": [
        "FOLDER = \"cuda\"\n",
        "ORG = \"TechDailyNotes\"\n",
        "REPO = \"study-notes-cuda\""
      ],
      "metadata": {
        "id": "PTD65mUXe7y4"
      },
      "execution_count": 6,
      "outputs": []
    },
    {
      "cell_type": "code",
      "source": [
        "%mkdir /content/gdrive/MyDrive/{FOLDER}\n",
        "%cd /content/gdrive/MyDrive/{FOLDER}\n",
        "!echo 'YOUR_TOKEN' > /content/gdrive/MyDrive/{FOLDER}/token.txt\n",
        "!echo 'YOUR_HANDLE' > /content/gdrive/MyDrive/{FOLDER}/git_username.txt"
      ],
      "metadata": {
        "colab": {
          "base_uri": "https://localhost:8080/"
        },
        "id": "0nIr6vb8cN2Q",
        "outputId": "63d72958-9e4c-4817-9a31-77030c524e1f"
      },
      "execution_count": 20,
      "outputs": [
        {
          "output_type": "stream",
          "name": "stdout",
          "text": [
            "mkdir: cannot create directory ‘/content/gdrive/MyDrive/cuda’: File exists\n",
            "/content/gdrive/MyDrive/cuda\n"
          ]
        }
      ]
    },
    {
      "cell_type": "code",
      "source": [
        "%cd /content/gdrive/MyDrive/{FOLDER}\n",
        "\n",
        "with open(f'/content/gdrive/MyDrive/{FOLDER}/token.txt') as f:\n",
        "    token = f.readline().strip()\n",
        "# Use another file to store your github username\n",
        "with open(f'/content/gdrive/MyDrive/{FOLDER}/git_username.txt') as f:\n",
        "    handle = f.readline().strip()\n",
        "\n",
        "YOUR_TOKEN = token\n",
        "YOUR_HANDLE = handle\n",
        "\n",
        "!git clone https://{YOUR_TOKEN}@github.com/{ORG}/{REPO}.git\n",
        "\n",
        "%cd /content/gdrive/MyDrive/{FOLDER}/{REPO}\n",
        "!git pull"
      ],
      "metadata": {
        "colab": {
          "base_uri": "https://localhost:8080/"
        },
        "id": "hyhEViePcW9Y",
        "outputId": "88395729-f349-4b22-ec00-a6ba45cf80a5"
      },
      "execution_count": 17,
      "outputs": [
        {
          "output_type": "stream",
          "name": "stdout",
          "text": [
            "/content/gdrive/MyDrive/cuda\n",
            "fatal: destination path 'study-notes-cuda' already exists and is not an empty directory.\n",
            "/content/gdrive/MyDrive/cuda/study-notes-cuda\n",
            "remote: Enumerating objects: 5, done.\u001b[K\n",
            "remote: Counting objects: 100% (5/5), done.\u001b[K\n",
            "remote: Compressing objects: 100% (2/2), done.\u001b[K\n",
            "remote: Total 3 (delta 1), reused 3 (delta 1), pack-reused 0 (from 0)\u001b[K\n",
            "Unpacking objects: 100% (3/3), 977 bytes | 20.00 KiB/s, done.\n",
            "From https://github.com/TechDailyNotes/study-notes-cuda\n",
            "   bd81ae0..3c99fc9  main       -> origin/main\n",
            "Updating bd81ae0..3c99fc9\n",
            "Fast-forward\n",
            " cuda_convolution_1d_naive.cu | 134 \u001b[32m+++++++++++++++++++++++++++++\u001b[m\u001b[31m----------------------------------\u001b[m\n",
            " 1 file changed, 62 insertions(+), 72 deletions(-)\n"
          ]
        }
      ]
    },
    {
      "cell_type": "code",
      "source": [
        "%cd /content/gdrive/MyDrive/{FOLDER}/{REPO}\n",
        "!ls"
      ],
      "metadata": {
        "colab": {
          "base_uri": "https://localhost:8080/"
        },
        "id": "axJhWqLhdo2M",
        "outputId": "e3122362-7a4e-45a1-ab3e-c12f2504af97"
      },
      "execution_count": 18,
      "outputs": [
        {
          "output_type": "stream",
          "name": "stdout",
          "text": [
            "/content/gdrive/MyDrive/cuda/study-notes-cuda\n",
            "basics\t\t\t\t\t   cuda_convolution_1d_tiled\n",
            "cuda_basics.ipynb\t\t\t   cuda_convolution_1d_tiled.cu\n",
            "cuda_convolution_1d_constant_memory\t   cuda_convolution_1d_tiled.ipynb\n",
            "cuda_convolution_1d_constant_memory.cu\t   cuda_cublas.ipynb\n",
            "cuda_convolution_1d_constant_memory.ipynb  cuda.ipynb\n",
            "cuda_convolution_1d_naive\t\t   cuda_parallel_reduction.ipynb\n",
            "cuda_convolution_1d_naive.cu\t\t   README.md\n",
            "cuda_convolution_1d_naive.ipynb\n"
          ]
        }
      ]
    },
    {
      "cell_type": "code",
      "source": [
        "!nvcc -o cuda_convolution_1d_naive cuda_convolution_1d_naive.cu\n",
        "!nvcc -o cuda_convolution_1d_constant_memory cuda_convolution_1d_constant_memory.cu\n",
        "!nvcc -o cuda_convolution_1d_tiled cuda_convolution_1d_tiled.cu"
      ],
      "metadata": {
        "id": "jUZgiqVaeC8d"
      },
      "execution_count": 19,
      "outputs": []
    },
    {
      "cell_type": "code",
      "source": [
        "!nvprof ./cuda_convolution_1d_naive"
      ],
      "metadata": {
        "colab": {
          "base_uri": "https://localhost:8080/"
        },
        "id": "ptr1pgyDgG3h",
        "outputId": "0931bf76-c60d-4430-d72b-c4f9e9e8836e"
      },
      "execution_count": 20,
      "outputs": [
        {
          "output_type": "stream",
          "name": "stdout",
          "text": [
            "==3872== NVPROF is profiling process 3872, command: ./cuda_convolution_1d_naive\n",
            "All pass!\n",
            "Success!==3872== Profiling application: ./cuda_convolution_1d_naive\n",
            "==3872== Profiling result:\n",
            "            Type  Time(%)      Time     Calls       Avg       Min       Max  Name\n",
            " GPU activities:   49.04%  729.33us         2  364.66us     672ns  728.65us  [CUDA memcpy HtoD]\n",
            "                   44.95%  668.46us         1  668.46us  668.46us  668.46us  [CUDA memcpy DtoH]\n",
            "                    6.01%  89.374us         1  89.374us  89.374us  89.374us  convolve_1d(int*, int*, int*, int, int)\n",
            "      API calls:   64.52%  103.21ms         3  34.403ms  79.511us  103.03ms  cudaMalloc\n",
            "                   33.78%  54.035ms         1  54.035ms  54.035ms  54.035ms  cudaLaunchKernel\n",
            "                    1.29%  2.0662ms         3  688.73us  88.452us  1.0962ms  cudaMemcpy\n",
            "                    0.30%  485.78us         3  161.93us  131.77us  201.56us  cudaFree\n",
            "                    0.09%  141.31us       114  1.2390us     161ns  55.416us  cuDeviceGetAttribute\n",
            "                    0.01%  12.248us         1  12.248us  12.248us  12.248us  cuDeviceGetName\n",
            "                    0.00%  7.3000us         3  2.4330us     266ns  6.7170us  cuDeviceGetCount\n",
            "                    0.00%  6.3120us         1  6.3120us  6.3120us  6.3120us  cuDeviceGetPCIBusId\n",
            "                    0.00%  5.5040us         1  5.5040us  5.5040us  5.5040us  cuDeviceTotalMem\n",
            "                    0.00%  1.2560us         2     628ns     195ns  1.0610us  cuDeviceGet\n",
            "                    0.00%     742ns         1     742ns     742ns     742ns  cuModuleGetLoadingMode\n",
            "                    0.00%     291ns         1     291ns     291ns     291ns  cuDeviceGetUuid\n"
          ]
        }
      ]
    },
    {
      "cell_type": "code",
      "source": [
        "!nvprof ./cuda_convolution_1d_constant_memory"
      ],
      "metadata": {
        "colab": {
          "base_uri": "https://localhost:8080/"
        },
        "id": "MgE11AQ8gE7S",
        "outputId": "7d351bdb-d36d-4a14-e040-ca261b5fc026"
      },
      "execution_count": 22,
      "outputs": [
        {
          "output_type": "stream",
          "name": "stdout",
          "text": [
            "==3926== NVPROF is profiling process 3926, command: ./cuda_convolution_1d_constant_memory\n",
            "Success!\n",
            "==3926== Profiling application: ./cuda_convolution_1d_constant_memory\n",
            "==3926== Profiling result:\n",
            "            Type  Time(%)      Time     Calls       Avg       Min       Max  Name\n",
            " GPU activities:   52.86%  783.28us         2  391.64us     640ns  782.64us  [CUDA memcpy HtoD]\n",
            "                   43.89%  650.48us         1  650.48us  650.48us  650.48us  [CUDA memcpy DtoH]\n",
            "                    3.25%  48.159us         1  48.159us  48.159us  48.159us  convolve_1d(int*, int*, int)\n",
            "      API calls:   97.15%  116.13ms         2  58.067ms  86.377us  116.05ms  cudaMalloc\n",
            "                    1.72%  2.0611ms         2  1.0306ms  981.38us  1.0797ms  cudaMemcpy\n",
            "                    0.47%  563.27us         1  563.27us  563.27us  563.27us  cudaMemcpyToSymbol\n",
            "                    0.45%  541.11us         2  270.55us  253.52us  287.59us  cudaFree\n",
            "                    0.15%  184.95us       114  1.6220us     157ns  97.589us  cuDeviceGetAttribute\n",
            "                    0.02%  29.743us         1  29.743us  29.743us  29.743us  cudaLaunchKernel\n",
            "                    0.01%  13.428us         1  13.428us  13.428us  13.428us  cuDeviceGetName\n",
            "                    0.00%  5.1790us         1  5.1790us  5.1790us  5.1790us  cuDeviceGetPCIBusId\n",
            "                    0.00%  4.7510us         1  4.7510us  4.7510us  4.7510us  cuDeviceTotalMem\n",
            "                    0.00%  1.6590us         3     553ns     214ns  1.1690us  cuDeviceGetCount\n",
            "                    0.00%  1.0240us         2     512ns     203ns     821ns  cuDeviceGet\n",
            "                    0.00%     615ns         1     615ns     615ns     615ns  cuModuleGetLoadingMode\n",
            "                    0.00%     308ns         1     308ns     308ns     308ns  cuDeviceGetUuid\n"
          ]
        }
      ]
    },
    {
      "cell_type": "code",
      "source": [
        "!nvprof ./cuda_convolution_1d_tiled"
      ],
      "metadata": {
        "colab": {
          "base_uri": "https://localhost:8080/"
        },
        "id": "JAB4mLFteNjl",
        "outputId": "a4a490dc-8a03-44cc-f29f-1729b145b1e5"
      },
      "execution_count": 23,
      "outputs": [
        {
          "output_type": "stream",
          "name": "stdout",
          "text": [
            "==3947== NVPROF is profiling process 3947, command: ./cuda_convolution_1d_tiled\n",
            "Succees!==3947== Profiling application: ./cuda_convolution_1d_tiled\n",
            "==3947== Profiling result:\n",
            "            Type  Time(%)      Time     Calls       Avg       Min       Max  Name\n",
            " GPU activities:   53.17%  766.92us         2  383.46us     672ns  766.25us  [CUDA memcpy HtoD]\n",
            "                   42.86%  618.26us         1  618.26us  618.26us  618.26us  [CUDA memcpy DtoH]\n",
            "                    3.97%  57.246us         1  57.246us  57.246us  57.246us  convolve_1d(int*, int*, int)\n",
            "      API calls:   96.50%  86.547ms         2  43.273ms  109.58us  86.437ms  cudaMalloc\n",
            "                    2.16%  1.9380ms         2  969.02us  955.15us  982.89us  cudaMemcpy\n",
            "                    0.64%  577.89us         1  577.89us  577.89us  577.89us  cudaMemcpyToSymbol\n",
            "                    0.47%  420.71us         2  210.35us  128.90us  291.81us  cudaFree\n",
            "                    0.15%  137.93us       114  1.2090us     147ns  53.785us  cuDeviceGetAttribute\n",
            "                    0.04%  32.406us         1  32.406us  32.406us  32.406us  cudaLaunchKernel\n",
            "                    0.02%  13.463us         1  13.463us  13.463us  13.463us  cuDeviceGetName\n",
            "                    0.01%  8.3550us         1  8.3550us  8.3550us  8.3550us  cuDeviceGetPCIBusId\n",
            "                    0.00%  4.3840us         1  4.3840us  4.3840us  4.3840us  cuDeviceTotalMem\n",
            "                    0.00%  1.5290us         3     509ns     190ns  1.0130us  cuDeviceGetCount\n",
            "                    0.00%  1.0420us         2     521ns     286ns     756ns  cuDeviceGet\n",
            "                    0.00%     577ns         1     577ns     577ns     577ns  cuModuleGetLoadingMode\n",
            "                    0.00%     250ns         1     250ns     250ns     250ns  cuDeviceGetUuid\n"
          ]
        }
      ]
    },
    {
      "cell_type": "code",
      "source": [],
      "metadata": {
        "id": "HDy96HPpeO9U"
      },
      "execution_count": 31,
      "outputs": []
    }
  ]
}