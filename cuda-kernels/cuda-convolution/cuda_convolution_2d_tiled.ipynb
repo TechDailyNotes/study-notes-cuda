{
  "nbformat": 4,
  "nbformat_minor": 0,
  "metadata": {
    "colab": {
      "provenance": [],
      "gpuType": "T4",
      "authorship_tag": "ABX9TyMFf6wFGeJLK8Tugc+FIWHk",
      "include_colab_link": true
    },
    "kernelspec": {
      "name": "python3",
      "display_name": "Python 3"
    },
    "language_info": {
      "name": "python"
    },
    "accelerator": "GPU"
  },
  "cells": [
    {
      "cell_type": "markdown",
      "metadata": {
        "id": "view-in-github",
        "colab_type": "text"
      },
      "source": [
        "<a href=\"https://colab.research.google.com/github/TechDailyNotes/study-notes-cuda/blob/main/cuda_convolution_2d_tiled.ipynb\" target=\"_parent\"><img src=\"https://colab.research.google.com/assets/colab-badge.svg\" alt=\"Open In Colab\"/></a>"
      ]
    },
    {
      "cell_type": "code",
      "execution_count": 1,
      "metadata": {
        "colab": {
          "base_uri": "https://localhost:8080/"
        },
        "id": "-HI9KQqhcSgd",
        "outputId": "2b2f4c9c-7f1c-40e6-e019-eb0f9aa12e4e"
      },
      "outputs": [
        {
          "output_type": "stream",
          "name": "stdout",
          "text": [
            "nvcc: NVIDIA (R) Cuda compiler driver\n",
            "Copyright (c) 2005-2023 NVIDIA Corporation\n",
            "Built on Tue_Aug_15_22:02:13_PDT_2023\n",
            "Cuda compilation tools, release 12.2, V12.2.140\n",
            "Build cuda_12.2.r12.2/compiler.33191640_0\n",
            "Collecting nvcc4jupyter\n",
            "  Downloading nvcc4jupyter-1.2.1-py3-none-any.whl.metadata (5.1 kB)\n",
            "Downloading nvcc4jupyter-1.2.1-py3-none-any.whl (10 kB)\n",
            "Installing collected packages: nvcc4jupyter\n",
            "Successfully installed nvcc4jupyter-1.2.1\n"
          ]
        }
      ],
      "source": [
        "%%sh\n",
        "nvcc --version\n",
        "python3 -m pip install nvcc4jupyter"
      ]
    },
    {
      "cell_type": "code",
      "source": [
        "%load_ext nvcc4jupyter"
      ],
      "metadata": {
        "colab": {
          "base_uri": "https://localhost:8080/"
        },
        "id": "te25VUGTcaDf",
        "outputId": "a60d0281-c086-4b2f-b2d0-42311c7c670b"
      },
      "execution_count": 2,
      "outputs": [
        {
          "output_type": "stream",
          "name": "stdout",
          "text": [
            "Detected platform \"Colab\". Running its setup...\n",
            "Source files will be saved in \"/tmp/tmphaqfpnf8\".\n"
          ]
        }
      ]
    },
    {
      "cell_type": "code",
      "source": [
        "%%cuda\n",
        "\n",
        "#include <assert.h>\n",
        "#include <cuda_runtime.h>\n",
        "#include <math.h>\n",
        "#include <stdio.h>\n",
        "#include <stdlib.h>\n",
        "\n",
        "#define KERNEL_DIM 7\n",
        "#define KERNEL_PAD (KERNEL_DIM / 2)\n",
        "\n",
        "__constant__ int d_kernel[KERNEL_DIM * KERNEL_DIM];\n",
        "\n",
        "__global__ void convolve_2d(int *d_matrix, int *d_result, int result_dim) {\n",
        "    extern __shared__ int s_memory[];\n",
        "    int smem_dim = blockDim.x + 2 * KERNEL_PAD;\n",
        "    int matrix_dim = result_dim + 2 * KERNEL_PAD;\n",
        "\n",
        "    int l_tid_c = threadIdx.x;\n",
        "    int l_tid_r = threadIdx.y;\n",
        "    int g_tid_c = threadIdx.x + blockIdx.x * blockDim.x;\n",
        "    int g_tid_r = threadIdx.y + blockIdx.y * blockDim.y;\n",
        "    if (g_tid_c >= result_dim) return;\n",
        "    if (g_tid_r >= result_dim) return;\n",
        "\n",
        "    int offset_r = 0;\n",
        "    while (offset_r < smem_dim) {\n",
        "        int offset_c = 0;\n",
        "        while (offset_c < smem_dim) {\n",
        "            int smem_r = l_tid_r + offset_r;\n",
        "            int smem_c = l_tid_c + offset_c;\n",
        "            if (smem_r < smem_dim && smem_c < smem_dim) {\n",
        "                s_memory[smem_r * smem_dim + smem_c] = \\\n",
        "                d_matrix[(g_tid_r + offset_r) * matrix_dim + (g_tid_c + offset_c)];\n",
        "            }\n",
        "\n",
        "            offset_c += blockDim.x;\n",
        "        }\n",
        "\n",
        "        offset_r += blockDim.y;\n",
        "    }\n",
        "\n",
        "    __syncthreads();\n",
        "\n",
        "    int tmp = 0;\n",
        "    int lo_r = l_tid_r;\n",
        "    int hi_r = l_tid_r + 2 * KERNEL_PAD;\n",
        "    int lo_c = l_tid_c;\n",
        "    int hi_c = l_tid_c + 2 * KERNEL_PAD;\n",
        "\n",
        "    for (int ri = lo_r; ri <= hi_r; ri++) {\n",
        "        for (int ci = lo_c; ci <= hi_c; ci++) {\n",
        "            tmp += (\n",
        "                s_memory[ri * smem_dim + ci] *\n",
        "                d_kernel[(ri - lo_r) * KERNEL_DIM + (ci - lo_c)]\n",
        "            );\n",
        "        }\n",
        "    }\n",
        "\n",
        "    d_result[g_tid_r * result_dim + g_tid_c] = tmp;\n",
        "}\n",
        "\n",
        "void verify_result(int *h_matrix, int *h_kernel, int *h_result, int result_dim) {\n",
        "    for (int rowi = 0; rowi < result_dim; rowi++) {\n",
        "        for (int coli = 0; coli < result_dim; coli++) {\n",
        "            int tmp = 0;\n",
        "            int matrix_dim = result_dim + 2 * KERNEL_PAD;\n",
        "\n",
        "            for (int ri = rowi; ri <= rowi + 2 * KERNEL_PAD; ri++) {\n",
        "                for (int ci = coli; ci <= coli + 2 * KERNEL_PAD; ci++) {\n",
        "                    tmp += (\n",
        "                        h_matrix[ri * matrix_dim + ci] *\n",
        "                        h_kernel[(ri - rowi) * KERNEL_DIM + (ci - coli)]\n",
        "                    );\n",
        "                }\n",
        "            }\n",
        "\n",
        "            // printf(\n",
        "            //     \"tmp = %d, result = %d\\n\",\n",
        "            //     tmp, h_result[rowi * result_dim + coli]\n",
        "            // );\n",
        "            assert(tmp == h_result[rowi * result_dim + coli]);\n",
        "        }\n",
        "    }\n",
        "}\n",
        "\n",
        "int main() {\n",
        "    int result_dim = 1 << 10;\n",
        "    int matrix_dim = result_dim + KERNEL_PAD * 2;\n",
        "\n",
        "    int result_bytes = sizeof(int) * result_dim * result_dim;\n",
        "    int matrix_bytes = sizeof(int) * matrix_dim * matrix_dim;\n",
        "    int kernel_bytes = sizeof(int) * KERNEL_DIM * KERNEL_DIM;\n",
        "\n",
        "    int *h_matrix = (int *) malloc(matrix_bytes);\n",
        "    int *h_kernel = (int *) malloc(kernel_bytes);\n",
        "    int *h_result = (int *) malloc(result_bytes);\n",
        "\n",
        "    for (int rowi = 0; rowi < matrix_dim; rowi++) {\n",
        "        for (int coli = 0; coli < matrix_dim; coli++) {\n",
        "            if (\n",
        "                rowi < KERNEL_PAD || rowi >= result_dim + KERNEL_PAD ||\n",
        "                coli < KERNEL_PAD || coli >= result_dim + KERNEL_PAD\n",
        "            ) {\n",
        "                h_matrix[rowi * matrix_dim + coli] = 0;\n",
        "            } else {\n",
        "                h_matrix[rowi * matrix_dim + coli] = rand() % 100;\n",
        "            }\n",
        "        }\n",
        "    }\n",
        "    for (int rowi = 0; rowi < KERNEL_DIM; rowi++) {\n",
        "        for (int coli = 0; coli < KERNEL_DIM; coli++) {\n",
        "            h_kernel[rowi * KERNEL_DIM + coli] = rand() % 10;\n",
        "        }\n",
        "    }\n",
        "\n",
        "    int *d_matrix, *d_result;\n",
        "    cudaMalloc(&d_matrix, matrix_bytes);\n",
        "    cudaMalloc(&d_result, result_bytes);\n",
        "\n",
        "    cudaMemcpy(d_matrix, h_matrix, matrix_bytes, cudaMemcpyHostToDevice);\n",
        "    cudaMemcpyToSymbol(d_kernel, h_kernel, kernel_bytes);\n",
        "\n",
        "    int threads_per_block_dim = 1 << 4;\n",
        "    int blocks_per_grid_dim = (result_dim + threads_per_block_dim - 1) / threads_per_block_dim;\n",
        "    dim3 block_size(threads_per_block_dim, threads_per_block_dim);\n",
        "    dim3 grid_size(blocks_per_grid_dim, blocks_per_grid_dim);\n",
        "\n",
        "    int smem_per_block_dim = threads_per_block_dim + 2 * KERNEL_PAD;\n",
        "    size_t smem_size = sizeof(int) * smem_per_block_dim * smem_per_block_dim;\n",
        "\n",
        "    convolve_2d<<<grid_size, block_size, smem_size>>>(d_matrix, d_result, result_dim);\n",
        "    cudaMemcpy(h_result, d_result, result_bytes, cudaMemcpyDeviceToHost);\n",
        "    verify_result(h_matrix, h_kernel, h_result, result_dim);\n",
        "\n",
        "    cudaFree(d_matrix);\n",
        "    cudaFree(d_result);\n",
        "\n",
        "    free(h_matrix);\n",
        "    free(h_kernel);\n",
        "    free(h_result);\n",
        "\n",
        "    printf(\"Success!\\n\");\n",
        "    return 0;\n",
        "}"
      ],
      "metadata": {
        "colab": {
          "base_uri": "https://localhost:8080/"
        },
        "id": "8QkXiq8BccfI",
        "outputId": "908e484f-c357-4e84-ce94-77e4bc8f939d"
      },
      "execution_count": 24,
      "outputs": [
        {
          "output_type": "stream",
          "name": "stdout",
          "text": [
            "Success!\n",
            "\n"
          ]
        }
      ]
    },
    {
      "cell_type": "markdown",
      "source": [
        "# Profiler"
      ],
      "metadata": {
        "id": "QHH_Y2nmtzN2"
      }
    },
    {
      "cell_type": "code",
      "source": [
        "# Mount google drive to use a persistent directory structure\n",
        "from google.colab import drive\n",
        "drive.mount('/content/gdrive')"
      ],
      "metadata": {
        "colab": {
          "base_uri": "https://localhost:8080/"
        },
        "id": "FGVugdQocmO5",
        "outputId": "306170de-5df1-4672-8f4e-401452b755c0"
      },
      "execution_count": 25,
      "outputs": [
        {
          "output_type": "stream",
          "name": "stdout",
          "text": [
            "Mounted at /content/gdrive\n"
          ]
        }
      ]
    },
    {
      "cell_type": "code",
      "source": [
        "FOLDER = \"cuda\"\n",
        "ORG = \"TechDailyNotes\"\n",
        "REPO = \"study-notes-cuda\""
      ],
      "metadata": {
        "id": "nKpJemryt63_"
      },
      "execution_count": 27,
      "outputs": []
    },
    {
      "cell_type": "code",
      "source": [
        "%mkdir /content/gdrive/MyDrive/{FOLDER}\n",
        "%cd /content/gdrive/MyDrive/{FOLDER}\n",
        "!echo 'YOUR_TOKEN' > /content/gdrive/MyDrive/{FOLDER}/token.txt\n",
        "!echo 'YOUR_HANDLE' > /content/gdrive/MyDrive/{FOLDER}/git_username.txt"
      ],
      "metadata": {
        "id": "cptXwy8Ot9nj"
      },
      "execution_count": null,
      "outputs": []
    },
    {
      "cell_type": "code",
      "source": [
        "%cd /content/gdrive/MyDrive/{FOLDER}\n",
        "\n",
        "with open(f'/content/gdrive/MyDrive/{FOLDER}/token.txt') as f:\n",
        "    token = f.readline().strip()\n",
        "# Use another file to store your github username\n",
        "with open(f'/content/gdrive/MyDrive/{FOLDER}/git_username.txt') as f:\n",
        "    handle = f.readline().strip()\n",
        "\n",
        "YOUR_TOKEN = token\n",
        "YOUR_HANDLE = handle\n",
        "\n",
        "!git clone https://{YOUR_TOKEN}@github.com/{ORG}/{REPO}.git\n",
        "\n",
        "%cd /content/gdrive/MyDrive/{FOLDER}/{REPO}\n",
        "!git pull"
      ],
      "metadata": {
        "colab": {
          "base_uri": "https://localhost:8080/"
        },
        "id": "d59OzzCZuAWJ",
        "outputId": "d5ae0bf7-dddb-4727-ebbd-8a06bb391879"
      },
      "execution_count": 31,
      "outputs": [
        {
          "output_type": "stream",
          "name": "stdout",
          "text": [
            "/content/gdrive/MyDrive/cuda\n",
            "fatal: destination path 'study-notes-cuda' already exists and is not an empty directory.\n",
            "/content/gdrive/MyDrive/cuda/study-notes-cuda\n",
            "remote: Enumerating objects: 4, done.\u001b[K\n",
            "remote: Counting objects: 100% (4/4), done.\u001b[K\n",
            "remote: Compressing objects: 100% (2/2), done.\u001b[K\n",
            "remote: Total 3 (delta 1), reused 3 (delta 1), pack-reused 0 (from 0)\u001b[K\n",
            "Unpacking objects: 100% (3/3), 1.23 KiB | 24.00 KiB/s, done.\n",
            "From https://github.com/TechDailyNotes/study-notes-cuda\n",
            "   fbbf646..583305d  main       -> origin/main\n",
            "Updating fbbf646..583305d\n",
            "Fast-forward\n",
            " cuda_convolution_2d_constant_memory.cu | 111 \u001b[32m+++++++++++++++++++++++++++++++++++++++++++++++++++++\u001b[m\n",
            " 1 file changed, 111 insertions(+)\n",
            " create mode 100644 cuda_convolution_2d_constant_memory.cu\n"
          ]
        }
      ]
    },
    {
      "cell_type": "code",
      "source": [
        "%cd /content/gdrive/MyDrive/{FOLDER}/{REPO}\n",
        "!ls"
      ],
      "metadata": {
        "colab": {
          "base_uri": "https://localhost:8080/"
        },
        "id": "kSftrDLJuDD4",
        "outputId": "226e7433-20f6-45de-94d3-f777f4efa98f"
      },
      "execution_count": 32,
      "outputs": [
        {
          "output_type": "stream",
          "name": "stdout",
          "text": [
            "/content/gdrive/MyDrive/cuda/study-notes-cuda\n",
            "basics\t\t\t\t\t   cuda_convolution_1d_tiled.cu\n",
            "cuda_basics.ipynb\t\t\t   cuda_convolution_1d_tiled.ipynb\n",
            "cuda_convolution_1d_cache\t\t   cuda_convolution_2d_constant_memory.cu\n",
            "cuda_convolution_1d_cache.cu\t\t   cuda_convolution_2d_constant_memory.ipynb\n",
            "cuda_convolution_1d_cache.ipynb\t\t   cuda_convolution_2d_tiled\n",
            "cuda_convolution_1d_constant_memory\t   cuda_convolution_2d_tiled.cu\n",
            "cuda_convolution_1d_constant_memory.cu\t   cuda_convolution_2d_tiled.ipynb\n",
            "cuda_convolution_1d_constant_memory.ipynb  cuda_cublas.ipynb\n",
            "cuda_convolution_1d_naive\t\t   cuda.ipynb\n",
            "cuda_convolution_1d_naive.cu\t\t   cuda_parallel_reduction.ipynb\n",
            "cuda_convolution_1d_naive.ipynb\t\t   README.md\n",
            "cuda_convolution_1d_tiled\n"
          ]
        }
      ]
    },
    {
      "cell_type": "code",
      "source": [
        "%%sh\n",
        "nvcc -o cuda_convolution_2d_constant_memory cuda_convolution_2d_constant_memory.cu\n",
        "nvcc -o cuda_convolution_2d_tiled cuda_convolution_2d_tiled.cu"
      ],
      "metadata": {
        "id": "K1Zsoth_uFNu"
      },
      "execution_count": 33,
      "outputs": []
    },
    {
      "cell_type": "code",
      "source": [
        "!nvprof ./cuda_convolution_2d_constant_memory"
      ],
      "metadata": {
        "colab": {
          "base_uri": "https://localhost:8080/"
        },
        "id": "WWcmw5d5uRV4",
        "outputId": "54840c33-5759-4d1d-b5a1-2f3c4e38afc1"
      },
      "execution_count": 34,
      "outputs": [
        {
          "output_type": "stream",
          "name": "stdout",
          "text": [
            "==21658== NVPROF is profiling process 21658, command: ./cuda_convolution_2d_constant_memory\n",
            "Success!\n",
            "==21658== Profiling application: ./cuda_convolution_2d_constant_memory\n",
            "==21658== Profiling result:\n",
            "            Type  Time(%)      Time     Calls       Avg       Min       Max  Name\n",
            " GPU activities:   65.43%  1.9924ms         1  1.9924ms  1.9924ms  1.9924ms  [CUDA memcpy DtoH]\n",
            "                   24.22%  737.55us         2  368.78us     704ns  736.85us  [CUDA memcpy HtoD]\n",
            "                   10.35%  315.03us         1  315.03us  315.03us  315.03us  convolve_2d(int*, int*, int)\n",
            "      API calls:   63.83%  104.89ms         2  52.444ms  76.129us  104.81ms  cudaMalloc\n",
            "                   32.79%  53.886ms         1  53.886ms  53.886ms  53.886ms  cudaMemcpyToSymbol\n",
            "                    2.98%  4.8955ms         2  2.4478ms  909.86us  3.9857ms  cudaMemcpy\n",
            "                    0.25%  410.98us         2  205.49us  200.19us  210.80us  cudaFree\n",
            "                    0.09%  152.75us       114  1.3390us     156ns  58.390us  cuDeviceGetAttribute\n",
            "                    0.03%  49.961us         1  49.961us  49.961us  49.961us  cudaLaunchKernel\n",
            "                    0.01%  12.055us         1  12.055us  12.055us  12.055us  cuDeviceGetName\n",
            "                    0.01%  11.808us         1  11.808us  11.808us  11.808us  cuDeviceTotalMem\n",
            "                    0.00%  6.4370us         1  6.4370us  6.4370us  6.4370us  cuDeviceGetPCIBusId\n",
            "                    0.00%  3.1930us         2  1.5960us     174ns  3.0190us  cuDeviceGet\n",
            "                    0.00%  1.7110us         3     570ns     236ns  1.1350us  cuDeviceGetCount\n",
            "                    0.00%     663ns         1     663ns     663ns     663ns  cuModuleGetLoadingMode\n",
            "                    0.00%     288ns         1     288ns     288ns     288ns  cuDeviceGetUuid\n"
          ]
        }
      ]
    },
    {
      "cell_type": "code",
      "source": [
        "!nvprof ./cuda_convolution_2d_tiled"
      ],
      "metadata": {
        "colab": {
          "base_uri": "https://localhost:8080/"
        },
        "id": "RHam56FMuox9",
        "outputId": "13be4f7c-b511-4895-ac2e-4878e9806521"
      },
      "execution_count": 35,
      "outputs": [
        {
          "output_type": "stream",
          "name": "stdout",
          "text": [
            "==21679== NVPROF is profiling process 21679, command: ./cuda_convolution_2d_tiled\n",
            "Success!\n",
            "==21679== Profiling application: ./cuda_convolution_2d_tiled\n",
            "==21679== Profiling result:\n",
            "            Type  Time(%)      Time     Calls       Avg       Min       Max  Name\n",
            " GPU activities:   60.01%  1.6611ms         1  1.6611ms  1.6611ms  1.6611ms  [CUDA memcpy DtoH]\n",
            "                   28.02%  775.44us         2  387.72us     704ns  774.73us  [CUDA memcpy HtoD]\n",
            "                   11.97%  331.42us         1  331.42us  331.42us  331.42us  convolve_2d(int*, int*, int)\n",
            "      API calls:   94.21%  91.520ms         2  45.760ms  106.30us  91.414ms  cudaMalloc\n",
            "                    4.56%  4.4282ms         2  2.2141ms  944.44us  3.4838ms  cudaMemcpy\n",
            "                    0.59%  573.17us         1  573.17us  573.17us  573.17us  cudaMemcpyToSymbol\n",
            "                    0.44%  429.81us         2  214.91us  141.27us  288.55us  cudaFree\n",
            "                    0.14%  135.31us       114  1.1860us     140ns  53.923us  cuDeviceGetAttribute\n",
            "                    0.03%  29.940us         1  29.940us  29.940us  29.940us  cudaLaunchKernel\n",
            "                    0.01%  10.900us         1  10.900us  10.900us  10.900us  cuDeviceGetName\n",
            "                    0.01%  6.2170us         1  6.2170us  6.2170us  6.2170us  cuDeviceGetPCIBusId\n",
            "                    0.01%  5.7470us         1  5.7470us  5.7470us  5.7470us  cuDeviceTotalMem\n",
            "                    0.00%  1.9710us         3     657ns     265ns  1.4210us  cuDeviceGetCount\n",
            "                    0.00%     912ns         2     456ns     174ns     738ns  cuDeviceGet\n",
            "                    0.00%     447ns         1     447ns     447ns     447ns  cuModuleGetLoadingMode\n",
            "                    0.00%     233ns         1     233ns     233ns     233ns  cuDeviceGetUuid\n"
          ]
        }
      ]
    }
  ]
}