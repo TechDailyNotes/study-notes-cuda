{
  "nbformat": 4,
  "nbformat_minor": 0,
  "metadata": {
    "colab": {
      "provenance": [],
      "gpuType": "T4",
      "authorship_tag": "ABX9TyOTjFYbq1bbfhQ/+FutNZ1o",
      "include_colab_link": true
    },
    "kernelspec": {
      "name": "python3",
      "display_name": "Python 3"
    },
    "language_info": {
      "name": "python"
    },
    "accelerator": "GPU"
  },
  "cells": [
    {
      "cell_type": "markdown",
      "metadata": {
        "id": "view-in-github",
        "colab_type": "text"
      },
      "source": [
        "<a href=\"https://colab.research.google.com/github/TechDailyNotes/study-notes-cuda/blob/main/cuda_convolution_1d_cache.ipynb\" target=\"_parent\"><img src=\"https://colab.research.google.com/assets/colab-badge.svg\" alt=\"Open In Colab\"/></a>"
      ]
    },
    {
      "cell_type": "code",
      "execution_count": 5,
      "metadata": {
        "colab": {
          "base_uri": "https://localhost:8080/"
        },
        "id": "cKDLUjAIywlF",
        "outputId": "400deab9-77a5-42ee-a16a-0b4127dd08e1"
      },
      "outputs": [
        {
          "output_type": "stream",
          "name": "stdout",
          "text": [
            "nvcc: NVIDIA (R) Cuda compiler driver\n",
            "Copyright (c) 2005-2023 NVIDIA Corporation\n",
            "Built on Tue_Aug_15_22:02:13_PDT_2023\n",
            "Cuda compilation tools, release 12.2, V12.2.140\n",
            "Build cuda_12.2.r12.2/compiler.33191640_0\n",
            "Requirement already satisfied: nvcc4jupyter in /usr/local/lib/python3.10/dist-packages (1.2.1)\n"
          ]
        }
      ],
      "source": [
        "%%sh\n",
        "nvcc --version\n",
        "python3 -m pip install nvcc4jupyter"
      ]
    },
    {
      "cell_type": "code",
      "source": [
        "%load_ext nvcc4jupyter"
      ],
      "metadata": {
        "colab": {
          "base_uri": "https://localhost:8080/"
        },
        "id": "qmgb5d5d0u0g",
        "outputId": "f6d8eeea-f71c-4c0a-a919-b748584744f6"
      },
      "execution_count": 6,
      "outputs": [
        {
          "output_type": "stream",
          "name": "stdout",
          "text": [
            "The nvcc4jupyter extension is already loaded. To reload it, use:\n",
            "  %reload_ext nvcc4jupyter\n"
          ]
        }
      ]
    },
    {
      "cell_type": "markdown",
      "source": [
        "# Chapter 1: 1D Convolution Completely Using SRAM/Shared On-Chip Memory"
      ],
      "metadata": {
        "id": "dvGV0k_L17tF"
      }
    },
    {
      "cell_type": "code",
      "source": [
        "%%cuda\n",
        "\n",
        "#include <assert.h>\n",
        "#include <cuda_runtime.h>\n",
        "#include <math.h>\n",
        "#include <stdio.h>\n",
        "#include <stdlib.h>\n",
        "\n",
        "#define M 7\n",
        "\n",
        "__constant__ int d_msk[M];\n",
        "\n",
        "__global__ void convolve_1d(int *d_vec, int *d_res, int n) {\n",
        "    extern __shared__ int s_mem[];\n",
        "    int r = M / 2;\n",
        "\n",
        "    int l_tid = threadIdx.x;\n",
        "    int g_tid = threadIdx.x + blockIdx.x * blockDim.x;\n",
        "    if (g_tid >= n) return;\n",
        "\n",
        "    s_mem[l_tid] = d_vec[g_tid];\n",
        "    if (l_tid < 2 * r) {\n",
        "        s_mem[l_tid + blockDim.x] = d_vec[g_tid + blockDim.x];\n",
        "    }\n",
        "    __syncthreads();\n",
        "\n",
        "    int tmp = 0;\n",
        "\n",
        "    for (int i = l_tid; i <= l_tid + 2 * r; i++) {\n",
        "        tmp += s_mem[i] * d_msk[i - l_tid];\n",
        "    }\n",
        "\n",
        "    d_res[g_tid] = tmp;\n",
        "}\n",
        "\n",
        "void verify_result(int *h_vec, int *h_msk, int *h_res, int n) {\n",
        "    for (int i = 0; i < n; i++) {\n",
        "        int tmp = 0;\n",
        "        int r = M / 2;\n",
        "\n",
        "        for (int j = i; j <= i + 2 * r; j++) {\n",
        "            tmp += h_vec[j] * h_msk[j - i];\n",
        "        }\n",
        "\n",
        "        // printf(\"tmp = %d, res = %d\\n\", tmp, h_res[i]);\n",
        "        assert(tmp == h_res[i]);\n",
        "    }\n",
        "}\n",
        "\n",
        "int main() {\n",
        "    int n = 1 << 20;\n",
        "    int r = M / 2;\n",
        "    int p = n + r * 2;\n",
        "\n",
        "    int n_bytes = sizeof(int) * n;\n",
        "    int m_bytes = sizeof(int) * M;\n",
        "    int p_bytes = sizeof(int) * p;\n",
        "\n",
        "    int *h_vec = (int*) malloc(p_bytes);\n",
        "    int *h_msk = (int*) malloc(m_bytes);\n",
        "    int *h_res = (int*) malloc(n_bytes);\n",
        "\n",
        "    for (int i = 0; i < p; i++) h_vec[i] = rand() % 100;\n",
        "    for (int i = 0; i < M; i++) h_msk[i] = rand() % 10;\n",
        "\n",
        "    int *d_vec, *d_res;\n",
        "    cudaMalloc(&d_vec, p_bytes);\n",
        "    cudaMalloc(&d_res, n_bytes);\n",
        "\n",
        "    cudaMemcpy(d_vec, h_vec, p_bytes, cudaMemcpyHostToDevice);\n",
        "    cudaMemcpyToSymbol(d_msk, h_msk, m_bytes);\n",
        "\n",
        "    int num_threads = 1 << 8;\n",
        "    dim3 blck_size(num_threads);\n",
        "    dim3 grid_size((n + num_threads - 1) / num_threads);\n",
        "    size_t smem_size = sizeof(int) * (num_threads + 2 * r);\n",
        "\n",
        "    convolve_1d<<<grid_size, blck_size, smem_size>>>(d_vec, d_res, n);\n",
        "    cudaMemcpy(h_res, d_res, n_bytes, cudaMemcpyDeviceToHost);\n",
        "    verify_result(h_vec, h_msk, h_res, n);\n",
        "\n",
        "    cudaFree(d_vec);\n",
        "    cudaFree(d_res);\n",
        "\n",
        "    free(h_vec);\n",
        "    free(h_msk);\n",
        "    free(h_res);\n",
        "\n",
        "    printf(\"Success!\");\n",
        "    return 0;\n",
        "}"
      ],
      "metadata": {
        "colab": {
          "base_uri": "https://localhost:8080/"
        },
        "id": "pF7lbkfs0yb6",
        "outputId": "e63815bc-89bd-40c6-c392-40c516b46a21"
      },
      "execution_count": 15,
      "outputs": [
        {
          "output_type": "stream",
          "name": "stdout",
          "text": [
            "Success!\n"
          ]
        }
      ]
    },
    {
      "cell_type": "markdown",
      "source": [
        "# Chapter 2: 1D Convolution Partially Using L1 Cache"
      ],
      "metadata": {
        "id": "fFo9Md0S2HtA"
      }
    },
    {
      "cell_type": "code",
      "source": [
        "%%cuda\n",
        "\n",
        "#include <assert.h>\n",
        "#include <cuda_runtime.h>\n",
        "#include <math.h>\n",
        "#include <stdio.h>\n",
        "#include <stdlib.h>\n",
        "\n",
        "#define M 7\n",
        "\n",
        "__constant__ int d_msk[M];\n",
        "\n",
        "__global__ void convolve_1d(int *d_vec, int *d_res, int n) {\n",
        "    extern __shared__ int s_mem[];\n",
        "\n",
        "    int g_tid = threadIdx.x + blockIdx.x * blockDim.x;\n",
        "    int l_tid = threadIdx.x;\n",
        "    if (g_tid >= n) return;\n",
        "\n",
        "    s_mem[l_tid] = d_vec[g_tid];\n",
        "    __syncthreads();\n",
        "\n",
        "    int tmp = 0;\n",
        "    int r = M / 2;\n",
        "\n",
        "    for (int i = l_tid; i <= l_tid + 2 * r; i++) {\n",
        "        if (i < blockDim.x) tmp += s_mem[i] * d_msk[i - l_tid];\n",
        "        else tmp += d_vec[g_tid + i - l_tid] * d_msk[i - l_tid];\n",
        "    }\n",
        "\n",
        "    d_res[g_tid] = tmp;\n",
        "}\n",
        "\n",
        "void verify_result(int *h_vec, int *h_msk, int *h_res, int n) {\n",
        "    for (int i = 0; i < n; i++) {\n",
        "        int tmp = 0;\n",
        "        int r = M / 2;\n",
        "\n",
        "        for (int j = i; j <= i + 2 * r; j++) {\n",
        "            tmp += h_msk[j - i] * h_vec[j];\n",
        "        }\n",
        "\n",
        "        // printf(\"tmp = %d, res = %d\\n\", tmp, h_res[i]);\n",
        "        assert(tmp == h_res[i]);\n",
        "    }\n",
        "}\n",
        "\n",
        "int main() {\n",
        "    int n = 1 << 20;\n",
        "    int r = M / 2;\n",
        "    int p = n + 2 * r;\n",
        "\n",
        "    int n_bytes = sizeof(int) * n;\n",
        "    int m_bytes = sizeof(int) * M;\n",
        "    int p_bytes = sizeof(int) * p;\n",
        "\n",
        "    int *h_vec = (int *) malloc(p_bytes);\n",
        "    int *h_msk = (int *) malloc(m_bytes);\n",
        "    int *h_res = (int *) malloc(n_bytes);\n",
        "\n",
        "    for (int i = 0; i < p; i++) {\n",
        "        if (i < r || i >= n + r) h_vec[i] = 0;\n",
        "        else h_vec[i] = rand() % 100;\n",
        "    }\n",
        "    for (int i = 0; i < M; i++) {\n",
        "        h_msk[i] = rand() % 10;\n",
        "    }\n",
        "\n",
        "    int *d_vec, *d_res;\n",
        "    cudaMalloc(&d_vec, p_bytes);\n",
        "    cudaMalloc(&d_res, n_bytes);\n",
        "\n",
        "    cudaMemcpy(d_vec, h_vec, p_bytes, cudaMemcpyHostToDevice);\n",
        "    cudaMemcpyToSymbol(d_msk, h_msk, m_bytes);\n",
        "\n",
        "    int num_threads = 1 << 8;\n",
        "    dim3 blck_size(num_threads);\n",
        "    dim3 grid_size((n + num_threads - 1) / num_threads);\n",
        "    size_t smem_size = sizeof(int) * num_threads;\n",
        "    convolve_1d<<<grid_size, blck_size, smem_size>>>(d_vec, d_res, n);\n",
        "\n",
        "    cudaMemcpy(h_res, d_res, n_bytes, cudaMemcpyDeviceToHost);\n",
        "    verify_result(h_vec, h_msk, h_res, n);\n",
        "\n",
        "    free(h_vec);\n",
        "    free(h_msk);\n",
        "    free(h_res);\n",
        "\n",
        "    printf(\"Succees!\");\n",
        "    return 0;\n",
        "}"
      ],
      "metadata": {
        "colab": {
          "base_uri": "https://localhost:8080/"
        },
        "id": "GiMc5RuM2JPu",
        "outputId": "d622bbab-154f-4c16-89bf-b8e90168cde4"
      },
      "execution_count": 26,
      "outputs": [
        {
          "output_type": "stream",
          "name": "stdout",
          "text": [
            "Succees!\n"
          ]
        }
      ]
    },
    {
      "cell_type": "code",
      "source": [],
      "metadata": {
        "id": "YPt0vjD4_24_"
      },
      "execution_count": null,
      "outputs": []
    }
  ]
}