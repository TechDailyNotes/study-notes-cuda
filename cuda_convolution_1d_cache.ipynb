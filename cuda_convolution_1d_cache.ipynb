{
  "nbformat": 4,
  "nbformat_minor": 0,
  "metadata": {
    "colab": {
      "provenance": [],
      "gpuType": "T4",
      "authorship_tag": "ABX9TyPJhfQTXgu7tLjASwjvrfB/",
      "include_colab_link": true
    },
    "kernelspec": {
      "name": "python3",
      "display_name": "Python 3"
    },
    "language_info": {
      "name": "python"
    },
    "accelerator": "GPU"
  },
  "cells": [
    {
      "cell_type": "markdown",
      "metadata": {
        "id": "view-in-github",
        "colab_type": "text"
      },
      "source": [
        "<a href=\"https://colab.research.google.com/github/TechDailyNotes/study-notes-cuda/blob/main/cuda_convolution_1d_cache.ipynb\" target=\"_parent\"><img src=\"https://colab.research.google.com/assets/colab-badge.svg\" alt=\"Open In Colab\"/></a>"
      ]
    },
    {
      "cell_type": "code",
      "execution_count": 5,
      "metadata": {
        "colab": {
          "base_uri": "https://localhost:8080/"
        },
        "id": "cKDLUjAIywlF",
        "outputId": "400deab9-77a5-42ee-a16a-0b4127dd08e1"
      },
      "outputs": [
        {
          "output_type": "stream",
          "name": "stdout",
          "text": [
            "nvcc: NVIDIA (R) Cuda compiler driver\n",
            "Copyright (c) 2005-2023 NVIDIA Corporation\n",
            "Built on Tue_Aug_15_22:02:13_PDT_2023\n",
            "Cuda compilation tools, release 12.2, V12.2.140\n",
            "Build cuda_12.2.r12.2/compiler.33191640_0\n",
            "Requirement already satisfied: nvcc4jupyter in /usr/local/lib/python3.10/dist-packages (1.2.1)\n"
          ]
        }
      ],
      "source": [
        "%%sh\n",
        "nvcc --version\n",
        "python3 -m pip install nvcc4jupyter"
      ]
    },
    {
      "cell_type": "code",
      "source": [
        "%load_ext nvcc4jupyter"
      ],
      "metadata": {
        "colab": {
          "base_uri": "https://localhost:8080/"
        },
        "id": "qmgb5d5d0u0g",
        "outputId": "f6d8eeea-f71c-4c0a-a919-b748584744f6"
      },
      "execution_count": 6,
      "outputs": [
        {
          "output_type": "stream",
          "name": "stdout",
          "text": [
            "The nvcc4jupyter extension is already loaded. To reload it, use:\n",
            "  %reload_ext nvcc4jupyter\n"
          ]
        }
      ]
    },
    {
      "cell_type": "markdown",
      "source": [
        "# Chapter 1: 1D Convolution Completely Using SRAM/Shared On-Chip Memory"
      ],
      "metadata": {
        "id": "dvGV0k_L17tF"
      }
    },
    {
      "cell_type": "code",
      "source": [
        "%%cuda\n",
        "\n",
        "#include <assert.h>\n",
        "#include <cuda_runtime.h>\n",
        "#include <math.h>\n",
        "#include <stdio.h>\n",
        "#include <stdlib.h>\n",
        "\n",
        "#define M 7\n",
        "\n",
        "__constant__ int d_msk[M];\n",
        "\n",
        "__global__ void convolve_1d(int *d_vec, int *d_res, int n) {\n",
        "    extern __shared__ int s_mem[];\n",
        "    int r = M / 2;\n",
        "\n",
        "    int l_tid = threadIdx.x;\n",
        "    int g_tid = threadIdx.x + blockIdx.x * blockDim.x;\n",
        "    if (g_tid >= n) return;\n",
        "\n",
        "    s_mem[l_tid] = d_vec[g_tid];\n",
        "    if (l_tid < 2 * r) {\n",
        "        s_mem[l_tid + blockDim.x] = d_vec[g_tid + blockDim.x];\n",
        "    }\n",
        "    __syncthreads();\n",
        "\n",
        "    int tmp = 0;\n",
        "\n",
        "    for (int i = l_tid; i <= l_tid + 2 * r; i++) {\n",
        "        tmp += s_mem[i] * d_msk[i - l_tid];\n",
        "    }\n",
        "\n",
        "    d_res[g_tid] = tmp;\n",
        "}\n",
        "\n",
        "void verify_result(int *h_vec, int *h_msk, int *h_res, int n) {\n",
        "    for (int i = 0; i < n; i++) {\n",
        "        int tmp = 0;\n",
        "        int r = M / 2;\n",
        "\n",
        "        for (int j = i; j <= i + 2 * r; j++) {\n",
        "            tmp += h_vec[j] * h_msk[j - i];\n",
        "        }\n",
        "\n",
        "        // printf(\"tmp = %d, res = %d\\n\", tmp, h_res[i]);\n",
        "        assert(tmp == h_res[i]);\n",
        "    }\n",
        "}\n",
        "\n",
        "int main() {\n",
        "    int n = 1 << 20;\n",
        "    int r = M / 2;\n",
        "    int p = n + r * 2;\n",
        "\n",
        "    int n_bytes = sizeof(int) * n;\n",
        "    int m_bytes = sizeof(int) * M;\n",
        "    int p_bytes = sizeof(int) * p;\n",
        "\n",
        "    int *h_vec = (int*) malloc(p_bytes);\n",
        "    int *h_msk = (int*) malloc(m_bytes);\n",
        "    int *h_res = (int*) malloc(n_bytes);\n",
        "\n",
        "    for (int i = 0; i < p; i++) h_vec[i] = rand() % 100;\n",
        "    for (int i = 0; i < M; i++) h_msk[i] = rand() % 10;\n",
        "\n",
        "    int *d_vec, *d_res;\n",
        "    cudaMalloc(&d_vec, p_bytes);\n",
        "    cudaMalloc(&d_res, n_bytes);\n",
        "\n",
        "    cudaMemcpy(d_vec, h_vec, p_bytes, cudaMemcpyHostToDevice);\n",
        "    cudaMemcpyToSymbol(d_msk, h_msk, m_bytes);\n",
        "\n",
        "    int num_threads = 1 << 8;\n",
        "    dim3 blck_size(num_threads);\n",
        "    dim3 grid_size((n + num_threads - 1) / num_threads);\n",
        "    size_t smem_size = sizeof(int) * (num_threads + 2 * r);\n",
        "\n",
        "    convolve_1d<<<grid_size, blck_size, smem_size>>>(d_vec, d_res, n);\n",
        "    cudaMemcpy(h_res, d_res, n_bytes, cudaMemcpyDeviceToHost);\n",
        "    verify_result(h_vec, h_msk, h_res, n);\n",
        "\n",
        "    cudaFree(d_vec);\n",
        "    cudaFree(d_res);\n",
        "\n",
        "    free(h_vec);\n",
        "    free(h_msk);\n",
        "    free(h_res);\n",
        "\n",
        "    printf(\"Success!\");\n",
        "    return 0;\n",
        "}"
      ],
      "metadata": {
        "colab": {
          "base_uri": "https://localhost:8080/"
        },
        "id": "pF7lbkfs0yb6",
        "outputId": "e63815bc-89bd-40c6-c392-40c516b46a21"
      },
      "execution_count": 15,
      "outputs": [
        {
          "output_type": "stream",
          "name": "stdout",
          "text": [
            "Success!\n"
          ]
        }
      ]
    },
    {
      "cell_type": "markdown",
      "source": [
        "# Chapter 2: 1D Convolution Partially Using L1 Cache"
      ],
      "metadata": {
        "id": "fFo9Md0S2HtA"
      }
    },
    {
      "cell_type": "code",
      "source": [
        "%%cuda\n",
        "\n",
        "#include <assert.h>\n",
        "#include <cuda_runtime.h>\n",
        "#include <math.h>\n",
        "#include <stdio.h>\n",
        "#include <stdlib.h>\n",
        "\n",
        "#define M 7\n",
        "\n",
        "__constant__ int d_msk[M];\n",
        "\n",
        "__global__ void convolve_1d(int *d_vec, int *d_res, int n) {\n",
        "    extern __shared__ int s_mem[];\n",
        "\n",
        "    int g_tid = threadIdx.x + blockIdx.x * blockDim.x;\n",
        "    int l_tid = threadIdx.x;\n",
        "    if (g_tid >= n) return;\n",
        "\n",
        "    s_mem[l_tid] = d_vec[g_tid];\n",
        "    __syncthreads();\n",
        "\n",
        "    int tmp = 0;\n",
        "    int r = M / 2;\n",
        "\n",
        "    for (int i = l_tid; i <= l_tid + 2 * r; i++) {\n",
        "        if (i < blockDim.x) tmp += s_mem[i] * d_msk[i - l_tid];\n",
        "        else tmp += d_vec[g_tid + i - l_tid] * d_msk[i - l_tid];\n",
        "    }\n",
        "\n",
        "    d_res[g_tid] = tmp;\n",
        "}\n",
        "\n",
        "void verify_result(int *h_vec, int *h_msk, int *h_res, int n) {\n",
        "    for (int i = 0; i < n; i++) {\n",
        "        int tmp = 0;\n",
        "        int r = M / 2;\n",
        "\n",
        "        for (int j = i; j <= i + 2 * r; j++) {\n",
        "            tmp += h_msk[j - i] * h_vec[j];\n",
        "        }\n",
        "\n",
        "        // printf(\"tmp = %d, res = %d\\n\", tmp, h_res[i]);\n",
        "        assert(tmp == h_res[i]);\n",
        "    }\n",
        "}\n",
        "\n",
        "int main() {\n",
        "    int n = 1 << 20;\n",
        "    int r = M / 2;\n",
        "    int p = n + 2 * r;\n",
        "\n",
        "    int n_bytes = sizeof(int) * n;\n",
        "    int m_bytes = sizeof(int) * M;\n",
        "    int p_bytes = sizeof(int) * p;\n",
        "\n",
        "    int *h_vec = (int *) malloc(p_bytes);\n",
        "    int *h_msk = (int *) malloc(m_bytes);\n",
        "    int *h_res = (int *) malloc(n_bytes);\n",
        "\n",
        "    for (int i = 0; i < p; i++) {\n",
        "        if (i < r || i >= n + r) h_vec[i] = 0;\n",
        "        else h_vec[i] = rand() % 100;\n",
        "    }\n",
        "    for (int i = 0; i < M; i++) {\n",
        "        h_msk[i] = rand() % 10;\n",
        "    }\n",
        "\n",
        "    int *d_vec, *d_res;\n",
        "    cudaMalloc(&d_vec, p_bytes);\n",
        "    cudaMalloc(&d_res, n_bytes);\n",
        "\n",
        "    cudaMemcpy(d_vec, h_vec, p_bytes, cudaMemcpyHostToDevice);\n",
        "    cudaMemcpyToSymbol(d_msk, h_msk, m_bytes);\n",
        "\n",
        "    int num_threads = 1 << 8;\n",
        "    dim3 blck_size(num_threads);\n",
        "    dim3 grid_size((n + num_threads - 1) / num_threads);\n",
        "    size_t smem_size = sizeof(int) * num_threads;\n",
        "    convolve_1d<<<grid_size, blck_size, smem_size>>>(d_vec, d_res, n);\n",
        "\n",
        "    cudaMemcpy(h_res, d_res, n_bytes, cudaMemcpyDeviceToHost);\n",
        "    verify_result(h_vec, h_msk, h_res, n);\n",
        "\n",
        "    free(h_vec);\n",
        "    free(h_msk);\n",
        "    free(h_res);\n",
        "\n",
        "    printf(\"Succees!\");\n",
        "    return 0;\n",
        "}"
      ],
      "metadata": {
        "colab": {
          "base_uri": "https://localhost:8080/"
        },
        "id": "GiMc5RuM2JPu",
        "outputId": "d622bbab-154f-4c16-89bf-b8e90168cde4"
      },
      "execution_count": 26,
      "outputs": [
        {
          "output_type": "stream",
          "name": "stdout",
          "text": [
            "Succees!\n"
          ]
        }
      ]
    },
    {
      "cell_type": "markdown",
      "source": [
        "# Profiler"
      ],
      "metadata": {
        "id": "Pinv9r2ZF3ph"
      }
    },
    {
      "cell_type": "code",
      "source": [
        "# Mount google drive to use a persistent directory structure\n",
        "from google.colab import drive\n",
        "drive.mount('/content/gdrive')"
      ],
      "metadata": {
        "colab": {
          "base_uri": "https://localhost:8080/"
        },
        "id": "YPt0vjD4_24_",
        "outputId": "59124d2d-784f-4f6e-cc38-53a1eac11eac"
      },
      "execution_count": 27,
      "outputs": [
        {
          "output_type": "stream",
          "name": "stdout",
          "text": [
            "Mounted at /content/gdrive\n"
          ]
        }
      ]
    },
    {
      "cell_type": "code",
      "source": [
        "FOLDER = \"cuda\"\n",
        "ORG = \"TechDailyNotes\"\n",
        "REPO = \"study-notes-cuda\""
      ],
      "metadata": {
        "id": "GYvfJvfhF-1O"
      },
      "execution_count": 28,
      "outputs": []
    },
    {
      "cell_type": "code",
      "source": [
        "%mkdir /content/gdrive/MyDrive/{FOLDER}\n",
        "%cd /content/gdrive/MyDrive/{FOLDER}\n",
        "!echo 'YOUR_TOKEN' > /content/gdrive/MyDrive/{FOLDER}/token.txt\n",
        "!echo 'YOUR_HANDLE' > /content/gdrive/MyDrive/{FOLDER}/git_username.txt"
      ],
      "metadata": {
        "id": "iEvjD7phF_Iz"
      },
      "execution_count": 28,
      "outputs": []
    },
    {
      "cell_type": "code",
      "source": [
        "%cd /content/gdrive/MyDrive/{FOLDER}\n",
        "\n",
        "with open(f'/content/gdrive/MyDrive/{FOLDER}/token.txt') as f:\n",
        "    token = f.readline().strip()\n",
        "# Use another file to store your github username\n",
        "with open(f'/content/gdrive/MyDrive/{FOLDER}/git_username.txt') as f:\n",
        "    handle = f.readline().strip()\n",
        "\n",
        "YOUR_TOKEN = token\n",
        "YOUR_HANDLE = handle\n",
        "\n",
        "!git clone https://{YOUR_TOKEN}@github.com/{ORG}/{REPO}.git\n",
        "\n",
        "%cd /content/gdrive/MyDrive/{FOLDER}/{REPO}\n",
        "!git pull"
      ],
      "metadata": {
        "colab": {
          "base_uri": "https://localhost:8080/"
        },
        "id": "yrgnIjlmGA8S",
        "outputId": "417acbcd-b738-4eef-b3c5-321967dce917"
      },
      "execution_count": 34,
      "outputs": [
        {
          "output_type": "stream",
          "name": "stdout",
          "text": [
            "/content/gdrive/MyDrive/cuda\n",
            "fatal: destination path 'study-notes-cuda' already exists and is not an empty directory.\n",
            "/content/gdrive/MyDrive/cuda/study-notes-cuda\n",
            "remote: Enumerating objects: 5, done.\u001b[K\n",
            "remote: Counting objects: 100% (5/5), done.\u001b[K\n",
            "remote: Compressing objects: 100% (1/1), done.\u001b[K\n",
            "remote: Total 3 (delta 2), reused 3 (delta 2), pack-reused 0 (from 0)\u001b[K\n",
            "Unpacking objects: 100% (3/3), 286 bytes | 5.00 KiB/s, done.\n",
            "From https://github.com/TechDailyNotes/study-notes-cuda\n",
            "   ab942c6..bdaf760  main       -> origin/main\n",
            "Updating ab942c6..bdaf760\n",
            "Fast-forward\n",
            " cuda_convolution_1d_cache.cu | 2 \u001b[31m--\u001b[m\n",
            " 1 file changed, 2 deletions(-)\n"
          ]
        }
      ]
    },
    {
      "cell_type": "code",
      "source": [
        "%cd /content/gdrive/MyDrive/{FOLDER}/{REPO}\n",
        "!ls"
      ],
      "metadata": {
        "colab": {
          "base_uri": "https://localhost:8080/"
        },
        "id": "Dx05g0VcGHrV",
        "outputId": "066e3120-e937-4a1d-c0b4-254457c5acb5"
      },
      "execution_count": 35,
      "outputs": [
        {
          "output_type": "stream",
          "name": "stdout",
          "text": [
            "/content/gdrive/MyDrive/cuda/study-notes-cuda\n",
            "basics\t\t\t\t\t   cuda_convolution_1d_naive.ipynb\n",
            "cuda_basics.ipynb\t\t\t   cuda_convolution_1d_tiled\n",
            "cuda_convolution_1d_cache.cu\t\t   cuda_convolution_1d_tiled.cu\n",
            "cuda_convolution_1d_cache.ipynb\t\t   cuda_convolution_1d_tiled.ipynb\n",
            "cuda_convolution_1d_constant_memory\t   cuda_cublas.ipynb\n",
            "cuda_convolution_1d_constant_memory.cu\t   cuda.ipynb\n",
            "cuda_convolution_1d_constant_memory.ipynb  cuda_parallel_reduction.ipynb\n",
            "cuda_convolution_1d_naive\t\t   README.md\n",
            "cuda_convolution_1d_naive.cu\n"
          ]
        }
      ]
    },
    {
      "cell_type": "code",
      "source": [
        "%%sh\n",
        "nvcc -o cuda_convolution_1d_naive cuda_convolution_1d_naive.cu\n",
        "nvcc -o cuda_convolution_1d_constant_memory cuda_convolution_1d_constant_memory.cu\n",
        "nvcc -o cuda_convolution_1d_tiled cuda_convolution_1d_tiled.cu\n",
        "nvcc -o cuda_convolution_1d_cache cuda_convolution_1d_cache.cu"
      ],
      "metadata": {
        "id": "W1hPX3XRGKmK"
      },
      "execution_count": 36,
      "outputs": []
    },
    {
      "cell_type": "code",
      "source": [
        "!nvprof ./cuda_convolution_1d_naive"
      ],
      "metadata": {
        "colab": {
          "base_uri": "https://localhost:8080/"
        },
        "id": "E8l5mqqRGeHF",
        "outputId": "b2a3f1a1-d72a-4c9d-c589-58957bba8e92"
      },
      "execution_count": 38,
      "outputs": [
        {
          "output_type": "stream",
          "name": "stdout",
          "text": [
            "==22181== NVPROF is profiling process 22181, command: ./cuda_convolution_1d_naive\n",
            "All pass!\n",
            "Success!==22181== Profiling application: ./cuda_convolution_1d_naive\n",
            "==22181== Profiling result:\n",
            "            Type  Time(%)      Time     Calls       Avg       Min       Max  Name\n",
            " GPU activities:   51.45%  733.50us         2  366.75us     672ns  732.83us  [CUDA memcpy HtoD]\n",
            "                   42.27%  602.56us         1  602.56us  602.56us  602.56us  [CUDA memcpy DtoH]\n",
            "                    6.28%  89.536us         1  89.536us  89.536us  89.536us  convolve_1d(int*, int*, int*, int, int)\n",
            "      API calls:   63.41%  94.589ms         3  31.530ms  69.734us  94.447ms  cudaMalloc\n",
            "                   34.77%  51.859ms         1  51.859ms  51.859ms  51.859ms  cudaLaunchKernel\n",
            "                    1.37%  2.0419ms         3  680.65us  88.021us  1.0644ms  cudaMemcpy\n",
            "                    0.33%  494.05us         3  164.68us  116.57us  203.86us  cudaFree\n",
            "                    0.10%  149.13us       114  1.3080us     149ns  53.538us  cuDeviceGetAttribute\n",
            "                    0.01%  13.290us         1  13.290us  13.290us  13.290us  cuDeviceGetName\n",
            "                    0.00%  5.8310us         1  5.8310us  5.8310us  5.8310us  cuDeviceTotalMem\n",
            "                    0.00%  5.1930us         1  5.1930us  5.1930us  5.1930us  cuDeviceGetPCIBusId\n",
            "                    0.00%  1.7610us         3     587ns     237ns  1.0120us  cuDeviceGetCount\n",
            "                    0.00%  1.1390us         2     569ns     297ns     842ns  cuDeviceGet\n",
            "                    0.00%     590ns         1     590ns     590ns     590ns  cuDeviceGetUuid\n",
            "                    0.00%     513ns         1     513ns     513ns     513ns  cuModuleGetLoadingMode\n"
          ]
        }
      ]
    },
    {
      "cell_type": "code",
      "source": [
        "!nvprof ./cuda_convolution_1d_constant_memory"
      ],
      "metadata": {
        "colab": {
          "base_uri": "https://localhost:8080/"
        },
        "id": "tbPmseoVGu9o",
        "outputId": "3faf79d1-e3d5-4758-8d5c-fc43036db0a9"
      },
      "execution_count": 39,
      "outputs": [
        {
          "output_type": "stream",
          "name": "stdout",
          "text": [
            "==22220== NVPROF is profiling process 22220, command: ./cuda_convolution_1d_constant_memory\n",
            "Success!\n",
            "==22220== Profiling application: ./cuda_convolution_1d_constant_memory\n",
            "==22220== Profiling result:\n",
            "            Type  Time(%)      Time     Calls       Avg       Min       Max  Name\n",
            " GPU activities:   52.81%  784.73us         2  392.36us     672ns  784.06us  [CUDA memcpy HtoD]\n",
            "                   43.95%  653.15us         1  653.15us  653.15us  653.15us  [CUDA memcpy DtoH]\n",
            "                    3.24%  48.191us         1  48.191us  48.191us  48.191us  convolve_1d(int*, int*, int)\n",
            "      API calls:   64.40%  119.32ms         2  59.660ms  97.677us  119.22ms  cudaMalloc\n",
            "                   34.16%  63.297ms         1  63.297ms  63.297ms  63.297ms  cudaMemcpyToSymbol\n",
            "                    1.10%  2.0318ms         2  1.0159ms  956.38us  1.0754ms  cudaMemcpy\n",
            "                    0.21%  385.62us         2  192.81us  166.23us  219.39us  cudaFree\n",
            "                    0.10%  188.37us       114  1.6520us     235ns  71.888us  cuDeviceGetAttribute\n",
            "                    0.02%  40.405us         1  40.405us  40.405us  40.405us  cudaLaunchKernel\n",
            "                    0.01%  12.350us         1  12.350us  12.350us  12.350us  cuDeviceGetName\n",
            "                    0.00%  7.0460us         1  7.0460us  7.0460us  7.0460us  cuDeviceGetPCIBusId\n",
            "                    0.00%  5.8030us         1  5.8030us  5.8030us  5.8030us  cuDeviceTotalMem\n",
            "                    0.00%  1.7550us         3     585ns     222ns  1.2040us  cuDeviceGetCount\n",
            "                    0.00%  1.1910us         2     595ns     318ns     873ns  cuDeviceGet\n",
            "                    0.00%     467ns         1     467ns     467ns     467ns  cuModuleGetLoadingMode\n",
            "                    0.00%     389ns         1     389ns     389ns     389ns  cuDeviceGetUuid\n"
          ]
        }
      ]
    },
    {
      "cell_type": "code",
      "source": [
        "!nvprof ./cuda_convolution_1d_tiled"
      ],
      "metadata": {
        "colab": {
          "base_uri": "https://localhost:8080/"
        },
        "id": "bmZKtUKLGzQJ",
        "outputId": "be562348-7ee6-4c32-d91c-0bcc952b11fb"
      },
      "execution_count": 40,
      "outputs": [
        {
          "output_type": "stream",
          "name": "stdout",
          "text": [
            "==22303== NVPROF is profiling process 22303, command: ./cuda_convolution_1d_tiled\n",
            "Succees!==22303== Profiling application: ./cuda_convolution_1d_tiled\n",
            "==22303== Profiling result:\n",
            "            Type  Time(%)      Time     Calls       Avg       Min       Max  Name\n",
            " GPU activities:   51.68%  715.55us         2  357.77us     672ns  714.88us  [CUDA memcpy HtoD]\n",
            "                   44.18%  611.71us         1  611.71us  611.71us  611.71us  [CUDA memcpy DtoH]\n",
            "                    4.14%  57.280us         1  57.280us  57.280us  57.280us  convolve_1d(int*, int*, int)\n",
            "      API calls:   69.38%  91.911ms         2  45.956ms  99.528us  91.812ms  cudaMalloc\n",
            "                   28.73%  38.061ms         1  38.061ms  38.061ms  38.061ms  cudaMemcpyToSymbol\n",
            "                    1.43%  1.8958ms         2  947.91us  901.41us  994.40us  cudaMemcpy\n",
            "                    0.32%  426.43us         2  213.21us  141.54us  284.89us  cudaFree\n",
            "                    0.10%  132.14us       114  1.1590us     137ns  52.480us  cuDeviceGetAttribute\n",
            "                    0.02%  29.970us         1  29.970us  29.970us  29.970us  cudaLaunchKernel\n",
            "                    0.01%  12.313us         1  12.313us  12.313us  12.313us  cuDeviceGetName\n",
            "                    0.00%  4.9970us         1  4.9970us  4.9970us  4.9970us  cuDeviceGetPCIBusId\n",
            "                    0.00%  4.2120us         1  4.2120us  4.2120us  4.2120us  cuDeviceTotalMem\n",
            "                    0.00%  1.5490us         3     516ns     183ns  1.0750us  cuDeviceGetCount\n",
            "                    0.00%     871ns         2     435ns     153ns     718ns  cuDeviceGet\n",
            "                    0.00%     542ns         1     542ns     542ns     542ns  cuModuleGetLoadingMode\n",
            "                    0.00%     293ns         1     293ns     293ns     293ns  cuDeviceGetUuid\n"
          ]
        }
      ]
    },
    {
      "cell_type": "code",
      "source": [
        "!nvprof ./cuda_convolution_1d_cache"
      ],
      "metadata": {
        "colab": {
          "base_uri": "https://localhost:8080/"
        },
        "id": "j37xZfGrG3iE",
        "outputId": "a65aecb8-fef0-4edd-bc55-622cd794d91f"
      },
      "execution_count": 41,
      "outputs": [
        {
          "output_type": "stream",
          "name": "stdout",
          "text": [
            "==22354== NVPROF is profiling process 22354, command: ./cuda_convolution_1d_cache\n",
            "Succees!==22354== Profiling application: ./cuda_convolution_1d_cache\n",
            "==22354== Profiling result:\n",
            "            Type  Time(%)      Time     Calls       Avg       Min       Max  Name\n",
            " GPU activities:   67.42%  1.6561ms         1  1.6561ms  1.6561ms  1.6561ms  [CUDA memcpy DtoH]\n",
            "                   29.69%  729.15us         2  364.57us     640ns  728.51us  [CUDA memcpy HtoD]\n",
            "                    2.89%  70.975us         1  70.975us  70.975us  70.975us  convolve_1d(int*, int*, int)\n",
            "      API calls:   95.04%  91.574ms         2  45.787ms  111.03us  91.463ms  cudaMalloc\n",
            "                    4.21%  4.0591ms         2  2.0296ms  928.12us  3.1310ms  cudaMemcpy\n",
            "                    0.53%  511.97us         1  511.97us  511.97us  511.97us  cudaMemcpyToSymbol\n",
            "                    0.15%  146.20us       114  1.2820us     141ns  52.870us  cuDeviceGetAttribute\n",
            "                    0.03%  29.642us         1  29.642us  29.642us  29.642us  cudaLaunchKernel\n",
            "                    0.01%  14.127us         1  14.127us  14.127us  14.127us  cuDeviceGetName\n",
            "                    0.01%  4.8750us         1  4.8750us  4.8750us  4.8750us  cuDeviceGetPCIBusId\n",
            "                    0.00%  4.4390us         1  4.4390us  4.4390us  4.4390us  cuDeviceTotalMem\n",
            "                    0.00%  2.6460us         2  1.3230us     286ns  2.3600us  cuDeviceGet\n",
            "                    0.00%  1.7890us         3     596ns     193ns  1.2670us  cuDeviceGetCount\n",
            "                    0.00%     476ns         1     476ns     476ns     476ns  cuModuleGetLoadingMode\n",
            "                    0.00%     253ns         1     253ns     253ns     253ns  cuDeviceGetUuid\n"
          ]
        }
      ]
    }
  ]
}