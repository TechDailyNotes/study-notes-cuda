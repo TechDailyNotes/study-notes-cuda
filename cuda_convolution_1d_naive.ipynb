{
  "nbformat": 4,
  "nbformat_minor": 0,
  "metadata": {
    "colab": {
      "provenance": [],
      "gpuType": "L4",
      "machine_shape": "hm",
      "authorship_tag": "ABX9TyOhFlgwUf9Q8uut0uF7qpb1",
      "include_colab_link": true
    },
    "kernelspec": {
      "name": "python3",
      "display_name": "Python 3"
    },
    "language_info": {
      "name": "python"
    },
    "accelerator": "GPU"
  },
  "cells": [
    {
      "cell_type": "markdown",
      "metadata": {
        "id": "view-in-github",
        "colab_type": "text"
      },
      "source": [
        "<a href=\"https://colab.research.google.com/github/TechDailyNotes/study-notes-cuda/blob/main/cuda_convolution_1d_naive.ipynb\" target=\"_parent\"><img src=\"https://colab.research.google.com/assets/colab-badge.svg\" alt=\"Open In Colab\"/></a>"
      ]
    },
    {
      "cell_type": "code",
      "execution_count": 1,
      "metadata": {
        "id": "2-lJszycPfPa",
        "colab": {
          "base_uri": "https://localhost:8080/"
        },
        "outputId": "36a7cc86-a85e-4d54-b3b9-e0860778c6d7"
      },
      "outputs": [
        {
          "output_type": "stream",
          "name": "stdout",
          "text": [
            "nvcc: NVIDIA (R) Cuda compiler driver\n",
            "Copyright (c) 2005-2023 NVIDIA Corporation\n",
            "Built on Tue_Aug_15_22:02:13_PDT_2023\n",
            "Cuda compilation tools, release 12.2, V12.2.140\n",
            "Build cuda_12.2.r12.2/compiler.33191640_0\n",
            "Collecting nvcc4jupyter\n",
            "  Downloading nvcc4jupyter-1.2.1-py3-none-any.whl (10 kB)\n",
            "Installing collected packages: nvcc4jupyter\n",
            "Successfully installed nvcc4jupyter-1.2.1\n",
            "Detected platform \"Colab\". Running its setup...\n",
            "Source files will be saved in \"/tmp/tmpowqfzzw1\".\n"
          ]
        }
      ],
      "source": [
        "!nvcc --version\n",
        "!pip install nvcc4jupyter\n",
        "%load_ext nvcc4jupyter"
      ]
    },
    {
      "cell_type": "code",
      "source": [
        "%%cuda\n",
        "\n",
        "#include <assert.h>\n",
        "#include <cuda_runtime.h>\n",
        "#include <math.h>\n",
        "#include <stdio.h>\n",
        "#include <stdlib.h>\n",
        "\n",
        "__global__ void convolve(\n",
        "    int *d_vec, int *d_msk, int *d_res,\n",
        "    int m_numElementsVec, int m_numElementsMsk\n",
        ") {\n",
        "    // Step 0: Get the thread index.\n",
        "    int g_ti = blockIdx.x * blockDim.x + threadIdx.x;\n",
        "    // if (g_ti >= m_numElementsVec) return;\n",
        "\n",
        "    // Step 1: Compute the convolved result of the current grid.\n",
        "    int sum = 0;\n",
        "    int radius = m_numElementsMsk / 2;\n",
        "\n",
        "    for (int mi = 0; mi < m_numElementsMsk; mi++) {\n",
        "        int vi = g_ti - radius + mi;\n",
        "        if (vi >= 0 && vi < m_numElementsVec) {\n",
        "            sum += d_vec[vi] * d_msk[mi];\n",
        "        }\n",
        "    }\n",
        "\n",
        "    // Step 2: Register the result back to the vector.\n",
        "    d_res[g_ti] = sum;\n",
        "}\n",
        "\n",
        "void m_init(int *m_array, int m_size) {\n",
        "    for (int i = 0; i < m_size; i++) {\n",
        "        m_array[i] = rand() % 100;\n",
        "    }\n",
        "}\n",
        "\n",
        "void verify(\n",
        "    int *h_vec, int *h_msk, int *h_res,\n",
        "    int m_numElementsVec, int m_numElementsMsk\n",
        ") {\n",
        "    int radius = m_numElementsMsk / 2;\n",
        "\n",
        "    for (int ri = 0; ri < m_numElementsVec; ri++) {\n",
        "        int sum = 0;\n",
        "        for (int mi = 0; mi < m_numElementsMsk; mi++) {\n",
        "            int vi = ri - radius + mi;\n",
        "            if (vi >= 0 && vi < m_numElementsVec) {\n",
        "                sum += h_vec[vi] * h_msk[mi];\n",
        "            }\n",
        "        }\n",
        "        assert(sum == h_res[ri]);\n",
        "    }\n",
        "}\n",
        "\n",
        "int main() {\n",
        "    // Step 0: Set up parameters.\n",
        "    int m_numElementsVec = 1 << 20;\n",
        "    int m_numElementsMsk = 7;\n",
        "    size_t m_numBytesVec = sizeof(int) * m_numElementsVec;\n",
        "    size_t m_numBytesMsk = sizeof(int) * m_numElementsMsk;\n",
        "\n",
        "    int d_blockDimX = 1 << 8;\n",
        "    int d_gridDimX = (int) ceil(1.0 * m_numElementsVec / d_blockDimX);\n",
        "\n",
        "    // Step 1: Init memories on both cpu and gpu.\n",
        "    int *h_vec = new int[m_numElementsVec];\n",
        "    int *h_msk = new int[m_numElementsMsk];\n",
        "    int *h_res = new int[m_numElementsVec];\n",
        "    m_init(h_vec, m_numElementsVec);\n",
        "    m_init(h_msk, m_numElementsMsk);\n",
        "\n",
        "    int *d_vec, *d_msk, *d_res;\n",
        "    cudaMalloc(&d_vec, m_numBytesVec);\n",
        "    cudaMalloc(&d_msk, m_numBytesMsk);\n",
        "    cudaMalloc(&d_res, m_numBytesVec);\n",
        "\n",
        "    // Step 2: Launch the kernel function to convolve the vector with the mask.\n",
        "    cudaMemcpy(d_vec, h_vec, m_numElementsVec, cudaMemcpyHostToDevice);\n",
        "    cudaMemcpy(d_msk, h_msk, m_numElementsMsk, cudaMemcpyHostToDevice);\n",
        "    convolve<<<d_gridDimX, d_blockDimX>>>(\n",
        "        d_vec, d_msk, d_res,\n",
        "        m_numElementsVec, m_numElementsMsk\n",
        "    );\n",
        "    cudaMemcpy(h_res, d_res, m_numElementsVec, cudaMemcpyDeviceToHost);\n",
        "\n",
        "    verify(h_vec, h_msk, h_res, m_numElementsVec, m_numElementsMsk);\n",
        "\n",
        "    // Step 3: Clear memories.\n",
        "    delete[] h_vec;\n",
        "    delete[] h_msk;\n",
        "    delete[] h_res;\n",
        "    cudaFree(d_vec);\n",
        "    cudaFree(d_msk);\n",
        "    cudaFree(d_res);\n",
        "\n",
        "    printf(\"Success!\");\n",
        "    return 0;\n",
        "}"
      ],
      "metadata": {
        "colab": {
          "base_uri": "https://localhost:8080/"
        },
        "id": "lwzYBB-2TWyb",
        "outputId": "1692f812-90d3-4109-b162-3599f2219b6b"
      },
      "execution_count": 4,
      "outputs": [
        {
          "output_type": "stream",
          "name": "stdout",
          "text": [
            "cuda_exec.out: /tmp/tmpowqfzzw1/43099496-155f-4d0e-af94-e1ffe3b00020/single_file.cu:52: void verify(int*, int*, int*, int, int): Assertion `sum == h_res[ri]' failed.\n",
            "\n"
          ]
        }
      ]
    }
  ]
}