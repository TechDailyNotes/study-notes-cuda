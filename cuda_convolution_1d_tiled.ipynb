{
  "nbformat": 4,
  "nbformat_minor": 0,
  "metadata": {
    "colab": {
      "provenance": [],
      "gpuType": "T4",
      "authorship_tag": "ABX9TyMcOghvO7misa0mV3e3MbrY",
      "include_colab_link": true
    },
    "kernelspec": {
      "name": "python3",
      "display_name": "Python 3"
    },
    "language_info": {
      "name": "python"
    },
    "accelerator": "GPU"
  },
  "cells": [
    {
      "cell_type": "markdown",
      "metadata": {
        "id": "view-in-github",
        "colab_type": "text"
      },
      "source": [
        "<a href=\"https://colab.research.google.com/github/TechDailyNotes/study-notes-cuda/blob/main/cuda_convolution_1d_tiled.ipynb\" target=\"_parent\"><img src=\"https://colab.research.google.com/assets/colab-badge.svg\" alt=\"Open In Colab\"/></a>"
      ]
    },
    {
      "cell_type": "code",
      "execution_count": 1,
      "metadata": {
        "colab": {
          "base_uri": "https://localhost:8080/"
        },
        "id": "hgAB02dAMki6",
        "outputId": "c0562ead-056d-45b6-e735-451827ddabc1"
      },
      "outputs": [
        {
          "output_type": "stream",
          "name": "stdout",
          "text": [
            "nvcc: NVIDIA (R) Cuda compiler driver\n",
            "Copyright (c) 2005-2023 NVIDIA Corporation\n",
            "Built on Tue_Aug_15_22:02:13_PDT_2023\n",
            "Cuda compilation tools, release 12.2, V12.2.140\n",
            "Build cuda_12.2.r12.2/compiler.33191640_0\n",
            "Collecting nvcc4jupyter\n",
            "  Downloading nvcc4jupyter-1.2.1-py3-none-any.whl.metadata (5.1 kB)\n",
            "Downloading nvcc4jupyter-1.2.1-py3-none-any.whl (10 kB)\n",
            "Installing collected packages: nvcc4jupyter\n",
            "Successfully installed nvcc4jupyter-1.2.1\n",
            "Detected platform \"Colab\". Running its setup...\n",
            "Source files will be saved in \"/tmp/tmp85qaatc3\".\n"
          ]
        }
      ],
      "source": [
        "!nvcc --version\n",
        "!python3 -m pip install nvcc4jupyter\n",
        "%load_ext nvcc4jupyter"
      ]
    },
    {
      "cell_type": "code",
      "source": [
        "%%cuda\n",
        "\n",
        "#include <assert.h>\n",
        "#include <cuda_runtime.h>\n",
        "#include <math.h>\n",
        "#include <stdio.h>\n",
        "#include <stdlib.h>\n",
        "\n",
        "#define M 7\n",
        "\n",
        "__constant__ int d_msk[M];\n",
        "\n",
        "__global__ void convolve_1d(int *d_vec, int *d_res, int n) {\n",
        "    extern __shared__ int s_vec[];\n",
        "    int g_tid = threadIdx.x + blockIdx.x * blockDim.x;\n",
        "    int l_tid = threadIdx.x;\n",
        "    if (g_tid >= n) return;\n",
        "\n",
        "    int r = M / 2;\n",
        "    s_vec[l_tid] = d_vec[g_tid - r];\n",
        "    if (l_tid < 2 * r) {\n",
        "        s_vec[l_tid + blockDim.x] = d_vec[g_tid - r + blockDim.x];\n",
        "    }\n",
        "\n",
        "    __syncthreads();\n",
        "\n",
        "    int tmp = 0;\n",
        "    for (int i = g_tid; i <= g_tid + 2 * r; i++) {\n",
        "        tmp += d_vec[i] * d_msk[i - g_tid];\n",
        "    }\n",
        "    d_res[g_tid] = tmp;\n",
        "}\n",
        "\n",
        "void verify_result(int *h_vec, int *h_msk, int *h_res, int n) {\n",
        "    for (int i = 0; i < n; i++) {\n",
        "        int tmp = 0;\n",
        "        int r = M / 2;\n",
        "\n",
        "        for (int j = i; j <= i + 2 * r; j++) {\n",
        "            tmp += h_vec[j] * h_msk[j - i];\n",
        "        }\n",
        "\n",
        "        assert(tmp == h_res[i]);\n",
        "    }\n",
        "}\n",
        "\n",
        "int main() {\n",
        "    int n = 1 << 20;\n",
        "    int r = M / 2;\n",
        "    int p = n + r * 2;\n",
        "\n",
        "    int n_bytes = sizeof(int) * n;\n",
        "    int m_bytes = sizeof(int) * M;\n",
        "    int p_bytes = sizeof(int) * p;\n",
        "\n",
        "    int *h_vec = (int*) malloc(p_bytes);\n",
        "    int *h_msk = (int*) malloc(m_bytes);\n",
        "    int *h_res = (int*) malloc(n_bytes);\n",
        "\n",
        "    int *d_vec, *d_res;\n",
        "    cudaMalloc(&d_vec, p_bytes);\n",
        "    cudaMalloc(&d_res, n_bytes);\n",
        "\n",
        "    for (int i = 0; i < p; i++) {\n",
        "        if (i < r || i >= n + r) {\n",
        "            h_vec[i] = 0;\n",
        "        } else {\n",
        "            h_vec[i] = rand() % 100;\n",
        "        }\n",
        "    }\n",
        "    for (int i = 0; i < M; i++) {\n",
        "        h_msk[i] = rand() % 10;\n",
        "    }\n",
        "    for (int i = 0; i < n; i++) {\n",
        "        h_res[i] = 0;\n",
        "    }\n",
        "\n",
        "    cudaMemcpy(d_vec, h_vec, p_bytes, cudaMemcpyHostToDevice);\n",
        "    cudaMemcpyToSymbol(d_msk, h_msk, m_bytes);\n",
        "\n",
        "    int num_threads = 1 << 8;\n",
        "    dim3 blck_size(num_threads);\n",
        "    dim3 grid_size((n + num_threads - 1) / num_threads);\n",
        "    size_t smem_size = (num_threads + r * 2) * sizeof(int);\n",
        "\n",
        "    convolve_1d<<<grid_size, blck_size, smem_size>>>(d_vec, d_res, n);\n",
        "    cudaMemcpy(h_res, d_res, n_bytes, cudaMemcpyDeviceToHost);\n",
        "\n",
        "    verify_result(h_vec, h_msk, h_res, n);\n",
        "\n",
        "    cudaFree(d_vec);\n",
        "    cudaFree(d_res);\n",
        "\n",
        "    free(h_vec);\n",
        "    free(h_msk);\n",
        "    free(h_res);\n",
        "\n",
        "    printf(\"Succees!\");\n",
        "    return 0;\n",
        "}"
      ],
      "metadata": {
        "colab": {
          "base_uri": "https://localhost:8080/"
        },
        "id": "K0GbJgfuM4oY",
        "outputId": "4dc39975-7e9a-48a6-b5c5-3734840b921b"
      },
      "execution_count": 2,
      "outputs": [
        {
          "output_type": "stream",
          "name": "stdout",
          "text": [
            "Succees!\n"
          ]
        }
      ]
    },
    {
      "cell_type": "markdown",
      "source": [
        "# Profiler"
      ],
      "metadata": {
        "id": "4rA5et4RcGpn"
      }
    },
    {
      "cell_type": "code",
      "source": [
        "# Mount google drive to use a persistent directory structure\n",
        "from google.colab import drive\n",
        "drive.mount('/content/gdrive')"
      ],
      "metadata": {
        "colab": {
          "base_uri": "https://localhost:8080/"
        },
        "id": "wn2nzWc_cI8F",
        "outputId": "f1b0201b-ab2f-4d15-f91e-7b78b57e5c2b"
      },
      "execution_count": 3,
      "outputs": [
        {
          "output_type": "stream",
          "name": "stdout",
          "text": [
            "Mounted at /content/gdrive\n"
          ]
        }
      ]
    },
    {
      "cell_type": "code",
      "source": [
        "FOLDER = \"cuda\"\n",
        "ORG = \"TechDailyNotes\"\n",
        "REPO = \"study-notes-cuda\""
      ],
      "metadata": {
        "id": "PTD65mUXe7y4"
      },
      "execution_count": 6,
      "outputs": []
    },
    {
      "cell_type": "code",
      "source": [
        "%mkdir /content/gdrive/MyDrive/{FOLDER}\n",
        "%cd /content/gdrive/MyDrive/{FOLDER}\n",
        "!echo 'YOUR_TOKEN' > /content/gdrive/MyDrive/{FOLDER}/token.txt\n",
        "!echo 'YOUR_HANDLE' > /content/gdrive/MyDrive/{FOLDER}/git_username.txt"
      ],
      "metadata": {
        "colab": {
          "base_uri": "https://localhost:8080/"
        },
        "id": "0nIr6vb8cN2Q",
        "outputId": "63d72958-9e4c-4817-9a31-77030c524e1f"
      },
      "execution_count": 20,
      "outputs": [
        {
          "output_type": "stream",
          "name": "stdout",
          "text": [
            "mkdir: cannot create directory ‘/content/gdrive/MyDrive/cuda’: File exists\n",
            "/content/gdrive/MyDrive/cuda\n"
          ]
        }
      ]
    },
    {
      "cell_type": "code",
      "source": [
        "with open(f'/content/gdrive/MyDrive/{FOLDER}/token.txt') as f:\n",
        "    token = f.readline().strip()\n",
        "# Use another file to store your github username\n",
        "with open(f'/content/gdrive/MyDrive/{FOLDER}/git_username.txt') as f:\n",
        "    handle = f.readline().strip()\n",
        "\n",
        "YOUR_TOKEN = token\n",
        "YOUR_HANDLE = handle\n",
        "\n",
        "!git clone https://{YOUR_TOKEN}@github.com/{ORG}/{REPO}.git\n",
        "!git pull"
      ],
      "metadata": {
        "colab": {
          "base_uri": "https://localhost:8080/"
        },
        "id": "hyhEViePcW9Y",
        "outputId": "09ece654-3ded-4905-c93d-13f9142e1327"
      },
      "execution_count": 22,
      "outputs": [
        {
          "output_type": "stream",
          "name": "stdout",
          "text": [
            "Cloning into 'study-notes-cuda'...\n",
            "remote: Enumerating objects: 72, done.\u001b[K\n",
            "remote: Counting objects: 100% (72/72), done.\u001b[K\n",
            "remote: Compressing objects: 100% (66/66), done.\u001b[K\n",
            "remote: Total 72 (delta 36), reused 16 (delta 2), pack-reused 0 (from 0)\u001b[K\n",
            "Receiving objects: 100% (72/72), 2.43 MiB | 3.33 MiB/s, done.\n",
            "Resolving deltas: 100% (36/36), done.\n",
            "fatal: not a git repository (or any parent up to mount point /content)\n",
            "Stopping at filesystem boundary (GIT_DISCOVERY_ACROSS_FILESYSTEM not set).\n"
          ]
        }
      ]
    },
    {
      "cell_type": "code",
      "source": [
        "%cd /content/gdrive/MyDrive/{FOLDER}/{REPO}\n",
        "!ls"
      ],
      "metadata": {
        "colab": {
          "base_uri": "https://localhost:8080/"
        },
        "id": "axJhWqLhdo2M",
        "outputId": "6d6c2500-c002-4bf2-b653-1a6a7a6487a4"
      },
      "execution_count": 7,
      "outputs": [
        {
          "output_type": "stream",
          "name": "stdout",
          "text": [
            "/content/gdrive/MyDrive/cuda/study-notes-cuda\n",
            "basics\t\t\t\t\t   cuda_convolution_1d_tiled.ipynb\n",
            "cuda_basics.ipynb\t\t\t   cuda_cublas.ipynb\n",
            "cuda_convolution_1d_constant_memory.ipynb  cuda.ipynb\n",
            "cuda_convolution_1d_naive.ipynb\t\t   cuda_parallel_reduction.ipynb\n",
            "cuda_convolution_1d_tiled\t\t   README.md\n",
            "cuda_convolution_1d_tiled.cu\n"
          ]
        }
      ]
    },
    {
      "cell_type": "code",
      "source": [
        "!nvcc -o cuda_convolution_1d_tiled cuda_convolution_1d_tiled.cu"
      ],
      "metadata": {
        "id": "jUZgiqVaeC8d"
      },
      "execution_count": 9,
      "outputs": []
    },
    {
      "cell_type": "code",
      "source": [
        "!nvprof ./cuda_convolution_1d_tiled"
      ],
      "metadata": {
        "colab": {
          "base_uri": "https://localhost:8080/"
        },
        "id": "JAB4mLFteNjl",
        "outputId": "d7876727-4141-42eb-98e5-be1f42e2c076"
      },
      "execution_count": 10,
      "outputs": [
        {
          "output_type": "stream",
          "name": "stdout",
          "text": [
            "==2002== NVPROF is profiling process 2002, command: ./cuda_convolution_1d_tiled\n",
            "==2002== Profiling application: ./cuda_convolution_1d_tiled\n",
            "Succees!==2002== Profiling result:\n",
            "            Type  Time(%)      Time     Calls       Avg       Min       Max  Name\n",
            " GPU activities:   55.02%  785.13us         2  392.57us     640ns  784.49us  [CUDA memcpy HtoD]\n",
            "                   40.96%  584.50us         1  584.50us  584.50us  584.50us  [CUDA memcpy DtoH]\n",
            "                    4.02%  57.375us         1  57.375us  57.375us  57.375us  convolve_1d(int*, int*, int)\n",
            "      API calls:   96.12%  101.79ms         2  50.897ms  134.00us  101.66ms  cudaMalloc\n",
            "                    1.73%  1.8364ms         2  918.21us  905.01us  931.41us  cudaMemcpy\n",
            "                    1.52%  1.6096ms         1  1.6096ms  1.6096ms  1.6096ms  cudaMemcpyToSymbol\n",
            "                    0.41%  434.84us         2  217.42us  135.71us  299.13us  cudaFree\n",
            "                    0.16%  166.73us       114  1.4620us     162ns  60.500us  cuDeviceGetAttribute\n",
            "                    0.03%  33.192us         1  33.192us  33.192us  33.192us  cudaLaunchKernel\n",
            "                    0.01%  12.766us         1  12.766us  12.766us  12.766us  cuDeviceGetName\n",
            "                    0.01%  10.554us         1  10.554us  10.554us  10.554us  cuDeviceGetPCIBusId\n",
            "                    0.00%  5.0060us         1  5.0060us  5.0060us  5.0060us  cuDeviceTotalMem\n",
            "                    0.00%  1.5990us         3     533ns     234ns  1.0020us  cuDeviceGetCount\n",
            "                    0.00%  1.2000us         2     600ns     177ns  1.0230us  cuDeviceGet\n",
            "                    0.00%     806ns         1     806ns     806ns     806ns  cuModuleGetLoadingMode\n",
            "                    0.00%     282ns         1     282ns     282ns     282ns  cuDeviceGetUuid\n"
          ]
        }
      ]
    },
    {
      "cell_type": "code",
      "source": [],
      "metadata": {
        "id": "HDy96HPpeO9U"
      },
      "execution_count": 31,
      "outputs": []
    }
  ]
}