{
  "nbformat": 4,
  "nbformat_minor": 0,
  "metadata": {
    "colab": {
      "provenance": [],
      "gpuType": "L4",
      "authorship_tag": "ABX9TyOJgI6iDx0kxXsL0xeiLJFg",
      "include_colab_link": true
    },
    "kernelspec": {
      "name": "python3",
      "display_name": "Python 3"
    },
    "language_info": {
      "name": "python"
    },
    "accelerator": "GPU"
  },
  "cells": [
    {
      "cell_type": "markdown",
      "metadata": {
        "id": "view-in-github",
        "colab_type": "text"
      },
      "source": [
        "<a href=\"https://colab.research.google.com/github/TechDailyNotes/study-notes-cuda/blob/main/cuda_convolution_1d_tiled.ipynb\" target=\"_parent\"><img src=\"https://colab.research.google.com/assets/colab-badge.svg\" alt=\"Open In Colab\"/></a>"
      ]
    },
    {
      "cell_type": "code",
      "execution_count": null,
      "metadata": {
        "colab": {
          "base_uri": "https://localhost:8080/"
        },
        "id": "hgAB02dAMki6",
        "outputId": "ee981720-4247-45e5-d081-aa9fba74ccfe"
      },
      "outputs": [
        {
          "output_type": "stream",
          "name": "stdout",
          "text": [
            "nvcc: NVIDIA (R) Cuda compiler driver\n",
            "Copyright (c) 2005-2023 NVIDIA Corporation\n",
            "Built on Tue_Aug_15_22:02:13_PDT_2023\n",
            "Cuda compilation tools, release 12.2, V12.2.140\n",
            "Build cuda_12.2.r12.2/compiler.33191640_0\n",
            "Collecting nvcc4jupyter\n",
            "  Downloading nvcc4jupyter-1.2.1-py3-none-any.whl.metadata (5.1 kB)\n",
            "Downloading nvcc4jupyter-1.2.1-py3-none-any.whl (10 kB)\n",
            "Installing collected packages: nvcc4jupyter\n",
            "Successfully installed nvcc4jupyter-1.2.1\n",
            "Detected platform \"Colab\". Running its setup...\n",
            "Source files will be saved in \"/tmp/tmp5cojenli\".\n"
          ]
        }
      ],
      "source": [
        "!nvcc --version\n",
        "!python3 -m pip install nvcc4jupyter\n",
        "%load_ext nvcc4jupyter"
      ]
    },
    {
      "cell_type": "code",
      "source": [
        "%%cuda\n",
        "\n",
        "#include <assert.h>\n",
        "#include <cuda_runtime.h>\n",
        "#include <math.h>\n",
        "#include <stdio.h>\n",
        "#include <stdlib.h>\n",
        "\n",
        "#define M 7\n",
        "\n",
        "__constant__ int d_msk[M];\n",
        "\n",
        "__global__ void convolve_1d(int *d_vec, int *d_res, int n) {\n",
        "    extern __shared__ int s_vec[];\n",
        "    int g_tid = threadIdx.x + blockIdx.x * blockDim.x;\n",
        "    int l_tid = threadIdx.x;\n",
        "    if (g_tid >= n) return;\n",
        "\n",
        "    int r = M / 2;\n",
        "    s_vec[l_tid] = d_vec[g_tid - r];\n",
        "    if (l_tid < 2 * r) {\n",
        "        s_vec[l_tid + blockDim.x] = d_vec[g_tid - r + blockDim.x];\n",
        "    }\n",
        "\n",
        "    __syncthreads();\n",
        "\n",
        "    int tmp = 0;\n",
        "    for (int i = g_tid; i <= g_tid + 2 * r; i++) {\n",
        "        tmp += d_vec[i] * d_msk[i - g_tid];\n",
        "    }\n",
        "    d_res[g_tid] = tmp;\n",
        "}\n",
        "\n",
        "void verify_result(int *h_vec, int *h_msk, int *h_res, int n) {\n",
        "    for (int i = 0; i < n; i++) {\n",
        "        int tmp = 0;\n",
        "        int r = M / 2;\n",
        "\n",
        "        for (int j = i; j <= i + 2 * r; j++) {\n",
        "            tmp += h_vec[j] * h_msk[j - i];\n",
        "        }\n",
        "\n",
        "        assert(tmp == h_res[i]);\n",
        "    }\n",
        "}\n",
        "\n",
        "int main() {\n",
        "    int n = 1 << 20;\n",
        "    int r = M / 2;\n",
        "    int p = n + r * 2;\n",
        "\n",
        "    int n_bytes = sizeof(int) * n;\n",
        "    int m_bytes = sizeof(int) * M;\n",
        "    int p_bytes = sizeof(int) * p;\n",
        "\n",
        "    int *h_vec = (int*) malloc(p_bytes);\n",
        "    int *h_msk = (int*) malloc(m_bytes);\n",
        "    int *h_res = (int*) malloc(n_bytes);\n",
        "\n",
        "    int *d_vec, *d_res;\n",
        "    cudaMalloc(&d_vec, p_bytes);\n",
        "    cudaMalloc(&d_res, n_bytes);\n",
        "\n",
        "    for (int i = 0; i < p; i++) {\n",
        "        if (i < r || i >= n + r) {\n",
        "            h_vec[i] = 0;\n",
        "        } else {\n",
        "            h_vec[i] = rand() % 100;\n",
        "        }\n",
        "    }\n",
        "    for (int i = 0; i < M; i++) {\n",
        "        h_msk[i] = rand() % 10;\n",
        "    }\n",
        "    for (int i = 0; i < n; i++) {\n",
        "        h_res[i] = 0;\n",
        "    }\n",
        "\n",
        "    cudaMemcpy(d_vec, h_vec, p_bytes, cudaMemcpyHostToDevice);\n",
        "    cudaMemcpyToSymbol(d_msk, h_msk, m_bytes);\n",
        "\n",
        "    int num_threads = 1 << 8;\n",
        "    dim3 blck_size(num_threads);\n",
        "    dim3 grid_size((n + num_threads - 1) / num_threads);\n",
        "    size_t smem_size = (num_threads + r * 2) * sizeof(int);\n",
        "\n",
        "    convolve_1d<<<grid_size, blck_size, smem_size>>>(d_vec, d_res, n);\n",
        "    cudaMemcpy(h_res, d_res, n_bytes, cudaMemcpyDeviceToHost);\n",
        "\n",
        "    verify_result(h_vec, h_msk, h_res, n);\n",
        "\n",
        "    cudaFree(d_vec);\n",
        "    cudaFree(d_res);\n",
        "\n",
        "    free(h_vec);\n",
        "    free(h_msk);\n",
        "    free(h_res);\n",
        "\n",
        "    printf(\"Succees!\");\n",
        "    return 0;\n",
        "}"
      ],
      "metadata": {
        "colab": {
          "base_uri": "https://localhost:8080/"
        },
        "id": "K0GbJgfuM4oY",
        "outputId": "0b90af51-dc0f-4c5c-8f67-b22a508467ad"
      },
      "execution_count": 17,
      "outputs": [
        {
          "output_type": "stream",
          "name": "stdout",
          "text": [
            "\n",
            "Succees!\n"
          ]
        }
      ]
    }
  ]
}