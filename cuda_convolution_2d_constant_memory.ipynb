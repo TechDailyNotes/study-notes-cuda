{
  "nbformat": 4,
  "nbformat_minor": 0,
  "metadata": {
    "colab": {
      "provenance": [],
      "gpuType": "T4",
      "authorship_tag": "ABX9TyPfoG+0QKdBccBjuKe3zCZv",
      "include_colab_link": true
    },
    "kernelspec": {
      "name": "python3",
      "display_name": "Python 3"
    },
    "language_info": {
      "name": "python"
    },
    "accelerator": "GPU"
  },
  "cells": [
    {
      "cell_type": "markdown",
      "metadata": {
        "id": "view-in-github",
        "colab_type": "text"
      },
      "source": [
        "<a href=\"https://colab.research.google.com/github/TechDailyNotes/study-notes-cuda/blob/main/cuda_convolution_2d_constant_memory.ipynb\" target=\"_parent\"><img src=\"https://colab.research.google.com/assets/colab-badge.svg\" alt=\"Open In Colab\"/></a>"
      ]
    },
    {
      "cell_type": "code",
      "execution_count": 1,
      "metadata": {
        "colab": {
          "base_uri": "https://localhost:8080/"
        },
        "id": "dadmBT-dRP48",
        "outputId": "9378240c-ec5a-44c0-dbb6-5630b7e415bb"
      },
      "outputs": [
        {
          "output_type": "stream",
          "name": "stdout",
          "text": [
            "nvcc: NVIDIA (R) Cuda compiler driver\n",
            "Copyright (c) 2005-2023 NVIDIA Corporation\n",
            "Built on Tue_Aug_15_22:02:13_PDT_2023\n",
            "Cuda compilation tools, release 12.2, V12.2.140\n",
            "Build cuda_12.2.r12.2/compiler.33191640_0\n",
            "Collecting nvcc4jupyter\n",
            "  Downloading nvcc4jupyter-1.2.1-py3-none-any.whl.metadata (5.1 kB)\n",
            "Downloading nvcc4jupyter-1.2.1-py3-none-any.whl (10 kB)\n",
            "Installing collected packages: nvcc4jupyter\n",
            "Successfully installed nvcc4jupyter-1.2.1\n"
          ]
        }
      ],
      "source": [
        "%%sh\n",
        "nvcc --version\n",
        "python3 -m pip install nvcc4jupyter"
      ]
    },
    {
      "cell_type": "code",
      "source": [
        "%load_ext nvcc4jupyter"
      ],
      "metadata": {
        "colab": {
          "base_uri": "https://localhost:8080/"
        },
        "id": "NE1-HMPPRp_b",
        "outputId": "eda092ea-0689-40b2-9563-c69ca4d1d72f"
      },
      "execution_count": 2,
      "outputs": [
        {
          "output_type": "stream",
          "name": "stdout",
          "text": [
            "Detected platform \"Colab\". Running its setup...\n",
            "Source files will be saved in \"/tmp/tmpx55tehep\".\n"
          ]
        }
      ]
    },
    {
      "cell_type": "code",
      "source": [
        "%%cuda\n",
        "\n",
        "#include <cuda_runtime.h>\n",
        "#include <stdio.h>\n",
        "#include <stdlib.h>\n",
        "\n",
        "#define KERNEL_DIM 16\n",
        "\n",
        "__constant__ int d_kernel[KERNEL_DIM * KERNEL_DIM];\n",
        "\n",
        "int main() {\n",
        "    int matrix_dim = 1 << 10;\n",
        "    int matrix_bytes = sizeof(int) * matrix_dim * matrix_dim;\n",
        "    int kernel_bytes = sizeof(int) * KERNEL_DIM * KERNEL_DIM;\n",
        "\n",
        "    int *h_matrix = (int *) malloc(matrix_bytes);\n",
        "    int *h_kernel = (int *) malloc(kernel_bytes);\n",
        "    int *h_result = (int *) malloc(matrix_bytes);\n",
        "\n",
        "    int *d_matrix, *d_result;\n",
        "    cudaMalloc(&d_matrix, matrix_bytes);\n",
        "    cudaMalloc(&d_result, matrix_bytes);\n",
        "\n",
        "    cudaMemcpy(d_matrix, h_matrix, matrix_bytes, cudaMemcpyHostToDevice);\n",
        "\n",
        "    cudaFree(d_matrix);\n",
        "    cudaFree(d_result);\n",
        "\n",
        "    free(h_matrix);\n",
        "    free(h_kernel);\n",
        "    free(h_result);\n",
        "\n",
        "    printf(\"Success!\\n\");\n",
        "    return 0;\n",
        "}"
      ],
      "metadata": {
        "colab": {
          "base_uri": "https://localhost:8080/"
        },
        "id": "SFSusKkMRupW",
        "outputId": "02363c09-e69d-43d9-be91-e5337182bb87"
      },
      "execution_count": 7,
      "outputs": [
        {
          "output_type": "stream",
          "name": "stdout",
          "text": [
            "Success!\n",
            "\n"
          ]
        }
      ]
    },
    {
      "cell_type": "code",
      "source": [],
      "metadata": {
        "id": "pniEIDbxR2Md"
      },
      "execution_count": null,
      "outputs": []
    }
  ]
}