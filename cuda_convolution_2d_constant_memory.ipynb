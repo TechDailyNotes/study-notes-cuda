{
  "nbformat": 4,
  "nbformat_minor": 0,
  "metadata": {
    "colab": {
      "provenance": [],
      "gpuType": "T4",
      "authorship_tag": "ABX9TyNDRZKXaJXa6XKVD3ixy0e8",
      "include_colab_link": true
    },
    "kernelspec": {
      "name": "python3",
      "display_name": "Python 3"
    },
    "language_info": {
      "name": "python"
    },
    "accelerator": "GPU"
  },
  "cells": [
    {
      "cell_type": "markdown",
      "metadata": {
        "id": "view-in-github",
        "colab_type": "text"
      },
      "source": [
        "<a href=\"https://colab.research.google.com/github/TechDailyNotes/study-notes-cuda/blob/main/cuda_convolution_2d_constant_memory.ipynb\" target=\"_parent\"><img src=\"https://colab.research.google.com/assets/colab-badge.svg\" alt=\"Open In Colab\"/></a>"
      ]
    },
    {
      "cell_type": "code",
      "execution_count": 8,
      "metadata": {
        "colab": {
          "base_uri": "https://localhost:8080/"
        },
        "id": "dadmBT-dRP48",
        "outputId": "fcd8427a-9a4c-4867-c838-af98d366491a"
      },
      "outputs": [
        {
          "output_type": "stream",
          "name": "stdout",
          "text": [
            "nvcc: NVIDIA (R) Cuda compiler driver\n",
            "Copyright (c) 2005-2023 NVIDIA Corporation\n",
            "Built on Tue_Aug_15_22:02:13_PDT_2023\n",
            "Cuda compilation tools, release 12.2, V12.2.140\n",
            "Build cuda_12.2.r12.2/compiler.33191640_0\n",
            "Requirement already satisfied: nvcc4jupyter in /usr/local/lib/python3.10/dist-packages (1.2.1)\n"
          ]
        }
      ],
      "source": [
        "%%sh\n",
        "nvcc --version\n",
        "python3 -m pip install nvcc4jupyter"
      ]
    },
    {
      "cell_type": "code",
      "source": [
        "%load_ext nvcc4jupyter"
      ],
      "metadata": {
        "colab": {
          "base_uri": "https://localhost:8080/"
        },
        "id": "NE1-HMPPRp_b",
        "outputId": "f9245e41-1a70-46c2-8aa1-18fac591dccb"
      },
      "execution_count": 9,
      "outputs": [
        {
          "output_type": "stream",
          "name": "stdout",
          "text": [
            "The nvcc4jupyter extension is already loaded. To reload it, use:\n",
            "  %reload_ext nvcc4jupyter\n"
          ]
        }
      ]
    },
    {
      "cell_type": "code",
      "source": [
        "%%cuda\n",
        "\n",
        "#include <assert.h>\n",
        "#include <cuda_runtime.h>\n",
        "#include <math.h>\n",
        "#include <stdio.h>\n",
        "#include <stdlib.h>\n",
        "\n",
        "#define KERNEL_DIM 7\n",
        "#define KERNEL_PAD (KERNEL_DIM / 2)\n",
        "\n",
        "__constant__ int d_kernel[KERNEL_DIM * KERNEL_DIM];\n",
        "\n",
        "__global__ void convolve_2d(int *d_matrix, int *d_result, int matrix_dim) {\n",
        "    int tid_x = threadIdx.x + blockIdx.x * blockDim.x;\n",
        "    int tid_y = threadIdx.y + blockIdx.y * blockDim.y;\n",
        "    if (tid_x >= matrix_dim || tid_y >= matrix_dim) return;\n",
        "\n",
        "    int tmp = 0;\n",
        "    int lo_col = tid_x - KERNEL_PAD;\n",
        "    int hi_col = tid_x + KERNEL_PAD;\n",
        "    int lo_row = tid_y - KERNEL_PAD;\n",
        "    int hi_row = tid_y + KERNEL_PAD;\n",
        "\n",
        "    for (int rowi = lo_row; rowi <= hi_row; rowi++) {\n",
        "        for (int coli = lo_col; coli <= hi_col; coli++) {\n",
        "            if (rowi < 0 || rowi >= matrix_dim) continue;\n",
        "            if (coli < 0 || coli >= matrix_dim) continue;\n",
        "            tmp += (\n",
        "                d_matrix[rowi * matrix_dim + coli] *\n",
        "                d_kernel[(rowi - lo_row) * KERNEL_DIM + (coli - lo_col)]\n",
        "            );\n",
        "        }\n",
        "    }\n",
        "\n",
        "    d_result[tid_y * matrix_dim + tid_x] = tmp;\n",
        "}\n",
        "\n",
        "void verify_result(int *h_matrix, int *h_kernel, int *h_result, int matrix_dim) {\n",
        "    for (int rowi = 0; rowi < matrix_dim; rowi++) {\n",
        "        for (int coli = 0; coli < matrix_dim; coli++) {\n",
        "            int tmp = 0;\n",
        "            int lo_row = rowi - KERNEL_PAD;\n",
        "            int hi_row = rowi + KERNEL_PAD;\n",
        "            int lo_col = coli - KERNEL_PAD;\n",
        "            int hi_col = coli + KERNEL_PAD;\n",
        "\n",
        "            for (int ri = lo_row; ri <= hi_row; ri++) {\n",
        "                for (int ci = lo_col; ci <= hi_col; ci++) {\n",
        "                    if (ri < 0 || ri >= matrix_dim) continue;\n",
        "                    if (ci < 0 || ci >= matrix_dim) continue;\n",
        "                    tmp += (\n",
        "                        h_matrix[ri * matrix_dim + ci] *\n",
        "                        h_kernel[(ri - lo_row) * KERNEL_DIM + (ci - lo_col)]\n",
        "                    );\n",
        "                }\n",
        "            }\n",
        "\n",
        "            // printf(\n",
        "            //     \"tmp = %d, result = %d\\n\",\n",
        "            //     tmp, h_result[rowi * matrix_dim + coli]\n",
        "            // );\n",
        "            assert(tmp == h_result[rowi * matrix_dim + coli]);\n",
        "        }\n",
        "    }\n",
        "}\n",
        "\n",
        "void init_array(int *arr, int dim) {\n",
        "    for (int ri = 0; ri < dim; ri++) {\n",
        "        for (int ci = 0; ci < dim; ci++) {\n",
        "            arr[ri * dim + ci] = rand() % 100;\n",
        "        }\n",
        "    }\n",
        "}\n",
        "\n",
        "int main() {\n",
        "    int matrix_dim = 1 << 10;\n",
        "    int matrix_bytes = sizeof(int) * matrix_dim * matrix_dim;\n",
        "    int kernel_bytes = sizeof(int) * KERNEL_DIM * KERNEL_DIM;\n",
        "\n",
        "    int *h_matrix = (int *) malloc(matrix_bytes);\n",
        "    int *h_kernel = (int *) malloc(kernel_bytes);\n",
        "    int *h_result = (int *) malloc(matrix_bytes);\n",
        "\n",
        "    init_array(h_matrix, matrix_dim);\n",
        "    init_array(h_kernel, KERNEL_DIM);\n",
        "\n",
        "    int *d_matrix, *d_result;\n",
        "    cudaMalloc(&d_matrix, matrix_bytes);\n",
        "    cudaMalloc(&d_result, matrix_bytes);\n",
        "\n",
        "    cudaMemcpy(d_matrix, h_matrix, matrix_bytes, cudaMemcpyHostToDevice);\n",
        "    cudaMemcpyToSymbol(d_kernel, h_kernel, kernel_bytes);\n",
        "\n",
        "    int threads_per_block_dim = 1 << 4;\n",
        "    int blocks_per_grid_dim = (matrix_dim + threads_per_block_dim - 1) / threads_per_block_dim;\n",
        "    dim3 block_size(threads_per_block_dim, threads_per_block_dim);\n",
        "    dim3 grid_size(blocks_per_grid_dim, blocks_per_grid_dim);\n",
        "\n",
        "    convolve_2d<<<grid_size, block_size>>>(d_matrix, d_result, matrix_dim);\n",
        "    cudaMemcpy(h_result, d_result, matrix_bytes, cudaMemcpyDeviceToHost);\n",
        "    verify_result(h_matrix, h_kernel, h_result, matrix_dim);\n",
        "\n",
        "    cudaFree(d_matrix);\n",
        "    cudaFree(d_result);\n",
        "\n",
        "    free(h_matrix);\n",
        "    free(h_kernel);\n",
        "    free(h_result);\n",
        "\n",
        "    printf(\"Success!\\n\");\n",
        "    return 0;\n",
        "}"
      ],
      "metadata": {
        "colab": {
          "base_uri": "https://localhost:8080/"
        },
        "id": "SFSusKkMRupW",
        "outputId": "d1c26847-acc7-42a5-a684-9d1357831adc"
      },
      "execution_count": 24,
      "outputs": [
        {
          "output_type": "stream",
          "name": "stdout",
          "text": [
            "Success!\n",
            "\n"
          ]
        }
      ]
    },
    {
      "cell_type": "code",
      "source": [],
      "metadata": {
        "id": "pniEIDbxR2Md"
      },
      "execution_count": null,
      "outputs": []
    }
  ]
}