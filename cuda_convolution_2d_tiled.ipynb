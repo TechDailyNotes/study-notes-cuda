{
  "nbformat": 4,
  "nbformat_minor": 0,
  "metadata": {
    "colab": {
      "provenance": [],
      "gpuType": "T4",
      "authorship_tag": "ABX9TyPhKjcwxJbk5fWKaxDSFiAt",
      "include_colab_link": true
    },
    "kernelspec": {
      "name": "python3",
      "display_name": "Python 3"
    },
    "language_info": {
      "name": "python"
    },
    "accelerator": "GPU"
  },
  "cells": [
    {
      "cell_type": "markdown",
      "metadata": {
        "id": "view-in-github",
        "colab_type": "text"
      },
      "source": [
        "<a href=\"https://colab.research.google.com/github/TechDailyNotes/study-notes-cuda/blob/main/cuda_convolution_2d_tiled.ipynb\" target=\"_parent\"><img src=\"https://colab.research.google.com/assets/colab-badge.svg\" alt=\"Open In Colab\"/></a>"
      ]
    },
    {
      "cell_type": "code",
      "execution_count": 1,
      "metadata": {
        "colab": {
          "base_uri": "https://localhost:8080/"
        },
        "id": "-HI9KQqhcSgd",
        "outputId": "2b2f4c9c-7f1c-40e6-e019-eb0f9aa12e4e"
      },
      "outputs": [
        {
          "output_type": "stream",
          "name": "stdout",
          "text": [
            "nvcc: NVIDIA (R) Cuda compiler driver\n",
            "Copyright (c) 2005-2023 NVIDIA Corporation\n",
            "Built on Tue_Aug_15_22:02:13_PDT_2023\n",
            "Cuda compilation tools, release 12.2, V12.2.140\n",
            "Build cuda_12.2.r12.2/compiler.33191640_0\n",
            "Collecting nvcc4jupyter\n",
            "  Downloading nvcc4jupyter-1.2.1-py3-none-any.whl.metadata (5.1 kB)\n",
            "Downloading nvcc4jupyter-1.2.1-py3-none-any.whl (10 kB)\n",
            "Installing collected packages: nvcc4jupyter\n",
            "Successfully installed nvcc4jupyter-1.2.1\n"
          ]
        }
      ],
      "source": [
        "%%sh\n",
        "nvcc --version\n",
        "python3 -m pip install nvcc4jupyter"
      ]
    },
    {
      "cell_type": "code",
      "source": [
        "%load_ext nvcc4jupyter"
      ],
      "metadata": {
        "colab": {
          "base_uri": "https://localhost:8080/"
        },
        "id": "te25VUGTcaDf",
        "outputId": "a60d0281-c086-4b2f-b2d0-42311c7c670b"
      },
      "execution_count": 2,
      "outputs": [
        {
          "output_type": "stream",
          "name": "stdout",
          "text": [
            "Detected platform \"Colab\". Running its setup...\n",
            "Source files will be saved in \"/tmp/tmphaqfpnf8\".\n"
          ]
        }
      ]
    },
    {
      "cell_type": "code",
      "source": [
        "%%cuda\n",
        "\n",
        "#include <assert.h>\n",
        "#include <cuda_runtime.h>\n",
        "#include <math.h>\n",
        "#include <stdio.h>\n",
        "#include <stdlib.h>\n",
        "\n",
        "#define KERNEL_DIM 7\n",
        "#define KERNEL_PAD (KERNEL_DIM / 2)\n",
        "\n",
        "__constant__ int d_kernel[KERNEL_DIM * KERNEL_DIM];\n",
        "\n",
        "__global__ void convolve_2d(int *d_matrix, int *d_result, int result_dim) {\n",
        "    extern __shared__ int s_memory[];\n",
        "    int smem_dim = blockDim.x + 2 * KERNEL_PAD;\n",
        "    int matrix_dim = result_dim + 2 * KERNEL_PAD;\n",
        "\n",
        "    int l_tid_c = threadIdx.x;\n",
        "    int l_tid_r = threadIdx.y;\n",
        "    int g_tid_c = threadIdx.x + blockIdx.x * blockDim.x;\n",
        "    int g_tid_r = threadIdx.y + blockIdx.y * blockDim.y;\n",
        "    if (g_tid_c >= result_dim) return;\n",
        "    if (g_tid_r >= result_dim) return;\n",
        "\n",
        "    int offset_r = 0;\n",
        "    while (offset_r < smem_dim) {\n",
        "        int offset_c = 0;\n",
        "        while (offset_c < smem_dim) {\n",
        "            int smem_r = l_tid_r + offset_r;\n",
        "            int smem_c = l_tid_c + offset_c;\n",
        "            if (smem_r < smem_dim && smem_c < smem_dim) {\n",
        "                s_memory[smem_r * smem_dim + smem_c] = \\\n",
        "                d_matrix[(g_tid_r + offset_r) * matrix_dim + (g_tid_c + offset_c)];\n",
        "            }\n",
        "\n",
        "            offset_c += blockDim.x;\n",
        "        }\n",
        "\n",
        "        offset_r += blockDim.y;\n",
        "    }\n",
        "\n",
        "    __syncthreads();\n",
        "\n",
        "    int tmp = 0;\n",
        "    int lo_r = l_tid_r;\n",
        "    int hi_r = l_tid_r + 2 * KERNEL_PAD;\n",
        "    int lo_c = l_tid_c;\n",
        "    int hi_c = l_tid_c + 2 * KERNEL_PAD;\n",
        "\n",
        "    for (int ri = lo_r; ri <= hi_r; ri++) {\n",
        "        for (int ci = lo_c; ci <= hi_c; ci++) {\n",
        "            tmp += (\n",
        "                s_memory[ri * smem_dim + ci] *\n",
        "                d_kernel[(ri - lo_r) * KERNEL_DIM + (ci - lo_c)]\n",
        "            );\n",
        "        }\n",
        "    }\n",
        "\n",
        "    d_result[g_tid_r * result_dim + g_tid_c] = tmp;\n",
        "}\n",
        "\n",
        "void verify_result(int *h_matrix, int *h_kernel, int *h_result, int result_dim) {\n",
        "    for (int rowi = 0; rowi < result_dim; rowi++) {\n",
        "        for (int coli = 0; coli < result_dim; coli++) {\n",
        "            int tmp = 0;\n",
        "            int matrix_dim = result_dim + 2 * KERNEL_PAD;\n",
        "\n",
        "            for (int ri = rowi; ri <= rowi + 2 * KERNEL_PAD; ri++) {\n",
        "                for (int ci = coli; ci <= coli + 2 * KERNEL_PAD; ci++) {\n",
        "                    tmp += (\n",
        "                        h_matrix[ri * matrix_dim + ci] *\n",
        "                        h_kernel[(ri - rowi) * KERNEL_DIM + (ci - coli)]\n",
        "                    );\n",
        "                }\n",
        "            }\n",
        "\n",
        "            // printf(\n",
        "            //     \"tmp = %d, result = %d\\n\",\n",
        "            //     tmp, h_result[rowi * result_dim + coli]\n",
        "            // );\n",
        "            assert(tmp == h_result[rowi * result_dim + coli]);\n",
        "        }\n",
        "    }\n",
        "}\n",
        "\n",
        "int main() {\n",
        "    int result_dim = 1 << 10;\n",
        "    int matrix_dim = result_dim + KERNEL_PAD * 2;\n",
        "\n",
        "    int result_bytes = sizeof(int) * result_dim * result_dim;\n",
        "    int matrix_bytes = sizeof(int) * matrix_dim * matrix_dim;\n",
        "    int kernel_bytes = sizeof(int) * KERNEL_DIM * KERNEL_DIM;\n",
        "\n",
        "    int *h_matrix = (int *) malloc(matrix_bytes);\n",
        "    int *h_kernel = (int *) malloc(kernel_bytes);\n",
        "    int *h_result = (int *) malloc(result_bytes);\n",
        "\n",
        "    for (int rowi = 0; rowi < matrix_dim; rowi++) {\n",
        "        for (int coli = 0; coli < matrix_dim; coli++) {\n",
        "            if (\n",
        "                rowi < KERNEL_PAD || rowi >= result_dim + KERNEL_PAD ||\n",
        "                coli < KERNEL_PAD || coli >= result_dim + KERNEL_PAD\n",
        "            ) {\n",
        "                h_matrix[rowi * matrix_dim + coli] = 0;\n",
        "            } else {\n",
        "                h_matrix[rowi * matrix_dim + coli] = rand() % 100;\n",
        "            }\n",
        "        }\n",
        "    }\n",
        "    for (int rowi = 0; rowi < KERNEL_DIM; rowi++) {\n",
        "        for (int coli = 0; coli < KERNEL_DIM; coli++) {\n",
        "            h_kernel[rowi * KERNEL_DIM + coli] = rand() % 10;\n",
        "        }\n",
        "    }\n",
        "\n",
        "    int *d_matrix, *d_result;\n",
        "    cudaMalloc(&d_matrix, matrix_bytes);\n",
        "    cudaMalloc(&d_result, result_bytes);\n",
        "\n",
        "    cudaMemcpy(d_matrix, h_matrix, matrix_bytes, cudaMemcpyHostToDevice);\n",
        "    cudaMemcpyToSymbol(d_kernel, h_kernel, kernel_bytes);\n",
        "\n",
        "    int threads_per_block_dim = 1 << 4;\n",
        "    int blocks_per_grid_dim = (result_dim + threads_per_block_dim - 1) / threads_per_block_dim;\n",
        "    dim3 block_size(threads_per_block_dim, threads_per_block_dim);\n",
        "    dim3 grid_size(blocks_per_grid_dim, blocks_per_grid_dim);\n",
        "\n",
        "    int smem_per_block_dim = threads_per_block_dim + 2 * KERNEL_PAD;\n",
        "    size_t smem_size = sizeof(int) * smem_per_block_dim * smem_per_block_dim;\n",
        "\n",
        "    convolve_2d<<<grid_size, block_size, smem_size>>>(d_matrix, d_result, result_dim);\n",
        "    cudaMemcpy(h_result, d_result, result_bytes, cudaMemcpyDeviceToHost);\n",
        "    verify_result(h_matrix, h_kernel, h_result, result_dim);\n",
        "\n",
        "    cudaFree(d_matrix);\n",
        "    cudaFree(d_result);\n",
        "\n",
        "    free(h_matrix);\n",
        "    free(h_kernel);\n",
        "    free(h_result);\n",
        "\n",
        "    printf(\"Success!\\n\");\n",
        "    return 0;\n",
        "}"
      ],
      "metadata": {
        "colab": {
          "base_uri": "https://localhost:8080/"
        },
        "id": "8QkXiq8BccfI",
        "outputId": "908e484f-c357-4e84-ce94-77e4bc8f939d"
      },
      "execution_count": 24,
      "outputs": [
        {
          "output_type": "stream",
          "name": "stdout",
          "text": [
            "Success!\n",
            "\n"
          ]
        }
      ]
    },
    {
      "cell_type": "code",
      "source": [],
      "metadata": {
        "id": "FGVugdQocmO5"
      },
      "execution_count": null,
      "outputs": []
    }
  ]
}