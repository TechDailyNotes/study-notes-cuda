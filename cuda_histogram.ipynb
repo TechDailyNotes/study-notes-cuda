{
  "nbformat": 4,
  "nbformat_minor": 0,
  "metadata": {
    "colab": {
      "provenance": [],
      "gpuType": "T4",
      "authorship_tag": "ABX9TyMOESFlLWo3qm+iaP5iYF4m",
      "include_colab_link": true
    },
    "kernelspec": {
      "name": "python3",
      "display_name": "Python 3"
    },
    "language_info": {
      "name": "python"
    },
    "accelerator": "GPU"
  },
  "cells": [
    {
      "cell_type": "markdown",
      "metadata": {
        "id": "view-in-github",
        "colab_type": "text"
      },
      "source": [
        "<a href=\"https://colab.research.google.com/github/TechDailyNotes/study-notes-cuda/blob/main/cuda_histogram.ipynb\" target=\"_parent\"><img src=\"https://colab.research.google.com/assets/colab-badge.svg\" alt=\"Open In Colab\"/></a>"
      ]
    },
    {
      "cell_type": "code",
      "execution_count": 2,
      "metadata": {
        "id": "lwsmPW3DnJoU",
        "colab": {
          "base_uri": "https://localhost:8080/"
        },
        "outputId": "a358ce2e-a591-483d-fa78-7a4facc7774b"
      },
      "outputs": [
        {
          "output_type": "stream",
          "name": "stdout",
          "text": [
            "nvcc: NVIDIA (R) Cuda compiler driver\n",
            "Copyright (c) 2005-2023 NVIDIA Corporation\n",
            "Built on Tue_Aug_15_22:02:13_PDT_2023\n",
            "Cuda compilation tools, release 12.2, V12.2.140\n",
            "Build cuda_12.2.r12.2/compiler.33191640_0\n",
            "Collecting nvcc4jupyter\n",
            "  Downloading nvcc4jupyter-1.2.1-py3-none-any.whl.metadata (5.1 kB)\n",
            "Downloading nvcc4jupyter-1.2.1-py3-none-any.whl (10 kB)\n",
            "Installing collected packages: nvcc4jupyter\n",
            "Successfully installed nvcc4jupyter-1.2.1\n"
          ]
        }
      ],
      "source": [
        "%%sh\n",
        "nvcc --version\n",
        "python3 -m pip install nvcc4jupyter"
      ]
    },
    {
      "cell_type": "code",
      "source": [
        "%load_ext nvcc4jupyter"
      ],
      "metadata": {
        "colab": {
          "base_uri": "https://localhost:8080/"
        },
        "id": "15MIQbPVUEsS",
        "outputId": "22d3727e-e59f-45b4-92d7-9aecef10cb16"
      },
      "execution_count": 3,
      "outputs": [
        {
          "output_type": "stream",
          "name": "stdout",
          "text": [
            "Detected platform \"Colab\". Running its setup...\n",
            "Source files will be saved in \"/tmp/tmpcnsu9cdj\".\n"
          ]
        }
      ]
    },
    {
      "cell_type": "code",
      "source": [
        "%%cuda\n",
        "\n",
        "#include <cuda_runtime.h>\n",
        "#include <algorithm>\n",
        "#include <cassert>\n",
        "#include <cstdlib>\n",
        "#include <fstream>\n",
        "#include <iostream>\n",
        "#include <numeric>\n",
        "#include <vector>\n",
        "\n",
        "using namespace std;\n",
        "\n",
        "ostream& operator<< (ostream& os, vector<char>& vec) {\n",
        "    for (char c: vec) os << c << endl;\n",
        "    return os;\n",
        "}\n",
        "\n",
        "__global__ void histogram(char *d_input, int *d_output, int num_elements, int num_bins) {\n",
        "    int tid = threadIdx.x + blockIdx.x * blockDim.x;\n",
        "\n",
        "    for (int i = tid; i < num_elements; i += gridDim.x * blockDim.x) {\n",
        "        int idx_char = d_input[i] - 'a';\n",
        "        int idx_bin = idx_char % num_bins;\n",
        "        atomicAdd(&d_output[idx_bin], 1);\n",
        "    }\n",
        "}\n",
        "\n",
        "int main() {\n",
        "    int num_elements = 1 << 20;\n",
        "    int num_bins = 7;\n",
        "\n",
        "    size_t byte_elements = num_elements * sizeof(char);\n",
        "    size_t byte_bins = num_bins * sizeof(int);\n",
        "\n",
        "    vector<char> h_input(num_elements);\n",
        "    vector<int> h_output(num_bins);\n",
        "\n",
        "    srand(1);\n",
        "    generate(begin(h_input), end(h_input), [](){return 'a' + rand() % 26;});\n",
        "    // cout << h_input;\n",
        "\n",
        "    char *d_input;\n",
        "    int *d_output;\n",
        "\n",
        "    cudaMalloc(&d_input, byte_elements);\n",
        "    cudaMalloc(&d_output, byte_bins);\n",
        "    cudaMemcpy(d_input, h_input.data(), byte_elements, cudaMemcpyHostToDevice);\n",
        "\n",
        "    int num_threads = 1 << 8;\n",
        "    dim3 size_block(num_threads);\n",
        "    dim3 size_grid((num_elements + num_threads - 1) / num_threads);\n",
        "    histogram<<<size_grid, size_block>>>(d_input, d_output, num_elements, num_bins);\n",
        "\n",
        "    cudaMemcpy(h_output.data(), d_output, byte_bins, cudaMemcpyDeviceToHost);\n",
        "    assert(num_elements == accumulate(begin(h_output), end(h_output), 0));\n",
        "\n",
        "    ofstream output_file;\n",
        "    output_file.open(\"histogram.dat\", ios::out | ios::trunc);\n",
        "    for (int i = 0; i < num_bins; i++) {\n",
        "        output_file << \"h_output[\" << i << \"] = \" << h_output[i] << \"\\n\";\n",
        "    }\n",
        "    output_file.close();\n",
        "\n",
        "    cudaFree(d_input);\n",
        "    cudaFree(d_output);\n",
        "\n",
        "    cout << \"Success!\" << endl;\n",
        "    return 0;\n",
        "}"
      ],
      "metadata": {
        "colab": {
          "base_uri": "https://localhost:8080/"
        },
        "id": "Dm0obKVdUM2C",
        "outputId": "ceb8c01c-32d9-4b15-cda0-f06c9ae663d3"
      },
      "execution_count": 20,
      "outputs": [
        {
          "output_type": "stream",
          "name": "stdout",
          "text": [
            "Success!\n",
            "\n"
          ]
        }
      ]
    },
    {
      "cell_type": "markdown",
      "source": [
        "# Practice"
      ],
      "metadata": {
        "id": "zlAuO37-cKiV"
      }
    },
    {
      "cell_type": "markdown",
      "source": [
        "# Profiler"
      ],
      "metadata": {
        "id": "ShYt0A-DcL85"
      }
    },
    {
      "cell_type": "code",
      "source": [],
      "metadata": {
        "id": "yB40n5O4cNIV"
      },
      "execution_count": null,
      "outputs": []
    }
  ]
}