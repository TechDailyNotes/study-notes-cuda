{
  "nbformat": 4,
  "nbformat_minor": 0,
  "metadata": {
    "colab": {
      "provenance": [],
      "gpuType": "T4",
      "authorship_tag": "ABX9TyNG8rrqwWkWHuETQgzXY4yT",
      "include_colab_link": true
    },
    "kernelspec": {
      "name": "python3",
      "display_name": "Python 3"
    },
    "language_info": {
      "name": "python"
    },
    "accelerator": "GPU"
  },
  "cells": [
    {
      "cell_type": "markdown",
      "metadata": {
        "id": "view-in-github",
        "colab_type": "text"
      },
      "source": [
        "<a href=\"https://colab.research.google.com/github/TechDailyNotes/study-notes-cuda/blob/main/cuda_histogram.ipynb\" target=\"_parent\"><img src=\"https://colab.research.google.com/assets/colab-badge.svg\" alt=\"Open In Colab\"/></a>"
      ]
    },
    {
      "cell_type": "code",
      "execution_count": 21,
      "metadata": {
        "id": "lwsmPW3DnJoU",
        "colab": {
          "base_uri": "https://localhost:8080/"
        },
        "outputId": "d7af4f22-0eb3-41a2-e5d0-7b91d5f40e00"
      },
      "outputs": [
        {
          "output_type": "stream",
          "name": "stdout",
          "text": [
            "nvcc: NVIDIA (R) Cuda compiler driver\n",
            "Copyright (c) 2005-2023 NVIDIA Corporation\n",
            "Built on Tue_Aug_15_22:02:13_PDT_2023\n",
            "Cuda compilation tools, release 12.2, V12.2.140\n",
            "Build cuda_12.2.r12.2/compiler.33191640_0\n",
            "Requirement already satisfied: nvcc4jupyter in /usr/local/lib/python3.10/dist-packages (1.2.1)\n"
          ]
        }
      ],
      "source": [
        "%%sh\n",
        "nvcc --version\n",
        "python3 -m pip install nvcc4jupyter"
      ]
    },
    {
      "cell_type": "code",
      "source": [
        "%load_ext nvcc4jupyter"
      ],
      "metadata": {
        "colab": {
          "base_uri": "https://localhost:8080/"
        },
        "id": "15MIQbPVUEsS",
        "outputId": "ac011ba2-095a-482b-cd39-6d2b50a01540"
      },
      "execution_count": 22,
      "outputs": [
        {
          "output_type": "stream",
          "name": "stdout",
          "text": [
            "The nvcc4jupyter extension is already loaded. To reload it, use:\n",
            "  %reload_ext nvcc4jupyter\n"
          ]
        }
      ]
    },
    {
      "cell_type": "code",
      "source": [
        "%%cuda\n",
        "\n",
        "#include <cuda_runtime.h>\n",
        "#include <algorithm>\n",
        "#include <cassert>\n",
        "#include <cstdlib>\n",
        "#include <fstream>\n",
        "#include <iostream>\n",
        "#include <numeric>\n",
        "#include <vector>\n",
        "\n",
        "using namespace std;\n",
        "\n",
        "ostream& operator<< (ostream& os, vector<char>& vec) {\n",
        "    for (char c: vec) os << c << endl;\n",
        "    return os;\n",
        "}\n",
        "\n",
        "__global__ void histogram(char *d_input, int *d_output, int num_elements, int num_bins) {\n",
        "    int tid = threadIdx.x + blockIdx.x * blockDim.x;\n",
        "\n",
        "    for (int i = tid; i < num_elements; i += gridDim.x * blockDim.x) {\n",
        "        int idx_char = d_input[i] - 'a';\n",
        "        int idx_bin = idx_char % num_bins;\n",
        "        atomicAdd(&d_output[idx_bin], 1);\n",
        "    }\n",
        "}\n",
        "\n",
        "int main() {\n",
        "    int num_elements = 1 << 20;\n",
        "    int num_bins = 7;\n",
        "\n",
        "    size_t byte_elements = num_elements * sizeof(char);\n",
        "    size_t byte_bins = num_bins * sizeof(int);\n",
        "\n",
        "    vector<char> h_input(num_elements);\n",
        "    vector<int> h_output(num_bins);\n",
        "\n",
        "    srand(1);\n",
        "    generate(begin(h_input), end(h_input), [](){return 'a' + rand() % 26;});\n",
        "    // cout << h_input;\n",
        "\n",
        "    char *d_input;\n",
        "    int *d_output;\n",
        "\n",
        "    cudaMalloc(&d_input, byte_elements);\n",
        "    cudaMalloc(&d_output, byte_bins);\n",
        "    cudaMemcpy(d_input, h_input.data(), byte_elements, cudaMemcpyHostToDevice);\n",
        "\n",
        "    int num_threads = 1 << 8;\n",
        "    dim3 size_block(num_threads);\n",
        "    dim3 size_grid((num_elements + num_threads - 1) / num_threads);\n",
        "    histogram<<<size_grid, size_block>>>(d_input, d_output, num_elements, num_bins);\n",
        "\n",
        "    cudaMemcpy(h_output.data(), d_output, byte_bins, cudaMemcpyDeviceToHost);\n",
        "    assert(num_elements == accumulate(begin(h_output), end(h_output), 0));\n",
        "\n",
        "    ofstream output_file;\n",
        "    output_file.open(\"histogram.dat\", ios::out | ios::trunc);\n",
        "    for (int i = 0; i < num_bins; i++) {\n",
        "        output_file << \"h_output[\" << i << \"] = \" << h_output[i] << \"\\n\";\n",
        "    }\n",
        "    output_file.close();\n",
        "\n",
        "    cudaFree(d_input);\n",
        "    cudaFree(d_output);\n",
        "\n",
        "    cout << \"Success!\" << endl;\n",
        "    return 0;\n",
        "}"
      ],
      "metadata": {
        "colab": {
          "base_uri": "https://localhost:8080/"
        },
        "id": "Dm0obKVdUM2C",
        "outputId": "d4c15163-5610-4795-8f4e-36a8615091f0"
      },
      "execution_count": 23,
      "outputs": [
        {
          "output_type": "stream",
          "name": "stdout",
          "text": [
            "Success!\n",
            "\n"
          ]
        }
      ]
    },
    {
      "cell_type": "markdown",
      "source": [
        "# Practice"
      ],
      "metadata": {
        "id": "zlAuO37-cKiV"
      }
    },
    {
      "cell_type": "code",
      "source": [
        "%%cuda\n",
        "\n",
        "#include <cuda_runtime.h>\n",
        "#include <algorithm>\n",
        "#include <cassert>\n",
        "#include <cstdlib>\n",
        "#include <fstream>\n",
        "#include <iostream>\n",
        "#include <numeric>\n",
        "#include <vector>\n",
        "\n",
        "using namespace std;\n",
        "\n",
        "constexpr int NUM_CHARS = 26;\n",
        "\n",
        "ostream& operator<< (ostream& os, vector<char>& vec) {\n",
        "    for (char c: vec) os << c << endl;\n",
        "    return os;\n",
        "}\n",
        "\n",
        "__global__ void histogram(char *d_elements, int *d_bins, int num_elements, int num_bins) {\n",
        "    int tid = threadIdx.x + blockIdx.x * blockDim.x;\n",
        "    for (int i = tid; i < num_elements; i += gridDim.x * blockDim.x) {\n",
        "        int idx_bin = (d_elements[i] - 'a') % num_bins;\n",
        "        atomicAdd(&d_bins[idx_bin], 1);\n",
        "    }\n",
        "}\n",
        "\n",
        "int main() {\n",
        "    int num_elements = 1 << 20;\n",
        "    int num_bins = 7;\n",
        "\n",
        "    size_t byte_elements = sizeof(char) * num_elements;\n",
        "    size_t byte_bins = sizeof(int) * num_bins;\n",
        "\n",
        "    vector<char> h_elements(num_elements);\n",
        "    vector<int> h_bins(num_bins);\n",
        "\n",
        "    srand(1);\n",
        "    generate(\n",
        "        begin(h_elements), end(h_elements),\n",
        "        [](){return 'a' + rand() % NUM_CHARS;}\n",
        "    );\n",
        "    // cout << h_elements;\n",
        "\n",
        "    char *d_elements;\n",
        "    int *d_bins;\n",
        "\n",
        "    cudaMalloc(&d_elements, byte_elements);\n",
        "    cudaMalloc(&d_bins, byte_bins);\n",
        "    cudaMemcpy(d_elements, h_elements.data(), byte_elements, cudaMemcpyHostToDevice);\n",
        "\n",
        "    int num_threads = 1 << 8;\n",
        "    dim3 size_block(num_threads);\n",
        "    dim3 size_grid((num_elements + num_threads - 1) / num_threads);\n",
        "    histogram<<<size_grid, size_block>>>(d_elements, d_bins, num_elements, num_bins);\n",
        "\n",
        "    cudaMemcpy(h_bins.data(), d_bins, byte_bins, cudaMemcpyDeviceToHost);\n",
        "    assert(num_elements == accumulate(begin(h_bins), end(h_bins), 0));\n",
        "\n",
        "    ofstream f_output;\n",
        "    f_output.open(\"histogram.dat\", ios::out | ios::trunc);\n",
        "    for (int i = 0; i < num_bins; i++) {\n",
        "        f_output << \"h_output[\" << i << \"] = \" << h_bins[i] << endl;\n",
        "    }\n",
        "    f_output.close();\n",
        "\n",
        "    cudaFree(d_elements);\n",
        "    cudaFree(d_bins);\n",
        "\n",
        "    cout << \"Success!\" << endl;\n",
        "\n",
        "    return 0;\n",
        "}"
      ],
      "metadata": {
        "colab": {
          "base_uri": "https://localhost:8080/"
        },
        "id": "XCjiyPCectPv",
        "outputId": "8857e67c-ad75-4df0-a1b0-8d6e7c4bd951"
      },
      "execution_count": 37,
      "outputs": [
        {
          "output_type": "stream",
          "name": "stdout",
          "text": [
            "Success!\n",
            "\n"
          ]
        }
      ]
    },
    {
      "cell_type": "markdown",
      "source": [
        "# Profiler"
      ],
      "metadata": {
        "id": "ShYt0A-DcL85"
      }
    },
    {
      "cell_type": "code",
      "source": [],
      "metadata": {
        "id": "yB40n5O4cNIV"
      },
      "execution_count": null,
      "outputs": []
    }
  ]
}