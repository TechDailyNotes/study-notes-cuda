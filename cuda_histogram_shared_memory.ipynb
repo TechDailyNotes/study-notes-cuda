{
  "nbformat": 4,
  "nbformat_minor": 0,
  "metadata": {
    "colab": {
      "provenance": [],
      "gpuType": "T4",
      "authorship_tag": "ABX9TyPgokBXUpZV2tSLQnclgU/9",
      "include_colab_link": true
    },
    "kernelspec": {
      "name": "python3",
      "display_name": "Python 3"
    },
    "language_info": {
      "name": "python"
    },
    "accelerator": "GPU"
  },
  "cells": [
    {
      "cell_type": "markdown",
      "metadata": {
        "id": "view-in-github",
        "colab_type": "text"
      },
      "source": [
        "<a href=\"https://colab.research.google.com/github/TechDailyNotes/study-notes-cuda/blob/main/cuda_histogram_shared_memory.ipynb\" target=\"_parent\"><img src=\"https://colab.research.google.com/assets/colab-badge.svg\" alt=\"Open In Colab\"/></a>"
      ]
    },
    {
      "cell_type": "code",
      "execution_count": 1,
      "metadata": {
        "colab": {
          "base_uri": "https://localhost:8080/"
        },
        "id": "XsEzzgYynCeo",
        "outputId": "a7225301-baec-4327-967f-48d27c106b48"
      },
      "outputs": [
        {
          "output_type": "stream",
          "name": "stdout",
          "text": [
            "nvcc: NVIDIA (R) Cuda compiler driver\n",
            "Copyright (c) 2005-2023 NVIDIA Corporation\n",
            "Built on Tue_Aug_15_22:02:13_PDT_2023\n",
            "Cuda compilation tools, release 12.2, V12.2.140\n",
            "Build cuda_12.2.r12.2/compiler.33191640_0\n",
            "Collecting nvcc4jupyter\n",
            "  Downloading nvcc4jupyter-1.2.1-py3-none-any.whl.metadata (5.1 kB)\n",
            "Downloading nvcc4jupyter-1.2.1-py3-none-any.whl (10 kB)\n",
            "Installing collected packages: nvcc4jupyter\n",
            "Successfully installed nvcc4jupyter-1.2.1\n"
          ]
        }
      ],
      "source": [
        "%%sh\n",
        "nvcc --version\n",
        "python3 -m pip install nvcc4jupyter"
      ]
    },
    {
      "cell_type": "code",
      "source": [
        "%load_ext nvcc4jupyter"
      ],
      "metadata": {
        "colab": {
          "base_uri": "https://localhost:8080/"
        },
        "id": "RFVW8qSSnPIo",
        "outputId": "541ab5e2-2344-4bbb-c246-c63fdb3a5017"
      },
      "execution_count": 2,
      "outputs": [
        {
          "output_type": "stream",
          "name": "stdout",
          "text": [
            "Detected platform \"Colab\". Running its setup...\n",
            "Source files will be saved in \"/tmp/tmpdl6a8uhm\".\n"
          ]
        }
      ]
    },
    {
      "cell_type": "code",
      "source": [
        "%%cuda\n",
        "\n",
        "#include <cuda_runtime.h>\n",
        "#include <algorithm>\n",
        "#include <cassert>\n",
        "#include <cstdlib>\n",
        "#include <fstream>\n",
        "#include <iostream>\n",
        "#include <numeric>\n",
        "#include <vector>\n",
        "\n",
        "using namespace std;\n",
        "\n",
        "constexpr int NUM_CHARS = 26;\n",
        "\n",
        "ostream& operator<< (ostream& os, vector<char>& vec) {\n",
        "    for (char c: vec) os << c << endl;\n",
        "    return os;\n",
        "}\n",
        "\n",
        "__global__ void histogram(char *d_elements, int *d_bins, int num_elements, int num_bins) {\n",
        "    extern __shared__ int s_memory[];\n",
        "\n",
        "    int l_tid = threadIdx.x;\n",
        "    int g_tid = threadIdx.x + blockIdx.x * blockDim.x;\n",
        "    int num_l_threads = blockDim.x;\n",
        "    int num_g_threads = gridDim.x * blockDim.x;\n",
        "\n",
        "    // Step 1: Initialize initial values of all the bins as 0.\n",
        "    for (int i = l_tid; i < num_bins; i += num_l_threads) s_memory[i] = 0;\n",
        "    __syncthreads();\n",
        "\n",
        "    // Step 2: Aggregate elements in the same range to the same bin and\n",
        "    //         Compute the number of values in all the bins.\n",
        "    for (int i = g_tid; i < num_elements; i += num_g_threads) {\n",
        "        int idx_bin = (d_elements[i] - 'a') % num_bins;\n",
        "        atomicAdd(&s_memory[idx_bin], 1);\n",
        "    }\n",
        "    __syncthreads();\n",
        "\n",
        "    // Step 3: Move the number of values from the shared memory to the global memory.\n",
        "    for (int i = l_tid; i < num_bins; i += num_l_threads) {\n",
        "        atomicAdd(&d_bins[i], s_memory[i]);\n",
        "    }\n",
        "}\n",
        "\n",
        "int main() {\n",
        "    int num_elements = 1 << 20;\n",
        "    int num_bins = 7;\n",
        "\n",
        "    size_t byte_elements = sizeof(char) * num_elements;\n",
        "    size_t byte_bins = sizeof(int) * num_bins;\n",
        "\n",
        "    vector<char> h_elements(num_elements);\n",
        "    vector<int> h_bins(num_bins);\n",
        "\n",
        "    srand(1);\n",
        "    generate(begin(h_elements), end(h_elements), [](){return 'a' + rand() % NUM_CHARS;});\n",
        "    // cout << h_elements;\n",
        "\n",
        "    char *d_elements;\n",
        "    int *d_bins;\n",
        "    cudaMalloc(&d_elements, byte_elements);\n",
        "    cudaMalloc(&d_bins, byte_bins);\n",
        "    cudaMemcpy(d_elements, h_elements.data(), byte_elements, cudaMemcpyHostToDevice);\n",
        "\n",
        "    int num_threads = 1 << 8;\n",
        "    int num_blocks = (num_elements + num_threads - 1) / num_threads;\n",
        "    int scale_grid = 1;\n",
        "    dim3 size_block(num_threads);\n",
        "    dim3 size_grid(num_blocks / scale_grid);\n",
        "    size_t size_cache = byte_bins;\n",
        "    histogram<<<size_grid, size_block, size_cache>>>(d_elements, d_bins, num_elements, num_bins);\n",
        "\n",
        "    cudaMemcpy(h_bins.data(), d_bins, byte_bins, cudaMemcpyDeviceToHost);\n",
        "    assert(num_elements == accumulate(begin(h_bins), end(h_bins), 0));\n",
        "\n",
        "    ofstream f_bins;\n",
        "    f_bins.open(\"histogram.dat\", ios::out | ios::trunc);\n",
        "    for (int i: h_bins) f_bins << i << endl;\n",
        "    f_bins.close();\n",
        "\n",
        "    cudaFree(d_elements);\n",
        "    cudaFree(d_bins);\n",
        "\n",
        "    cout << \"[int main()] pass!\" << endl;\n",
        "    return 0;\n",
        "}"
      ],
      "metadata": {
        "colab": {
          "base_uri": "https://localhost:8080/"
        },
        "id": "X6icx5s1nRnQ",
        "outputId": "0358c1b7-6e1c-4af2-acda-6a7cc956a8c2"
      },
      "execution_count": 32,
      "outputs": [
        {
          "output_type": "stream",
          "name": "stdout",
          "text": [
            "[int main()] pass!\n",
            "\n"
          ]
        }
      ]
    },
    {
      "cell_type": "code",
      "source": [],
      "metadata": {
        "id": "GLU5wikttBrH"
      },
      "execution_count": null,
      "outputs": []
    }
  ]
}