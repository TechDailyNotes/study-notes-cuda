{
  "nbformat": 4,
  "nbformat_minor": 0,
  "metadata": {
    "colab": {
      "provenance": [],
      "gpuType": "T4",
      "authorship_tag": "ABX9TyPB1Po+GIPRf5U3CC8ccnvU",
      "include_colab_link": true
    },
    "kernelspec": {
      "name": "python3",
      "display_name": "Python 3"
    },
    "language_info": {
      "name": "python"
    },
    "accelerator": "GPU"
  },
  "cells": [
    {
      "cell_type": "markdown",
      "metadata": {
        "id": "view-in-github",
        "colab_type": "text"
      },
      "source": [
        "<a href=\"https://colab.research.google.com/github/TechDailyNotes/study-notes-cuda/blob/main/cuda_histogram_shared_memory.ipynb\" target=\"_parent\"><img src=\"https://colab.research.google.com/assets/colab-badge.svg\" alt=\"Open In Colab\"/></a>"
      ]
    },
    {
      "cell_type": "code",
      "execution_count": 1,
      "metadata": {
        "colab": {
          "base_uri": "https://localhost:8080/"
        },
        "id": "XsEzzgYynCeo",
        "outputId": "a7225301-baec-4327-967f-48d27c106b48"
      },
      "outputs": [
        {
          "output_type": "stream",
          "name": "stdout",
          "text": [
            "nvcc: NVIDIA (R) Cuda compiler driver\n",
            "Copyright (c) 2005-2023 NVIDIA Corporation\n",
            "Built on Tue_Aug_15_22:02:13_PDT_2023\n",
            "Cuda compilation tools, release 12.2, V12.2.140\n",
            "Build cuda_12.2.r12.2/compiler.33191640_0\n",
            "Collecting nvcc4jupyter\n",
            "  Downloading nvcc4jupyter-1.2.1-py3-none-any.whl.metadata (5.1 kB)\n",
            "Downloading nvcc4jupyter-1.2.1-py3-none-any.whl (10 kB)\n",
            "Installing collected packages: nvcc4jupyter\n",
            "Successfully installed nvcc4jupyter-1.2.1\n"
          ]
        }
      ],
      "source": [
        "%%sh\n",
        "nvcc --version\n",
        "python3 -m pip install nvcc4jupyter"
      ]
    },
    {
      "cell_type": "code",
      "source": [
        "%load_ext nvcc4jupyter"
      ],
      "metadata": {
        "colab": {
          "base_uri": "https://localhost:8080/"
        },
        "id": "RFVW8qSSnPIo",
        "outputId": "541ab5e2-2344-4bbb-c246-c63fdb3a5017"
      },
      "execution_count": 2,
      "outputs": [
        {
          "output_type": "stream",
          "name": "stdout",
          "text": [
            "Detected platform \"Colab\". Running its setup...\n",
            "Source files will be saved in \"/tmp/tmpdl6a8uhm\".\n"
          ]
        }
      ]
    },
    {
      "cell_type": "code",
      "source": [
        "%%cuda\n",
        "\n",
        "#include <cuda_runtime.h>\n",
        "#include <algorithm>\n",
        "#include <cassert>\n",
        "#include <cstdlib>\n",
        "#include <fstream>\n",
        "#include <iostream>\n",
        "#include <numeric>\n",
        "#include <vector>\n",
        "\n",
        "using namespace std;\n",
        "\n",
        "constexpr int NUM_CHARS = 26;\n",
        "\n",
        "ostream& operator<< (ostream& os, vector<char>& vec) {\n",
        "    for (char c: vec) os << c << endl;\n",
        "    return os;\n",
        "}\n",
        "\n",
        "__global__ void histogram(char *d_elements, int *d_bins, int num_elements, int num_bins) {\n",
        "    extern __shared__ int s_memory[];\n",
        "\n",
        "    int l_tid = threadIdx.x;\n",
        "    int g_tid = threadIdx.x + blockIdx.x * blockDim.x;\n",
        "    int num_l_threads = blockDim.x;\n",
        "    int num_g_threads = gridDim.x * blockDim.x;\n",
        "\n",
        "    // Step 1: Initialize initial values of all the bins as 0.\n",
        "    for (int i = l_tid; i < num_bins; i += num_l_threads) s_memory[i] = 0;\n",
        "    __syncthreads();\n",
        "\n",
        "    // Step 2: Aggregate elements in the same range to the same bin and\n",
        "    //         Compute the number of values in all the bins.\n",
        "    for (int i = g_tid; i < num_elements; i += num_g_threads) {\n",
        "        int idx_bin = (d_elements[i] - 'a') % num_bins;\n",
        "        atomicAdd(&s_memory[idx_bin], 1);\n",
        "    }\n",
        "    __syncthreads();\n",
        "\n",
        "    // Step 3: Move the number of values from the shared memory to the global memory.\n",
        "    for (int i = l_tid; i < num_bins; i += num_l_threads) {\n",
        "        atomicAdd(&d_bins[i], s_memory[i]);\n",
        "    }\n",
        "}\n",
        "\n",
        "int main() {\n",
        "    int num_elements = 1 << 20;\n",
        "    int num_bins = 7;\n",
        "\n",
        "    size_t byte_elements = sizeof(char) * num_elements;\n",
        "    size_t byte_bins = sizeof(int) * num_bins;\n",
        "\n",
        "    vector<char> h_elements(num_elements);\n",
        "    vector<int> h_bins(num_bins);\n",
        "\n",
        "    srand(1);\n",
        "    generate(begin(h_elements), end(h_elements), [](){return 'a' + rand() % NUM_CHARS;});\n",
        "    // cout << h_elements;\n",
        "\n",
        "    char *d_elements;\n",
        "    int *d_bins;\n",
        "    cudaMalloc(&d_elements, byte_elements);\n",
        "    cudaMalloc(&d_bins, byte_bins);\n",
        "    cudaMemcpy(d_elements, h_elements.data(), byte_elements, cudaMemcpyHostToDevice);\n",
        "\n",
        "    int num_threads = 1 << 8;\n",
        "    int num_blocks = (num_elements + num_threads - 1) / num_threads;\n",
        "    int scale_grid = 1;\n",
        "    dim3 size_block(num_threads);\n",
        "    dim3 size_grid(num_blocks / scale_grid);\n",
        "    size_t size_cache = byte_bins;\n",
        "    histogram<<<size_grid, size_block, size_cache>>>(d_elements, d_bins, num_elements, num_bins);\n",
        "\n",
        "    cudaMemcpy(h_bins.data(), d_bins, byte_bins, cudaMemcpyDeviceToHost);\n",
        "    assert(num_elements == accumulate(begin(h_bins), end(h_bins), 0));\n",
        "\n",
        "    ofstream f_bins;\n",
        "    f_bins.open(\"histogram.dat\", ios::out | ios::trunc);\n",
        "    for (int i: h_bins) f_bins << i << endl;\n",
        "    f_bins.close();\n",
        "\n",
        "    cudaFree(d_elements);\n",
        "    cudaFree(d_bins);\n",
        "\n",
        "    cout << \"[int main()] pass!\" << endl;\n",
        "    return 0;\n",
        "}"
      ],
      "metadata": {
        "colab": {
          "base_uri": "https://localhost:8080/"
        },
        "id": "X6icx5s1nRnQ",
        "outputId": "0358c1b7-6e1c-4af2-acda-6a7cc956a8c2"
      },
      "execution_count": 32,
      "outputs": [
        {
          "output_type": "stream",
          "name": "stdout",
          "text": [
            "[int main()] pass!\n",
            "\n"
          ]
        }
      ]
    },
    {
      "cell_type": "markdown",
      "source": [
        "# Practice"
      ],
      "metadata": {
        "id": "mLanxKY95R4U"
      }
    },
    {
      "cell_type": "code",
      "source": [],
      "metadata": {
        "id": "GLU5wikttBrH"
      },
      "execution_count": null,
      "outputs": []
    },
    {
      "cell_type": "markdown",
      "source": [
        "# Profiler"
      ],
      "metadata": {
        "id": "jQG5cUln5TIo"
      }
    },
    {
      "cell_type": "code",
      "source": [
        "# Mount google drive to use a persistent directory structure\n",
        "from google.colab import drive\n",
        "drive.mount('/content/gdrive')\n",
        "\n",
        "FOLDER = \"cuda\"\n",
        "ORG = \"TechDailyNotes\"\n",
        "REPO = \"study-notes-cuda\""
      ],
      "metadata": {
        "colab": {
          "base_uri": "https://localhost:8080/"
        },
        "id": "9wN1T0xJ5UQh",
        "outputId": "3c5300aa-6ad4-42f6-f57c-379bf13b91a4"
      },
      "execution_count": 33,
      "outputs": [
        {
          "output_type": "stream",
          "name": "stdout",
          "text": [
            "Mounted at /content/gdrive\n"
          ]
        }
      ]
    },
    {
      "cell_type": "code",
      "source": [
        "# %mkdir /content/gdrive/MyDrive/{FOLDER}\n",
        "# %cd /content/gdrive/MyDrive/{FOLDER}\n",
        "# !echo 'YOUR_TOKEN' > /content/gdrive/MyDrive/{FOLDER}/token.txt\n",
        "# !echo 'YOUR_HANDLE' > /content/gdrive/MyDrive/{FOLDER}/git_username.txt"
      ],
      "metadata": {
        "id": "CMQmOwz45V_g"
      },
      "execution_count": 34,
      "outputs": []
    },
    {
      "cell_type": "code",
      "source": [
        "%cd /content/gdrive/MyDrive/{FOLDER}\n",
        "with open(f'/content/gdrive/MyDrive/{FOLDER}/token.txt') as f:\n",
        "    token = f.readline().strip()\n",
        "with open(f'/content/gdrive/MyDrive/{FOLDER}/git_username.txt') as f:\n",
        "    handle = f.readline().strip()\n",
        "\n",
        "YOUR_TOKEN = token\n",
        "YOUR_HANDLE = handle\n",
        "\n",
        "!git clone https://{YOUR_TOKEN}@github.com/{ORG}/{REPO}.git\n",
        "%cd /content/gdrive/MyDrive/{FOLDER}/{REPO}\n",
        "!git pull\n",
        "!ls"
      ],
      "metadata": {
        "colab": {
          "base_uri": "https://localhost:8080/"
        },
        "id": "BdFnnzuZ5ZZG",
        "outputId": "07ff3b1e-0252-4df8-e701-45d1a5d3e60f"
      },
      "execution_count": 47,
      "outputs": [
        {
          "output_type": "stream",
          "name": "stdout",
          "text": [
            "/content/gdrive/MyDrive/cuda\n",
            "fatal: destination path 'study-notes-cuda' already exists and is not an empty directory.\n",
            "/content/gdrive/MyDrive/cuda/study-notes-cuda\n",
            "remote: Enumerating objects: 4, done.\u001b[K\n",
            "remote: Counting objects: 100% (4/4), done.\u001b[K\n",
            "remote: Compressing objects: 100% (2/2), done.\u001b[K\n",
            "remote: Total 3 (delta 1), reused 3 (delta 1), pack-reused 0 (from 0)\u001b[K\n",
            "Unpacking objects: 100% (3/3), 1.20 KiB | 43.00 KiB/s, done.\n",
            "From https://github.com/TechDailyNotes/study-notes-cuda\n",
            "   7b6787a..ce1eb9a  main       -> origin/main\n",
            "Updating 7b6787a..ce1eb9a\n",
            "Fast-forward\n",
            " cuda_histogram_shared_memory_32.cu | 86 \u001b[32m++++++++++++++++++++++++++++++++++++++++++++++++++++++++++\u001b[m\n",
            " 1 file changed, 86 insertions(+)\n",
            " create mode 100644 cuda_histogram_shared_memory_32.cu\n",
            "basics\t\t\t\t\t   cuda_convolution_2d_tiled.ipynb\n",
            "cuda_basics.ipynb\t\t\t   cuda_cublas.ipynb\n",
            "cuda_convolution_1d_cache\t\t   cuda_histogram\n",
            "cuda_convolution_1d_cache.cu\t\t   cuda_histogram.cu\n",
            "cuda_convolution_1d_cache.ipynb\t\t   cuda_histogram_global_memory\n",
            "cuda_convolution_1d_constant_memory\t   cuda_histogram_global_memory.cu\n",
            "cuda_convolution_1d_constant_memory.cu\t   cuda_histogram_global_memory.ipynb\n",
            "cuda_convolution_1d_constant_memory.ipynb  cuda_histogram.ipynb\n",
            "cuda_convolution_1d_naive\t\t   cuda_histogram_shared_memory\n",
            "cuda_convolution_1d_naive.cu\t\t   cuda_histogram_shared_memory_32.cu\n",
            "cuda_convolution_1d_naive.ipynb\t\t   cuda_histogram_shared_memory_4\n",
            "cuda_convolution_1d_tiled\t\t   cuda_histogram_shared_memory_4.cu\n",
            "cuda_convolution_1d_tiled.cu\t\t   cuda_histogram_shared_memory.cu\n",
            "cuda_convolution_1d_tiled.ipynb\t\t   cuda_histogram_shared_memory.ipynb\n",
            "cuda_convolution_2d_constant_memory\t   cuda.ipynb\n",
            "cuda_convolution_2d_constant_memory.cu\t   cuda_parallel_reduction.ipynb\n",
            "cuda_convolution_2d_constant_memory.ipynb  histogram.dat\n",
            "cuda_convolution_2d_tiled\t\t   README.md\n",
            "cuda_convolution_2d_tiled.cu\n"
          ]
        }
      ]
    },
    {
      "cell_type": "code",
      "source": [
        "%%sh\n",
        "nvcc -o cuda_histogram_global_memory cuda_histogram_global_memory.cu\n",
        "nvcc -o cuda_histogram_shared_memory cuda_histogram_shared_memory.cu\n",
        "nvcc -o cuda_histogram_shared_memory_4 cuda_histogram_shared_memory_4.cu\n",
        "nvcc -o cuda_histogram_shared_memory_32 cuda_histogram_shared_memory_32.cu"
      ],
      "metadata": {
        "id": "_0VKDgHN5ar0"
      },
      "execution_count": 48,
      "outputs": []
    },
    {
      "cell_type": "code",
      "source": [
        "!nvprof ./cuda_histogram_global_memory"
      ],
      "metadata": {
        "colab": {
          "base_uri": "https://localhost:8080/"
        },
        "id": "ypMf_kfn5lf-",
        "outputId": "7255b6c5-df4e-4c1e-c986-b10675895898"
      },
      "execution_count": 49,
      "outputs": [
        {
          "output_type": "stream",
          "name": "stdout",
          "text": [
            "==23047== NVPROF is profiling process 23047, command: ./cuda_histogram_global_memory\n",
            "Success!\n",
            "==23047== Profiling application: ./cuda_histogram_global_memory\n",
            "==23047== Profiling result:\n",
            "            Type  Time(%)      Time     Calls       Avg       Min       Max  Name\n",
            " GPU activities:   85.39%  539.44us         1  539.44us  539.44us  539.44us  histogram(char*, int*, int, int)\n",
            "                   14.28%  90.206us         1  90.206us  90.206us  90.206us  [CUDA memcpy HtoD]\n",
            "                    0.33%  2.1120us         1  2.1120us  2.1120us  2.1120us  [CUDA memcpy DtoH]\n",
            "      API calls:   99.21%  176.59ms         2  88.296ms  6.0060us  176.59ms  cudaMalloc\n",
            "                    0.47%  833.40us         2  416.70us  282.80us  550.60us  cudaMemcpy\n",
            "                    0.12%  215.45us         2  107.72us  17.700us  197.75us  cudaFree\n",
            "                    0.11%  204.39us         1  204.39us  204.39us  204.39us  cudaLaunchKernel\n",
            "                    0.08%  135.32us       114  1.1870us     145ns  53.149us  cuDeviceGetAttribute\n",
            "                    0.01%  11.988us         1  11.988us  11.988us  11.988us  cuDeviceGetName\n",
            "                    0.00%  5.2980us         1  5.2980us  5.2980us  5.2980us  cuDeviceTotalMem\n",
            "                    0.00%  5.2600us         1  5.2600us  5.2600us  5.2600us  cuDeviceGetPCIBusId\n",
            "                    0.00%  1.6730us         3     557ns     257ns  1.1420us  cuDeviceGetCount\n",
            "                    0.00%     928ns         2     464ns     210ns     718ns  cuDeviceGet\n",
            "                    0.00%     595ns         1     595ns     595ns     595ns  cuModuleGetLoadingMode\n",
            "                    0.00%     266ns         1     266ns     266ns     266ns  cuDeviceGetUuid\n"
          ]
        }
      ]
    },
    {
      "cell_type": "code",
      "source": [
        "!nvprof ./cuda_histogram_shared_memory"
      ],
      "metadata": {
        "colab": {
          "base_uri": "https://localhost:8080/"
        },
        "id": "xjBfroiv5n4t",
        "outputId": "4d7698a8-15c5-4b77-d808-69ec5379cba2"
      },
      "execution_count": 50,
      "outputs": [
        {
          "output_type": "stream",
          "name": "stdout",
          "text": [
            "==23062== NVPROF is profiling process 23062, command: ./cuda_histogram_shared_memory\n",
            "[int main()] pass!\n",
            "==23062== Profiling application: ./cuda_histogram_shared_memory\n",
            "==23062== Profiling result:\n",
            "            Type  Time(%)      Time     Calls       Avg       Min       Max  Name\n",
            " GPU activities:   58.42%  88.030us         1  88.030us  88.030us  88.030us  [CUDA memcpy HtoD]\n",
            "                   40.18%  60.543us         1  60.543us  60.543us  60.543us  histogram(char*, int*, int, int)\n",
            "                    1.40%  2.1120us         1  2.1120us  2.1120us  2.1120us  [CUDA memcpy DtoH]\n",
            "      API calls:   99.45%  162.83ms         2  81.414ms  3.7440us  162.83ms  cudaMalloc\n",
            "                    0.20%  323.63us         2  161.81us  74.841us  248.79us  cudaMemcpy\n",
            "                    0.12%  201.97us         2  100.99us  19.063us  182.91us  cudaFree\n",
            "                    0.11%  181.60us         1  181.60us  181.60us  181.60us  cudaLaunchKernel\n",
            "                    0.10%  163.59us       114  1.4340us     137ns  58.363us  cuDeviceGetAttribute\n",
            "                    0.01%  11.479us         1  11.479us  11.479us  11.479us  cuDeviceGetName\n",
            "                    0.00%  5.0440us         1  5.0440us  5.0440us  5.0440us  cuDeviceGetPCIBusId\n",
            "                    0.00%  4.5140us         1  4.5140us  4.5140us  4.5140us  cuDeviceTotalMem\n",
            "                    0.00%  2.7170us         2  1.3580us     300ns  2.4170us  cuDeviceGet\n",
            "                    0.00%  1.9740us         3     658ns     203ns  1.3470us  cuDeviceGetCount\n",
            "                    0.00%     581ns         1     581ns     581ns     581ns  cuModuleGetLoadingMode\n",
            "                    0.00%     237ns         1     237ns     237ns     237ns  cuDeviceGetUuid\n"
          ]
        }
      ]
    },
    {
      "cell_type": "code",
      "source": [
        "!nvprof ./cuda_histogram_shared_memory_4"
      ],
      "metadata": {
        "colab": {
          "base_uri": "https://localhost:8080/"
        },
        "id": "wtl8B5Mo5rFA",
        "outputId": "245c988d-1352-4f0d-95f6-75ee016c0d9a"
      },
      "execution_count": 51,
      "outputs": [
        {
          "output_type": "stream",
          "name": "stdout",
          "text": [
            "==23077== NVPROF is profiling process 23077, command: ./cuda_histogram_shared_memory_4\n",
            "[int main()] pass!\n",
            "==23077== Profiling application: ./cuda_histogram_shared_memory_4\n",
            "==23077== Profiling result:\n",
            "            Type  Time(%)      Time     Calls       Avg       Min       Max  Name\n",
            " GPU activities:   68.98%  88.030us         1  88.030us  88.030us  88.030us  [CUDA memcpy HtoD]\n",
            "                   29.36%  37.471us         1  37.471us  37.471us  37.471us  histogram(char*, int*, int, int)\n",
            "                    1.66%  2.1120us         1  2.1120us  2.1120us  2.1120us  [CUDA memcpy DtoH]\n",
            "      API calls:   99.51%  159.26ms         2  79.630ms  3.9450us  159.26ms  cudaMalloc\n",
            "                    0.19%  309.63us         2  154.82us  49.586us  260.04us  cudaMemcpy\n",
            "                    0.12%  187.00us         1  187.00us  187.00us  187.00us  cudaLaunchKernel\n",
            "                    0.09%  141.00us         2  70.502us  18.736us  122.27us  cudaFree\n",
            "                    0.08%  124.40us       114  1.0910us     144ns  48.497us  cuDeviceGetAttribute\n",
            "                    0.01%  15.722us         1  15.722us  15.722us  15.722us  cuDeviceGetName\n",
            "                    0.00%  5.6070us         1  5.6070us  5.6070us  5.6070us  cuDeviceGetPCIBusId\n",
            "                    0.00%  4.2700us         1  4.2700us  4.2700us  4.2700us  cuDeviceTotalMem\n",
            "                    0.00%  1.8910us         3     630ns     248ns  1.3590us  cuDeviceGetCount\n",
            "                    0.00%     780ns         2     390ns     188ns     592ns  cuDeviceGet\n",
            "                    0.00%     448ns         1     448ns     448ns     448ns  cuModuleGetLoadingMode\n",
            "                    0.00%     240ns         1     240ns     240ns     240ns  cuDeviceGetUuid\n"
          ]
        }
      ]
    },
    {
      "cell_type": "code",
      "source": [
        "!nvprof ./cuda_histogram_shared_memory_32 cuda_histogram_shared_memory_32.cu"
      ],
      "metadata": {
        "colab": {
          "base_uri": "https://localhost:8080/"
        },
        "id": "4BW1jQVj6B4b",
        "outputId": "f0c19652-0740-4296-e6b9-f8cbca63ace7"
      },
      "execution_count": 53,
      "outputs": [
        {
          "output_type": "stream",
          "name": "stdout",
          "text": [
            "==23132== NVPROF is profiling process 23132, command: ./cuda_histogram_shared_memory_32 cuda_histogram_shared_memory_32.cu\n",
            "[int main()] pass!\n",
            "==23132== Profiling application: ./cuda_histogram_shared_memory_32 cuda_histogram_shared_memory_32.cu\n",
            "==23132== Profiling result:\n",
            "            Type  Time(%)      Time     Calls       Avg       Min       Max  Name\n",
            " GPU activities:   72.31%  89.854us         1  89.854us  89.854us  89.854us  [CUDA memcpy HtoD]\n",
            "                   25.96%  32.255us         1  32.255us  32.255us  32.255us  histogram(char*, int*, int, int)\n",
            "                    1.73%  2.1450us         1  2.1450us  2.1450us  2.1450us  [CUDA memcpy DtoH]\n",
            "      API calls:   99.49%  184.39ms         2  92.196ms  6.1250us  184.39ms  cudaMalloc\n",
            "                    0.18%  334.61us         2  167.31us  47.815us  286.80us  cudaMemcpy\n",
            "                    0.11%  200.71us         1  200.71us  200.71us  200.71us  cudaLaunchKernel\n",
            "                    0.10%  193.54us         2  96.770us  18.075us  175.47us  cudaFree\n",
            "                    0.10%  189.97us       114  1.6660us     197ns  72.849us  cuDeviceGetAttribute\n",
            "                    0.01%  14.053us         1  14.053us  14.053us  14.053us  cuDeviceGetName\n",
            "                    0.00%  8.2840us         1  8.2840us  8.2840us  8.2840us  cuDeviceGetPCIBusId\n",
            "                    0.00%  6.3020us         1  6.3020us  6.3020us  6.3020us  cuDeviceTotalMem\n",
            "                    0.00%  2.0980us         3     699ns     345ns  1.3500us  cuDeviceGetCount\n",
            "                    0.00%  1.1950us         2     597ns     312ns     883ns  cuDeviceGet\n",
            "                    0.00%     513ns         1     513ns     513ns     513ns  cuModuleGetLoadingMode\n",
            "                    0.00%     344ns         1     344ns     344ns     344ns  cuDeviceGetUuid\n"
          ]
        }
      ]
    },
    {
      "cell_type": "code",
      "source": [],
      "metadata": {
        "id": "_ur7ayzz6Ykr"
      },
      "execution_count": null,
      "outputs": []
    }
  ]
}