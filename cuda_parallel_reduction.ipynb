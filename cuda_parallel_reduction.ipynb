{
  "nbformat": 4,
  "nbformat_minor": 0,
  "metadata": {
    "colab": {
      "provenance": [],
      "machine_shape": "hm",
      "gpuType": "L4",
      "authorship_tag": "ABX9TyN6Pj17nsMIUi9A8iYgXlGK",
      "include_colab_link": true
    },
    "kernelspec": {
      "name": "python3",
      "display_name": "Python 3"
    },
    "language_info": {
      "name": "python"
    },
    "accelerator": "GPU"
  },
  "cells": [
    {
      "cell_type": "markdown",
      "metadata": {
        "id": "view-in-github",
        "colab_type": "text"
      },
      "source": [
        "<a href=\"https://colab.research.google.com/github/TechDailyNotes/study-notes-cuda/blob/main/cuda_parallel_reduction.ipynb\" target=\"_parent\"><img src=\"https://colab.research.google.com/assets/colab-badge.svg\" alt=\"Open In Colab\"/></a>"
      ]
    },
    {
      "cell_type": "code",
      "execution_count": 1,
      "metadata": {
        "colab": {
          "base_uri": "https://localhost:8080/"
        },
        "id": "pXvBFi2RiMuJ",
        "outputId": "3365ea74-fff8-4ac3-b5b4-f08e45bf280b"
      },
      "outputs": [
        {
          "output_type": "stream",
          "name": "stdout",
          "text": [
            "nvcc: NVIDIA (R) Cuda compiler driver\n",
            "Copyright (c) 2005-2023 NVIDIA Corporation\n",
            "Built on Tue_Aug_15_22:02:13_PDT_2023\n",
            "Cuda compilation tools, release 12.2, V12.2.140\n",
            "Build cuda_12.2.r12.2/compiler.33191640_0\n",
            "Collecting nvcc4jupyter\n",
            "  Downloading nvcc4jupyter-1.2.1-py3-none-any.whl (10 kB)\n",
            "Installing collected packages: nvcc4jupyter\n",
            "Successfully installed nvcc4jupyter-1.2.1\n",
            "Detected platform \"Colab\". Running its setup...\n",
            "Source files will be saved in \"/tmp/tmp_qkkp8qv\".\n"
          ]
        }
      ],
      "source": [
        "!nvcc --version\n",
        "!pip install nvcc4jupyter\n",
        "%load_ext nvcc4jupyter"
      ]
    },
    {
      "cell_type": "markdown",
      "source": [
        "# Chapter 1: CUDA Parallel Reduction Part 1"
      ],
      "metadata": {
        "id": "rhHi1_AllhUt"
      }
    },
    {
      "cell_type": "code",
      "source": [
        "%%cuda\n",
        "\n",
        "#include <assert.h>\n",
        "#include <cuda_runtime.h>\n",
        "#include <stdio.h>\n",
        "\n",
        "const int GRID_DIM_X = 1 << 8;\n",
        "const int BLOCK_DIM_X = 1 << 8;\n",
        "\n",
        "__global__ void sumReduce(int *vector, int *vectorSum) {\n",
        "    // Step 0: Get the current thread's index.\n",
        "    int ti = blockIdx.x * blockDim.x + threadIdx.x;\n",
        "\n",
        "    // Step 1: Move elements from memory to cache.\n",
        "    __shared__ int partialSum[BLOCK_DIM_X];\n",
        "    partialSum[threadIdx.x] = vector[ti];\n",
        "    __syncthreads();\n",
        "\n",
        "    // Step 2: Divide and conquer the sum in one block.\n",
        "    for (int si = 1; si < BLOCK_DIM_X; si *= 2) {\n",
        "        if (threadIdx.x % (si * 2) == 0) {\n",
        "            partialSum[threadIdx.x] += partialSum[threadIdx.x + si];\n",
        "        }\n",
        "        __syncthreads();\n",
        "    }\n",
        "\n",
        "    // Step 3: Move the sum from cache to memory.\n",
        "    if (threadIdx.x == 0) {\n",
        "        vectorSum[blockIdx.x] = partialSum[0];\n",
        "    }\n",
        "}\n",
        "\n",
        "void vectorInit(int *h_vector, int numElements) {\n",
        "    for (int i = 0; i < numElements; i++) {\n",
        "        h_vector[i] = 1;\n",
        "    }\n",
        "}\n",
        "\n",
        "int main() {\n",
        "    // Step 0: Set the number and bytes of the vector.\n",
        "    int numElements = GRID_DIM_X * BLOCK_DIM_X;\n",
        "    size_t numBytes = sizeof(int) * numElements;\n",
        "\n",
        "    // Step 1: Initialize the host and device memories.\n",
        "    int *h_vector = (int*) malloc(numBytes);\n",
        "    int *h_vectorSum = (int*) malloc(numBytes);\n",
        "    vectorInit(h_vector, numElements);\n",
        "\n",
        "    int *d_vector, *d_vectorSum;\n",
        "    cudaMalloc(&d_vector, numBytes);\n",
        "    cudaMalloc(&d_vectorSum, numBytes);\n",
        "\n",
        "    // Step 2: Launch the kernel function to sum up the vector.\n",
        "    cudaMemcpy(d_vector, h_vector, numBytes, cudaMemcpyHostToDevice);\n",
        "    sumReduce<<<GRID_DIM_X, BLOCK_DIM_X>>>(d_vector, d_vectorSum);\n",
        "    sumReduce<<<1, BLOCK_DIM_X>>>(d_vectorSum, d_vectorSum);\n",
        "    cudaMemcpy(h_vectorSum, d_vectorSum, numBytes, cudaMemcpyDeviceToHost);\n",
        "\n",
        "    printf(\"h_vectorSum[0] == %d\\n\", h_vectorSum[0]);\n",
        "    assert(h_vectorSum[0] == 65536);\n",
        "\n",
        "    // Step 3: Clear the allocated memories.\n",
        "    free(h_vector);\n",
        "    free(h_vectorSum);\n",
        "    cudaFree(d_vector);\n",
        "    cudaFree(d_vectorSum);\n",
        "\n",
        "    printf(\"Success!\");\n",
        "    return 0;\n",
        "}"
      ],
      "metadata": {
        "colab": {
          "base_uri": "https://localhost:8080/"
        },
        "id": "sV9IibY_ia77",
        "outputId": "0d135264-1249-465c-ce58-0615a9b1b495"
      },
      "execution_count": 10,
      "outputs": [
        {
          "output_type": "stream",
          "name": "stdout",
          "text": [
            "h_vectorSum[0] == 65536\n",
            "Success!\n"
          ]
        }
      ]
    },
    {
      "cell_type": "markdown",
      "source": [
        "## Practice"
      ],
      "metadata": {
        "id": "zCS_QCo6j1we"
      }
    },
    {
      "cell_type": "code",
      "source": [
        "%%cuda\n",
        "\n",
        "#include <algorithm>\n",
        "#include <cuda_runtime.h>\n",
        "#include <stdio.h>\n",
        "#include <time.h>\n",
        "\n",
        "using namespace std;\n",
        "\n",
        "const int GRID_DIM_X = 1 << 8;\n",
        "const int BLOCK_DIM_X = 1 << 8;\n",
        "\n",
        "__global__ void sumReduce(int *d_vector, int *d_vectorSum) {\n",
        "    // Step 0: Get the thread id and element id.\n",
        "    int vi = blockDim.x * blockIdx.x + threadIdx.x;\n",
        "    int ti = threadIdx.x;\n",
        "\n",
        "    // Step 1: Move elements from the vector to the cache.\n",
        "    __shared__ int partialSum[BLOCK_DIM_X];\n",
        "    partialSum[ti] = d_vector[vi];\n",
        "    __syncthreads();\n",
        "\n",
        "    // Step 2: Sum all elements in the same block.\n",
        "    for (int si = 1; si < BLOCK_DIM_X; si *= 2) {\n",
        "        if (ti % (2 * si) == 0) {\n",
        "            partialSum[ti] += partialSum[ti + si];\n",
        "        }\n",
        "        __syncthreads();\n",
        "    }\n",
        "\n",
        "    // Step 3: Move the sum value to the vector.\n",
        "    if (threadIdx.x == 0) {\n",
        "        d_vectorSum[blockIdx.x] = partialSum[0];\n",
        "    }\n",
        "}\n",
        "\n",
        "void vectorInit(int *h_vector, int numElements) {\n",
        "    fill_n(h_vector, numElements, 1);\n",
        "    // memset(h_vector, 1, numElements);\n",
        "}\n",
        "\n",
        "int main() {\n",
        "    // Step 0: Set the hyperparameters of vectors.\n",
        "    int numElements = GRID_DIM_X * BLOCK_DIM_X;\n",
        "    size_t numBytes = sizeof(int) * numElements;\n",
        "\n",
        "    // Step 1: Initialize memories for vectors in both the host and device.\n",
        "    int *h_vector = (int*) malloc(numBytes);\n",
        "    int *h_vectorSum = (int*) malloc(numBytes);\n",
        "    vectorInit(h_vector, numElements);\n",
        "\n",
        "    int *d_vector, *d_vectorSum;\n",
        "    cudaMalloc(&d_vector, numBytes);\n",
        "    cudaMalloc(&d_vectorSum, numBytes);\n",
        "\n",
        "    // Step 2: Launch the kernel function to sum up all elements.\n",
        "    cudaMemcpy(d_vector, h_vector, numBytes, cudaMemcpyHostToDevice);\n",
        "\n",
        "    time_t start = time(NULL);\n",
        "    sumReduce<<<GRID_DIM_X, BLOCK_DIM_X>>>(d_vector, d_vectorSum);\n",
        "    sumReduce<<<1, BLOCK_DIM_X>>>(d_vectorSum, d_vectorSum);\n",
        "    time_t end = time(NULL);\n",
        "    printf(\"Time taken is %f seconds.\\n\", difftime(end, start));\n",
        "\n",
        "    cudaMemcpy(h_vectorSum, d_vectorSum, numBytes, cudaMemcpyDeviceToHost);\n",
        "    printf(\"h_vectorSum[0] == %d\\n\", h_vectorSum[0]);\n",
        "\n",
        "    // Step 3: Clear allocated memories.\n",
        "    free(h_vector);\n",
        "    free(h_vectorSum);\n",
        "    cudaFree(d_vector);\n",
        "    cudaFree(d_vectorSum);\n",
        "\n",
        "    printf(\"Success!\");\n",
        "    return 0;\n",
        "}"
      ],
      "metadata": {
        "colab": {
          "base_uri": "https://localhost:8080/"
        },
        "id": "UHhC3uTlj3Iv",
        "outputId": "92cf6620-f2c4-412a-def0-33c4222b52d9"
      },
      "execution_count": 13,
      "outputs": [
        {
          "output_type": "stream",
          "name": "stdout",
          "text": [
            "Time taken is 0.000000 seconds.\n",
            "h_vectorSum[0] == 65536\n",
            "Success!\n"
          ]
        }
      ]
    },
    {
      "cell_type": "markdown",
      "source": [
        "# Chapter 2: CUDA Parallel Reduction Part 2\n",
        "\n",
        "## Optimizations\n",
        "\n",
        "1. Get rid of the wrap divergence.\n",
        "2. Get rid of the modulo operation."
      ],
      "metadata": {
        "id": "EMKLo5RdvLa7"
      }
    },
    {
      "cell_type": "code",
      "source": [
        "%%cuda\n",
        "\n",
        "#include <algorithm>\n",
        "#include <cuda_runtime.h>\n",
        "#include <stdio.h>\n",
        "#include <time.h>\n",
        "\n",
        "const int GRID_DIM_X = 1 << 8;\n",
        "const int BLOCK_DIM_X = 1 << 8;\n",
        "\n",
        "__global__ void reduceSum(int *vector, int *vectorSum) {\n",
        "    // Step 0: Get the vector index and the thread index.\n",
        "    int ti = threadIdx.x;\n",
        "    int vi = blockIdx.x * blockDim.x + threadIdx.x;\n",
        "\n",
        "    // Step 1: Move elements from the vector to the cache.\n",
        "    __shared__ int partialSum[BLOCK_DIM_X];\n",
        "    partialSum[ti] = vector[vi];\n",
        "    __syncthreads();\n",
        "\n",
        "    // Step 2: Accumulate all elements.\n",
        "    for (int si = 1; si < blockDim.x; si *= 2) {\n",
        "        int index = 2 * si * ti;\n",
        "        if (index < blockDim.x) {\n",
        "            partialSum[index] += partialSum[index + si];\n",
        "        }\n",
        "        __syncthreads();\n",
        "    }\n",
        "\n",
        "    // Step 3: Move the sum to the vector.\n",
        "    if (ti == 0) {\n",
        "        vectorSum[blockIdx.x] = partialSum[0];\n",
        "    }\n",
        "}\n",
        "\n",
        "int main() {\n",
        "    // Step 0: Setup the parameters.\n",
        "    int numElements = GRID_DIM_X * BLOCK_DIM_X;\n",
        "    size_t numBytes = sizeof(int) * numElements;\n",
        "\n",
        "    // Step 1: Initialize both the cpu and gpu memories.\n",
        "    int *h_vector = (int*) malloc(numBytes);\n",
        "    int *h_vectorSum = (int*) malloc(numBytes);\n",
        "    std::fill_n(h_vector, numElements, 1);\n",
        "\n",
        "    int *d_vector, *d_vectorSum;\n",
        "    cudaMalloc(&d_vector, numBytes);\n",
        "    cudaMalloc(&d_vectorSum, numBytes);\n",
        "\n",
        "    // Step 2: Launch the reduce sum kernel function.\n",
        "    cudaMemcpy(d_vector, h_vector, numBytes, cudaMemcpyHostToDevice);\n",
        "\n",
        "    time_t start, end;\n",
        "    time(&start);\n",
        "    reduceSum<<<GRID_DIM_X, BLOCK_DIM_X>>>(d_vector, d_vectorSum);\n",
        "    reduceSum<<<1, BLOCK_DIM_X>>>(d_vectorSum, d_vectorSum);\n",
        "    time(&end);\n",
        "    printf(\"Time taken is %f seconds.\\n\", difftime(end, start));\n",
        "\n",
        "    cudaMemcpy(h_vectorSum, d_vectorSum, numBytes, cudaMemcpyDeviceToHost);\n",
        "\n",
        "    printf(\"Accumulated result is %d.\\n\", h_vectorSum[0]);\n",
        "\n",
        "    // Step 3: Clear allocated memories.\n",
        "    free(h_vector);\n",
        "    free(h_vectorSum);\n",
        "    cudaFree(d_vector);\n",
        "    cudaFree(d_vectorSum);\n",
        "\n",
        "    printf(\"Success!\");\n",
        "    return 0;\n",
        "}"
      ],
      "metadata": {
        "colab": {
          "base_uri": "https://localhost:8080/"
        },
        "id": "0t5aIdgMvPqq",
        "outputId": "5b3b0737-f25b-4a07-8950-ff3ede0d7663"
      },
      "execution_count": 23,
      "outputs": [
        {
          "output_type": "stream",
          "name": "stdout",
          "text": [
            "Time taken is 0.000000 seconds.\n",
            "Accumulated result is 65536.\n",
            "Success!\n"
          ]
        }
      ]
    },
    {
      "cell_type": "code",
      "source": [],
      "metadata": {
        "id": "P1LUaZnF0Ai-"
      },
      "execution_count": null,
      "outputs": []
    }
  ]
}