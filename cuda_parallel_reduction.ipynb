{
  "nbformat": 4,
  "nbformat_minor": 0,
  "metadata": {
    "colab": {
      "provenance": [],
      "machine_shape": "hm",
      "gpuType": "A100",
      "authorship_tag": "ABX9TyNf1UmYpd6F12ZVU8Pi8eRZ",
      "include_colab_link": true
    },
    "kernelspec": {
      "name": "python3",
      "display_name": "Python 3"
    },
    "language_info": {
      "name": "python"
    },
    "accelerator": "GPU"
  },
  "cells": [
    {
      "cell_type": "markdown",
      "metadata": {
        "id": "view-in-github",
        "colab_type": "text"
      },
      "source": [
        "<a href=\"https://colab.research.google.com/github/TechDailyNotes/study-notes-cuda/blob/main/cuda_parallel_reduction.ipynb\" target=\"_parent\"><img src=\"https://colab.research.google.com/assets/colab-badge.svg\" alt=\"Open In Colab\"/></a>"
      ]
    },
    {
      "cell_type": "code",
      "execution_count": 1,
      "metadata": {
        "colab": {
          "base_uri": "https://localhost:8080/"
        },
        "id": "pXvBFi2RiMuJ",
        "outputId": "838ca62b-6d7a-401d-e09b-d32130ca10fa"
      },
      "outputs": [
        {
          "output_type": "stream",
          "name": "stdout",
          "text": [
            "nvcc: NVIDIA (R) Cuda compiler driver\n",
            "Copyright (c) 2005-2023 NVIDIA Corporation\n",
            "Built on Tue_Aug_15_22:02:13_PDT_2023\n",
            "Cuda compilation tools, release 12.2, V12.2.140\n",
            "Build cuda_12.2.r12.2/compiler.33191640_0\n",
            "Collecting nvcc4jupyter\n",
            "  Downloading nvcc4jupyter-1.2.1-py3-none-any.whl (10 kB)\n",
            "Installing collected packages: nvcc4jupyter\n",
            "Successfully installed nvcc4jupyter-1.2.1\n",
            "Detected platform \"Colab\". Running its setup...\n",
            "Source files will be saved in \"/tmp/tmpr3ts4owp\".\n"
          ]
        }
      ],
      "source": [
        "!nvcc --version\n",
        "!pip install nvcc4jupyter\n",
        "%load_ext nvcc4jupyter"
      ]
    },
    {
      "cell_type": "markdown",
      "source": [
        "# Chapter 1: CUDA Parallel Reduction"
      ],
      "metadata": {
        "id": "rhHi1_AllhUt"
      }
    },
    {
      "cell_type": "code",
      "source": [
        "%%cuda\n",
        "\n",
        "#include <assert.h>\n",
        "#include <cuda_runtime.h>\n",
        "#include <stdio.h>\n",
        "\n",
        "const int GRID_DIM_X = 1 << 8;\n",
        "const int BLOCK_DIM_X = 1 << 8;\n",
        "\n",
        "__global__ void sumReduce(int *vector, int *vectorSum) {\n",
        "    // Step 0: Get the current thread's index.\n",
        "    int ti = blockIdx.x * blockDim.x + threadIdx.x;\n",
        "\n",
        "    // Step 1: Move elements from memory to cache.\n",
        "    __shared__ int partialSum[BLOCK_DIM_X];\n",
        "    partialSum[threadIdx.x] = vector[ti];\n",
        "    __syncthreads();\n",
        "\n",
        "    // Step 2: Divide and conquer the sum in one block.\n",
        "    for (int si = 1; si < BLOCK_DIM_X; si *= 2) {\n",
        "        if (threadIdx.x % (si * 2) == 0) {\n",
        "            partialSum[threadIdx.x] += partialSum[threadIdx.x + si];\n",
        "        }\n",
        "        __syncthreads();\n",
        "    }\n",
        "\n",
        "    // Step 3: Move the sum from cache to memory.\n",
        "    vectorSum[blockIdx.x] = partialSum[0];\n",
        "}\n",
        "\n",
        "void vectorInit(int *h_vector, int numElements) {\n",
        "    for (int i = 0; i < numElements; i++) {\n",
        "        h_vector[i] = 1;\n",
        "    }\n",
        "}\n",
        "\n",
        "int main() {\n",
        "    // Step 0: Set the number and bytes of the vector.\n",
        "    int numElements = GRID_DIM_X * BLOCK_DIM_X;\n",
        "    size_t numBytes = sizeof(int) * numElements;\n",
        "\n",
        "    // Step 1: Initialize the host and device memories.\n",
        "    int *h_vector = (int*) malloc(numBytes);\n",
        "    int *h_vectorSum = (int*) malloc(numBytes);\n",
        "    vectorInit(h_vector, numElements);\n",
        "\n",
        "    int *d_vector, *d_vectorSum;\n",
        "    cudaMalloc(&d_vector, numBytes);\n",
        "    cudaMalloc(&d_vectorSum, numBytes);\n",
        "\n",
        "    // Step 2: Launch the kernel function to sum up the vector.\n",
        "    cudaMemcpy(d_vector, h_vector, numBytes, cudaMemcpyHostToDevice);\n",
        "    sumReduce<<<GRID_DIM_X, BLOCK_DIM_X>>>(d_vector, d_vectorSum);\n",
        "    sumReduce<<<1, BLOCK_DIM_X>>>(d_vectorSum, d_vectorSum);\n",
        "    cudaMemcpy(h_vectorSum, d_vectorSum, numBytes, cudaMemcpyDeviceToHost);\n",
        "\n",
        "    printf(\"h_vectorSum[0] == %d\\n\", h_vectorSum[0]);\n",
        "    assert(h_vectorSum[0] == 65536);\n",
        "\n",
        "    // Step 3: Clear the allocated memories.\n",
        "    free(h_vector);\n",
        "    free(h_vectorSum);\n",
        "    cudaFree(d_vector);\n",
        "    cudaFree(d_vectorSum);\n",
        "\n",
        "    printf(\"Success!\");\n",
        "    return 0;\n",
        "}"
      ],
      "metadata": {
        "colab": {
          "base_uri": "https://localhost:8080/"
        },
        "id": "sV9IibY_ia77",
        "outputId": "005129f4-cbf8-4af5-c77f-a386e9e19157"
      },
      "execution_count": 5,
      "outputs": [
        {
          "output_type": "stream",
          "name": "stdout",
          "text": [
            "h_vectorSum[0] == 65536\n",
            "Success!\n"
          ]
        }
      ]
    },
    {
      "cell_type": "markdown",
      "source": [
        "## Practice"
      ],
      "metadata": {
        "id": "zCS_QCo6j1we"
      }
    },
    {
      "cell_type": "code",
      "source": [
        "%%cuda\n",
        "\n",
        "#include <cuda_runtime.h>\n",
        "#include <stdio.h>\n",
        "\n",
        "const int GRID_DIM_X = 1 << 8;\n",
        "const int BLOCK_DIM_X = 1 << 8;\n",
        "\n",
        "__global__ void sumReduce(int *d_vector, int *d_vectorSum) {\n",
        "    // Step 0: Get the thread id and element id.\n",
        "\n",
        "    // Step 1: Move elements from the vector to the cache.\n",
        "\n",
        "    // Step 2: Sum all elements in the same block.\n",
        "\n",
        "    // Step 3:\n",
        "}\n",
        "\n",
        "void vectorInit(int *h_vector, int numElements) {\n",
        "    // TODO: Init all vector elements to 1.\n",
        "}\n",
        "\n",
        "int main() {\n",
        "    // Step 0: Set the hyperparameters of vectors.\n",
        "    int numElements = GRID_DIM_X * BLOCK_DIM_X;\n",
        "    size_t numBytes = sizeof(int) * numElements;\n",
        "\n",
        "    // Step 1: Initialize memories for vectors in both the host and device.\n",
        "    int *h_vector = (int*) malloc(numBytes);\n",
        "    int *h_vectorSum = (int*) malloc(numBytes);\n",
        "    vectorInit(h_vector, numElements);\n",
        "\n",
        "    int *d_vector, *d_vectorSum;\n",
        "    cudaMalloc(&d_vector, numBytes);\n",
        "    cudaMalloc(&d_vectorSum, numBytes);\n",
        "\n",
        "    // Step 2: Launch the kernel function to sum up all elements.\n",
        "    cudaMemcpy(d_vector, h_vector, numBytes, cudaMemcpyHostToDevice);\n",
        "    sumReduce<<<GRID_DIM_X, BLOCK_DIM_X>>>(d_vector, d_vectorSum);\n",
        "    sumReduce<<<1, BLOCK_DIM_X>>>(d_vectorSum, d_vectorSum);\n",
        "    cudaMemcpy(h_vectorSum, d_vectorSum, numBytes, cudaMemcpyDeviceToHost);\n",
        "    printf(\"h_vectorSum[0] == %d\\n\", h_vectorSum[0]);\n",
        "\n",
        "    // Step 3: Clear allocated memories.\n",
        "    free(h_vector);\n",
        "    free(h_vectorSum);\n",
        "    cudaFree(d_vector);\n",
        "    cudaFree(d_vectorSum);\n",
        "\n",
        "    printf(\"Success!\");\n",
        "    return 0;\n",
        "}"
      ],
      "metadata": {
        "colab": {
          "base_uri": "https://localhost:8080/"
        },
        "id": "UHhC3uTlj3Iv",
        "outputId": "c4c8a555-905b-459c-9aa8-f5e71d80f7b0"
      },
      "execution_count": 6,
      "outputs": [
        {
          "output_type": "stream",
          "name": "stdout",
          "text": [
            "Success!\n"
          ]
        }
      ]
    }
  ]
}